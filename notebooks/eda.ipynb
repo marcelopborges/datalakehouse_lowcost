{
 "cells": [
  {
   "cell_type": "code",
   "execution_count": 40,
   "id": "initial_id",
   "metadata": {
    "collapsed": true,
    "ExecuteTime": {
     "end_time": "2024-01-11T11:19:40.613450013Z",
     "start_time": "2024-01-11T11:19:40.570892586Z"
    }
   },
   "outputs": [],
   "source": [
    "import os\n",
    "import duckdb\n",
    "import pandas as pd\n",
    "import pyarrow.parquet as pq\n",
    "from dotenv import load_dotenv"
   ]
  },
  {
   "cell_type": "code",
   "outputs": [
    {
     "data": {
      "text/plain": "True"
     },
     "execution_count": 41,
     "metadata": {},
     "output_type": "execute_result"
    }
   ],
   "source": [
    "load_dotenv()"
   ],
   "metadata": {
    "collapsed": false,
    "ExecuteTime": {
     "end_time": "2024-01-11T11:19:41.071450374Z",
     "start_time": "2024-01-11T11:19:40.982427033Z"
    }
   },
   "id": "9c4bb1886b992ae5",
   "execution_count": 41
  },
  {
   "cell_type": "code",
   "outputs": [],
   "source": [
    "conn = duckdb.connect(database=':memory:')"
   ],
   "metadata": {
    "collapsed": false,
    "ExecuteTime": {
     "end_time": "2024-01-11T11:19:41.579254581Z",
     "start_time": "2024-01-11T11:19:41.576477380Z"
    }
   },
   "id": "bd1c7eecbacf925f",
   "execution_count": 42
  },
  {
   "cell_type": "markdown",
   "source": [
    "#### KM rodado"
   ],
   "metadata": {
    "collapsed": false
   },
   "id": "88b94eda56e9f91d"
  },
  {
   "cell_type": "code",
   "outputs": [],
   "source": [
    "km_df = pd.DataFrame()"
   ],
   "metadata": {
    "collapsed": false,
    "ExecuteTime": {
     "end_time": "2024-01-11T11:27:46.076584944Z",
     "start_time": "2024-01-11T11:27:46.013412325Z"
    }
   },
   "id": "ca84385fc463675f",
   "execution_count": 69
  },
  {
   "cell_type": "code",
   "outputs": [],
   "source": [
    "folder_path = '/home/marcelo-borges/Documentos/Projetos/datalakehouse_lowcost/elt/tmp'"
   ],
   "metadata": {
    "collapsed": false,
    "ExecuteTime": {
     "end_time": "2024-01-11T11:27:46.273627357Z",
     "start_time": "2024-01-11T11:27:46.209837272Z"
    }
   },
   "id": "9545e5ebe63f971c",
   "execution_count": 70
  },
  {
   "cell_type": "code",
   "outputs": [],
   "source": [
    "km_df=conn.execute(f\"\"\n",
    "                f\"SELECT * FROM read_parquet('{folder_path}/dna_kmRodado_*.parquet')\"\n",
    "                f\"order by DATA, PREFIXO_CARRO\").fetchdf()"
   ],
   "metadata": {
    "collapsed": false,
    "ExecuteTime": {
     "end_time": "2024-01-11T11:27:47.521970613Z",
     "start_time": "2024-01-11T11:27:46.410174185Z"
    }
   },
   "id": "7e26333452ae58f3",
   "execution_count": 71
  },
  {
   "cell_type": "code",
   "outputs": [
    {
     "data": {
      "text/plain": "       PREFIXO_CARRO ID_EQUIPAMENTO        DATA ID_LINHA DS_TIPO_CHASSI  \\\n597782         20446           8793  29/06/2023     5513        OF-1721   \n459030         20498           8876  22/10/2023     5297        OF-1721   \n233497         20360           1429  12/02/2023     5350     17-230 EOD   \n291260         20086           8178  14/11/2023     5595        OF-1721   \n208426         20444           8790  10/11/2023     5440        OF-1721   \n229485         20028           8101  11/12/2023     5554        OF-1721   \n272995         20344           1386  13/12/2023     5392     17-230 EOD   \n558043         20495           8873  27/07/2023     5263        OF-1721   \n364775         20345           1388  18/04/2023     5097     17-230 EOD   \n609921         20029           8076  30/01/2023     5112        OF-1721   \n\n                 DS_TIPO_MOTOR DS_TIPO_CAMBIO CARRO_AUXILIAR FX_HORARIA  \\\n597782      OM-924-LA.METÁLICO         MANUAL            NAO          5   \n459030      OM-924-LA.METÁLICO         MANUAL            NAO          7   \n233497  MWM 6.12 TCAE-EURO III         MANUAL            NAO          6   \n291260      OM-924-LA.METÁLICO         MANUAL            NAO         12   \n208426      OM-924-LA.METÁLICO         MANUAL            NAO          6   \n229485      OM-924-LA.METÁLICO         MANUAL            NAO          5   \n272995  MWM 6.12 TCAE-EURO III         MANUAL            NAO         21   \n558043      OM-924-LA.METÁLICO         MANUAL            NAO         11   \n364775  MWM 6.12 TCAE-EURO III         MANUAL            NAO          7   \n609921      OM-924-LA.METÁLICO         MANUAL            NAO         19   \n\n       FX_SIGLA          FX_NOME                                  KM_OCIOSA  \\\n597782       PM  2 PICO DA MANHA   1,17684893675780171223418945042805854736   \n459030       PM  2 PICO DA MANHA   8,65866156787762906309751434034416826004   \n233497       PM  2 PICO DA MANHA  ,8422227781599849896804052786290574770153   \n291260       EP     3 ENTRE PICO    6,5190766805539916676049994370003377998   \n208426       PM  2 PICO DA MANHA   8,79845226038118037013166375103581622318   \n229485       PM  2 PICO DA MANHA   8,89041606886657101865136298421807747489   \n272995       NT        5 NOTURNO  ,8652300737312308271890640977342446585223   \n558043       EP     3 ENTRE PICO    3,5403149521659679673223691282382027303   \n364775       PM  2 PICO DA MANHA   4,85948488558244655805631415387512948489   \n609921       NT        5 NOTURNO   4,97651529193697868396663577386468952734   \n\n                                     LITROS_LINHA  \\\n597782   6,47020712510356255178127589063794531898   \n459030  14,39724665391969407265774378585086042065   \n233497   18,3122521733691913190318343861404715742   \n291260  16,98979844612093232744060353563787861728   \n208426  16,40576604364239020348034250989779946597   \n229485  20,03221807747489239598278335724533715925   \n272995   9,02534847424788762714600936440449921964   \n558043   14,5768784263140922283134472750725572396   \n364775  17,39702891044354458988605330068744702891   \n609921  18,28035217794253938832252085264133456904   \n\n                                         KM_LINHA ABS_CARRO_KM_TOTAL_DIA  \\\n597782  19,00684893675780171223418945042805854737                    193   \n459030  48,49866156787762906309751434034416826004                    191   \n233497  44,14222277815998498968040527862905747701                    163   \n291260  40,19907668055399166760499943700033779981                    212   \n208426  45,70845226038118037013166375103581622317                    269   \n229485  53,47041606886657101865136298421807747488                    209   \n272995  23,22523007373123082718906409773424465853                    193   \n558043  38,69031495216596796732236912823820273029                    256   \n364775  43,62948488558244655805631415387512948489                    239   \n609921  50,93651529193697868396663577386468952733                    287   \n\n       ABS_CARRO_LITROS_TOTAL_DIA  \n597782                       65,7  \n459030                       56,7  \n233497                      67,62  \n291260                       89,6  \n208426                      96,55  \n229485                       78,3  \n272995                         75  \n558043                      96,45  \n364775                       95,3  \n609921                        103  ",
      "text/html": "<div>\n<style scoped>\n    .dataframe tbody tr th:only-of-type {\n        vertical-align: middle;\n    }\n\n    .dataframe tbody tr th {\n        vertical-align: top;\n    }\n\n    .dataframe thead th {\n        text-align: right;\n    }\n</style>\n<table border=\"1\" class=\"dataframe\">\n  <thead>\n    <tr style=\"text-align: right;\">\n      <th></th>\n      <th>PREFIXO_CARRO</th>\n      <th>ID_EQUIPAMENTO</th>\n      <th>DATA</th>\n      <th>ID_LINHA</th>\n      <th>DS_TIPO_CHASSI</th>\n      <th>DS_TIPO_MOTOR</th>\n      <th>DS_TIPO_CAMBIO</th>\n      <th>CARRO_AUXILIAR</th>\n      <th>FX_HORARIA</th>\n      <th>FX_SIGLA</th>\n      <th>FX_NOME</th>\n      <th>KM_OCIOSA</th>\n      <th>LITROS_LINHA</th>\n      <th>KM_LINHA</th>\n      <th>ABS_CARRO_KM_TOTAL_DIA</th>\n      <th>ABS_CARRO_LITROS_TOTAL_DIA</th>\n    </tr>\n  </thead>\n  <tbody>\n    <tr>\n      <th>597782</th>\n      <td>20446</td>\n      <td>8793</td>\n      <td>29/06/2023</td>\n      <td>5513</td>\n      <td>OF-1721</td>\n      <td>OM-924-LA.METÁLICO</td>\n      <td>MANUAL</td>\n      <td>NAO</td>\n      <td>5</td>\n      <td>PM</td>\n      <td>2 PICO DA MANHA</td>\n      <td>1,17684893675780171223418945042805854736</td>\n      <td>6,47020712510356255178127589063794531898</td>\n      <td>19,00684893675780171223418945042805854737</td>\n      <td>193</td>\n      <td>65,7</td>\n    </tr>\n    <tr>\n      <th>459030</th>\n      <td>20498</td>\n      <td>8876</td>\n      <td>22/10/2023</td>\n      <td>5297</td>\n      <td>OF-1721</td>\n      <td>OM-924-LA.METÁLICO</td>\n      <td>MANUAL</td>\n      <td>NAO</td>\n      <td>7</td>\n      <td>PM</td>\n      <td>2 PICO DA MANHA</td>\n      <td>8,65866156787762906309751434034416826004</td>\n      <td>14,39724665391969407265774378585086042065</td>\n      <td>48,49866156787762906309751434034416826004</td>\n      <td>191</td>\n      <td>56,7</td>\n    </tr>\n    <tr>\n      <th>233497</th>\n      <td>20360</td>\n      <td>1429</td>\n      <td>12/02/2023</td>\n      <td>5350</td>\n      <td>17-230 EOD</td>\n      <td>MWM 6.12 TCAE-EURO III</td>\n      <td>MANUAL</td>\n      <td>NAO</td>\n      <td>6</td>\n      <td>PM</td>\n      <td>2 PICO DA MANHA</td>\n      <td>,8422227781599849896804052786290574770153</td>\n      <td>18,3122521733691913190318343861404715742</td>\n      <td>44,14222277815998498968040527862905747701</td>\n      <td>163</td>\n      <td>67,62</td>\n    </tr>\n    <tr>\n      <th>291260</th>\n      <td>20086</td>\n      <td>8178</td>\n      <td>14/11/2023</td>\n      <td>5595</td>\n      <td>OF-1721</td>\n      <td>OM-924-LA.METÁLICO</td>\n      <td>MANUAL</td>\n      <td>NAO</td>\n      <td>12</td>\n      <td>EP</td>\n      <td>3 ENTRE PICO</td>\n      <td>6,5190766805539916676049994370003377998</td>\n      <td>16,98979844612093232744060353563787861728</td>\n      <td>40,19907668055399166760499943700033779981</td>\n      <td>212</td>\n      <td>89,6</td>\n    </tr>\n    <tr>\n      <th>208426</th>\n      <td>20444</td>\n      <td>8790</td>\n      <td>10/11/2023</td>\n      <td>5440</td>\n      <td>OF-1721</td>\n      <td>OM-924-LA.METÁLICO</td>\n      <td>MANUAL</td>\n      <td>NAO</td>\n      <td>6</td>\n      <td>PM</td>\n      <td>2 PICO DA MANHA</td>\n      <td>8,79845226038118037013166375103581622318</td>\n      <td>16,40576604364239020348034250989779946597</td>\n      <td>45,70845226038118037013166375103581622317</td>\n      <td>269</td>\n      <td>96,55</td>\n    </tr>\n    <tr>\n      <th>229485</th>\n      <td>20028</td>\n      <td>8101</td>\n      <td>11/12/2023</td>\n      <td>5554</td>\n      <td>OF-1721</td>\n      <td>OM-924-LA.METÁLICO</td>\n      <td>MANUAL</td>\n      <td>NAO</td>\n      <td>5</td>\n      <td>PM</td>\n      <td>2 PICO DA MANHA</td>\n      <td>8,89041606886657101865136298421807747489</td>\n      <td>20,03221807747489239598278335724533715925</td>\n      <td>53,47041606886657101865136298421807747488</td>\n      <td>209</td>\n      <td>78,3</td>\n    </tr>\n    <tr>\n      <th>272995</th>\n      <td>20344</td>\n      <td>1386</td>\n      <td>13/12/2023</td>\n      <td>5392</td>\n      <td>17-230 EOD</td>\n      <td>MWM 6.12 TCAE-EURO III</td>\n      <td>MANUAL</td>\n      <td>NAO</td>\n      <td>21</td>\n      <td>NT</td>\n      <td>5 NOTURNO</td>\n      <td>,8652300737312308271890640977342446585223</td>\n      <td>9,02534847424788762714600936440449921964</td>\n      <td>23,22523007373123082718906409773424465853</td>\n      <td>193</td>\n      <td>75</td>\n    </tr>\n    <tr>\n      <th>558043</th>\n      <td>20495</td>\n      <td>8873</td>\n      <td>27/07/2023</td>\n      <td>5263</td>\n      <td>OF-1721</td>\n      <td>OM-924-LA.METÁLICO</td>\n      <td>MANUAL</td>\n      <td>NAO</td>\n      <td>11</td>\n      <td>EP</td>\n      <td>3 ENTRE PICO</td>\n      <td>3,5403149521659679673223691282382027303</td>\n      <td>14,5768784263140922283134472750725572396</td>\n      <td>38,69031495216596796732236912823820273029</td>\n      <td>256</td>\n      <td>96,45</td>\n    </tr>\n    <tr>\n      <th>364775</th>\n      <td>20345</td>\n      <td>1388</td>\n      <td>18/04/2023</td>\n      <td>5097</td>\n      <td>17-230 EOD</td>\n      <td>MWM 6.12 TCAE-EURO III</td>\n      <td>MANUAL</td>\n      <td>NAO</td>\n      <td>7</td>\n      <td>PM</td>\n      <td>2 PICO DA MANHA</td>\n      <td>4,85948488558244655805631415387512948489</td>\n      <td>17,39702891044354458988605330068744702891</td>\n      <td>43,62948488558244655805631415387512948489</td>\n      <td>239</td>\n      <td>95,3</td>\n    </tr>\n    <tr>\n      <th>609921</th>\n      <td>20029</td>\n      <td>8076</td>\n      <td>30/01/2023</td>\n      <td>5112</td>\n      <td>OF-1721</td>\n      <td>OM-924-LA.METÁLICO</td>\n      <td>MANUAL</td>\n      <td>NAO</td>\n      <td>19</td>\n      <td>NT</td>\n      <td>5 NOTURNO</td>\n      <td>4,97651529193697868396663577386468952734</td>\n      <td>18,28035217794253938832252085264133456904</td>\n      <td>50,93651529193697868396663577386468952733</td>\n      <td>287</td>\n      <td>103</td>\n    </tr>\n  </tbody>\n</table>\n</div>"
     },
     "execution_count": 72,
     "metadata": {},
     "output_type": "execute_result"
    }
   ],
   "source": [
    "km_df.sample(10)"
   ],
   "metadata": {
    "collapsed": false,
    "ExecuteTime": {
     "end_time": "2024-01-11T11:27:47.543376461Z",
     "start_time": "2024-01-11T11:27:47.523275074Z"
    }
   },
   "id": "838c945ba0547338",
   "execution_count": 72
  },
  {
   "cell_type": "code",
   "outputs": [
    {
     "data": {
      "text/plain": "Index(['PREFIXO_CARRO', 'ID_EQUIPAMENTO', 'DATA', 'ID_LINHA', 'DS_TIPO_CHASSI',\n       'DS_TIPO_MOTOR', 'DS_TIPO_CAMBIO', 'CARRO_AUXILIAR', 'FX_HORARIA',\n       'FX_SIGLA', 'FX_NOME', 'KM_OCIOSA', 'LITROS_LINHA', 'KM_LINHA',\n       'ABS_CARRO_KM_TOTAL_DIA', 'ABS_CARRO_LITROS_TOTAL_DIA'],\n      dtype='object')"
     },
     "execution_count": 73,
     "metadata": {},
     "output_type": "execute_result"
    }
   ],
   "source": [
    "km_df.columns"
   ],
   "metadata": {
    "collapsed": false,
    "ExecuteTime": {
     "end_time": "2024-01-11T11:27:48.382526355Z",
     "start_time": "2024-01-11T11:27:48.342982353Z"
    }
   },
   "id": "4a3293595fc77509",
   "execution_count": 73
  },
  {
   "cell_type": "markdown",
   "source": [
    "Entender o cenário onde pode ter 1 id_equipamento para mais de 1 prefixo_carro ou vice-versa. Porque em 1 ano isso não ocorreu e mesmo assim, quando forem analisar resultados sempre olharão em nível de prefixo de carro, minha sugestão é tirar o id_equipamento."
   ],
   "metadata": {
    "collapsed": false
   },
   "id": "33ea3eef82f89a06"
  },
  {
   "cell_type": "code",
   "outputs": [],
   "source": [
    "valores_unicos = km_df[['PREFIXO_CARRO', 'ID_EQUIPAMENTO']].drop_duplicates()"
   ],
   "metadata": {
    "collapsed": false,
    "ExecuteTime": {
     "end_time": "2024-01-11T11:27:50.447782752Z",
     "start_time": "2024-01-11T11:27:50.377337387Z"
    }
   },
   "id": "e2d97bc2dd239e2c",
   "execution_count": 74
  },
  {
   "cell_type": "code",
   "outputs": [],
   "source": [
    "km_df.drop(columns=['ID_EQUIPAMENTO'], inplace=True)"
   ],
   "metadata": {
    "collapsed": false,
    "ExecuteTime": {
     "end_time": "2024-01-11T11:27:51.107559154Z",
     "start_time": "2024-01-11T11:27:50.945995205Z"
    }
   },
   "id": "70e6c5f772309f65",
   "execution_count": 75
  },
  {
   "cell_type": "code",
   "outputs": [],
   "source": [
    "carros = km_df[['PREFIXO_CARRO','DS_TIPO_CHASSI', 'DS_TIPO_CAMBIO','DS_TIPO_MOTOR','CARRO_AUXILIAR']].drop_duplicates()"
   ],
   "metadata": {
    "collapsed": false,
    "ExecuteTime": {
     "end_time": "2024-01-11T11:27:51.640584402Z",
     "start_time": "2024-01-11T11:27:51.426122628Z"
    }
   },
   "id": "be584ebfc5e0388b",
   "execution_count": 76
  },
  {
   "cell_type": "code",
   "outputs": [
    {
     "data": {
      "text/plain": "PREFIXO_CARRO     object\nDS_TIPO_CHASSI    object\nDS_TIPO_CAMBIO    object\nDS_TIPO_MOTOR     object\nCARRO_AUXILIAR    object\ndtype: object"
     },
     "execution_count": 118,
     "metadata": {},
     "output_type": "execute_result"
    }
   ],
   "source": [
    "carros"
   ],
   "metadata": {
    "collapsed": false,
    "ExecuteTime": {
     "end_time": "2024-01-11T11:45:01.691033158Z",
     "start_time": "2024-01-11T11:45:01.506728675Z"
    }
   },
   "id": "84b02e167302b5f6",
   "execution_count": 118
  },
  {
   "cell_type": "code",
   "outputs": [
    {
     "ename": "OSError",
     "evalue": "Cannot save file into a non-existent directory: '/home/marcelo-borges/Documentos/Projetos/datalakehouse_lowcost/elt/transmission/dimension'",
     "output_type": "error",
     "traceback": [
      "\u001B[0;31m---------------------------------------------------------------------------\u001B[0m",
      "\u001B[0;31mOSError\u001B[0m                                   Traceback (most recent call last)",
      "Cell \u001B[0;32mIn[78], line 1\u001B[0m\n\u001B[0;32m----> 1\u001B[0m \u001B[43mcarros\u001B[49m\u001B[38;5;241;43m.\u001B[39;49m\u001B[43mto_parquet\u001B[49m\u001B[43m(\u001B[49m\u001B[38;5;124;43m'\u001B[39;49m\u001B[38;5;124;43m/home/marcelo-borges/Documentos/Projetos/datalakehouse_lowcost/elt/transmission/dimension/dim_carro.parquet\u001B[39;49m\u001B[38;5;124;43m'\u001B[39;49m\u001B[43m,\u001B[49m\u001B[43m \u001B[49m\u001B[43mindex\u001B[49m\u001B[38;5;241;43m=\u001B[39;49m\u001B[38;5;28;43;01mFalse\u001B[39;49;00m\u001B[43m)\u001B[49m\n",
      "File \u001B[0;32m~/.cache/pypoetry/virtualenvs/datalakehouse-lowcost-LhbOqF2c-py3.11/lib/python3.11/site-packages/pandas/core/frame.py:2970\u001B[0m, in \u001B[0;36mDataFrame.to_parquet\u001B[0;34m(self, path, engine, compression, index, partition_cols, storage_options, **kwargs)\u001B[0m\n\u001B[1;32m   2882\u001B[0m \u001B[38;5;250m\u001B[39m\u001B[38;5;124;03m\"\"\"\u001B[39;00m\n\u001B[1;32m   2883\u001B[0m \u001B[38;5;124;03mWrite a DataFrame to the binary parquet format.\u001B[39;00m\n\u001B[1;32m   2884\u001B[0m \n\u001B[0;32m   (...)\u001B[0m\n\u001B[1;32m   2966\u001B[0m \u001B[38;5;124;03m>>> content = f.read()\u001B[39;00m\n\u001B[1;32m   2967\u001B[0m \u001B[38;5;124;03m\"\"\"\u001B[39;00m\n\u001B[1;32m   2968\u001B[0m \u001B[38;5;28;01mfrom\u001B[39;00m \u001B[38;5;21;01mpandas\u001B[39;00m\u001B[38;5;21;01m.\u001B[39;00m\u001B[38;5;21;01mio\u001B[39;00m\u001B[38;5;21;01m.\u001B[39;00m\u001B[38;5;21;01mparquet\u001B[39;00m \u001B[38;5;28;01mimport\u001B[39;00m to_parquet\n\u001B[0;32m-> 2970\u001B[0m \u001B[38;5;28;01mreturn\u001B[39;00m \u001B[43mto_parquet\u001B[49m\u001B[43m(\u001B[49m\n\u001B[1;32m   2971\u001B[0m \u001B[43m    \u001B[49m\u001B[38;5;28;43mself\u001B[39;49m\u001B[43m,\u001B[49m\n\u001B[1;32m   2972\u001B[0m \u001B[43m    \u001B[49m\u001B[43mpath\u001B[49m\u001B[43m,\u001B[49m\n\u001B[1;32m   2973\u001B[0m \u001B[43m    \u001B[49m\u001B[43mengine\u001B[49m\u001B[43m,\u001B[49m\n\u001B[1;32m   2974\u001B[0m \u001B[43m    \u001B[49m\u001B[43mcompression\u001B[49m\u001B[38;5;241;43m=\u001B[39;49m\u001B[43mcompression\u001B[49m\u001B[43m,\u001B[49m\n\u001B[1;32m   2975\u001B[0m \u001B[43m    \u001B[49m\u001B[43mindex\u001B[49m\u001B[38;5;241;43m=\u001B[39;49m\u001B[43mindex\u001B[49m\u001B[43m,\u001B[49m\n\u001B[1;32m   2976\u001B[0m \u001B[43m    \u001B[49m\u001B[43mpartition_cols\u001B[49m\u001B[38;5;241;43m=\u001B[39;49m\u001B[43mpartition_cols\u001B[49m\u001B[43m,\u001B[49m\n\u001B[1;32m   2977\u001B[0m \u001B[43m    \u001B[49m\u001B[43mstorage_options\u001B[49m\u001B[38;5;241;43m=\u001B[39;49m\u001B[43mstorage_options\u001B[49m\u001B[43m,\u001B[49m\n\u001B[1;32m   2978\u001B[0m \u001B[43m    \u001B[49m\u001B[38;5;241;43m*\u001B[39;49m\u001B[38;5;241;43m*\u001B[39;49m\u001B[43mkwargs\u001B[49m\u001B[43m,\u001B[49m\n\u001B[1;32m   2979\u001B[0m \u001B[43m\u001B[49m\u001B[43m)\u001B[49m\n",
      "File \u001B[0;32m~/.cache/pypoetry/virtualenvs/datalakehouse-lowcost-LhbOqF2c-py3.11/lib/python3.11/site-packages/pandas/io/parquet.py:483\u001B[0m, in \u001B[0;36mto_parquet\u001B[0;34m(df, path, engine, compression, index, storage_options, partition_cols, filesystem, **kwargs)\u001B[0m\n\u001B[1;32m    479\u001B[0m impl \u001B[38;5;241m=\u001B[39m get_engine(engine)\n\u001B[1;32m    481\u001B[0m path_or_buf: FilePath \u001B[38;5;241m|\u001B[39m WriteBuffer[\u001B[38;5;28mbytes\u001B[39m] \u001B[38;5;241m=\u001B[39m io\u001B[38;5;241m.\u001B[39mBytesIO() \u001B[38;5;28;01mif\u001B[39;00m path \u001B[38;5;129;01mis\u001B[39;00m \u001B[38;5;28;01mNone\u001B[39;00m \u001B[38;5;28;01melse\u001B[39;00m path\n\u001B[0;32m--> 483\u001B[0m \u001B[43mimpl\u001B[49m\u001B[38;5;241;43m.\u001B[39;49m\u001B[43mwrite\u001B[49m\u001B[43m(\u001B[49m\n\u001B[1;32m    484\u001B[0m \u001B[43m    \u001B[49m\u001B[43mdf\u001B[49m\u001B[43m,\u001B[49m\n\u001B[1;32m    485\u001B[0m \u001B[43m    \u001B[49m\u001B[43mpath_or_buf\u001B[49m\u001B[43m,\u001B[49m\n\u001B[1;32m    486\u001B[0m \u001B[43m    \u001B[49m\u001B[43mcompression\u001B[49m\u001B[38;5;241;43m=\u001B[39;49m\u001B[43mcompression\u001B[49m\u001B[43m,\u001B[49m\n\u001B[1;32m    487\u001B[0m \u001B[43m    \u001B[49m\u001B[43mindex\u001B[49m\u001B[38;5;241;43m=\u001B[39;49m\u001B[43mindex\u001B[49m\u001B[43m,\u001B[49m\n\u001B[1;32m    488\u001B[0m \u001B[43m    \u001B[49m\u001B[43mpartition_cols\u001B[49m\u001B[38;5;241;43m=\u001B[39;49m\u001B[43mpartition_cols\u001B[49m\u001B[43m,\u001B[49m\n\u001B[1;32m    489\u001B[0m \u001B[43m    \u001B[49m\u001B[43mstorage_options\u001B[49m\u001B[38;5;241;43m=\u001B[39;49m\u001B[43mstorage_options\u001B[49m\u001B[43m,\u001B[49m\n\u001B[1;32m    490\u001B[0m \u001B[43m    \u001B[49m\u001B[43mfilesystem\u001B[49m\u001B[38;5;241;43m=\u001B[39;49m\u001B[43mfilesystem\u001B[49m\u001B[43m,\u001B[49m\n\u001B[1;32m    491\u001B[0m \u001B[43m    \u001B[49m\u001B[38;5;241;43m*\u001B[39;49m\u001B[38;5;241;43m*\u001B[39;49m\u001B[43mkwargs\u001B[49m\u001B[43m,\u001B[49m\n\u001B[1;32m    492\u001B[0m \u001B[43m\u001B[49m\u001B[43m)\u001B[49m\n\u001B[1;32m    494\u001B[0m \u001B[38;5;28;01mif\u001B[39;00m path \u001B[38;5;129;01mis\u001B[39;00m \u001B[38;5;28;01mNone\u001B[39;00m:\n\u001B[1;32m    495\u001B[0m     \u001B[38;5;28;01massert\u001B[39;00m \u001B[38;5;28misinstance\u001B[39m(path_or_buf, io\u001B[38;5;241m.\u001B[39mBytesIO)\n",
      "File \u001B[0;32m~/.cache/pypoetry/virtualenvs/datalakehouse-lowcost-LhbOqF2c-py3.11/lib/python3.11/site-packages/pandas/io/parquet.py:197\u001B[0m, in \u001B[0;36mPyArrowImpl.write\u001B[0;34m(self, df, path, compression, index, storage_options, partition_cols, filesystem, **kwargs)\u001B[0m\n\u001B[1;32m    194\u001B[0m     merged_metadata \u001B[38;5;241m=\u001B[39m {\u001B[38;5;241m*\u001B[39m\u001B[38;5;241m*\u001B[39mexisting_metadata, \u001B[38;5;241m*\u001B[39m\u001B[38;5;241m*\u001B[39mdf_metadata}\n\u001B[1;32m    195\u001B[0m     table \u001B[38;5;241m=\u001B[39m table\u001B[38;5;241m.\u001B[39mreplace_schema_metadata(merged_metadata)\n\u001B[0;32m--> 197\u001B[0m path_or_handle, handles, filesystem \u001B[38;5;241m=\u001B[39m \u001B[43m_get_path_or_handle\u001B[49m\u001B[43m(\u001B[49m\n\u001B[1;32m    198\u001B[0m \u001B[43m    \u001B[49m\u001B[43mpath\u001B[49m\u001B[43m,\u001B[49m\n\u001B[1;32m    199\u001B[0m \u001B[43m    \u001B[49m\u001B[43mfilesystem\u001B[49m\u001B[43m,\u001B[49m\n\u001B[1;32m    200\u001B[0m \u001B[43m    \u001B[49m\u001B[43mstorage_options\u001B[49m\u001B[38;5;241;43m=\u001B[39;49m\u001B[43mstorage_options\u001B[49m\u001B[43m,\u001B[49m\n\u001B[1;32m    201\u001B[0m \u001B[43m    \u001B[49m\u001B[43mmode\u001B[49m\u001B[38;5;241;43m=\u001B[39;49m\u001B[38;5;124;43m\"\u001B[39;49m\u001B[38;5;124;43mwb\u001B[39;49m\u001B[38;5;124;43m\"\u001B[39;49m\u001B[43m,\u001B[49m\n\u001B[1;32m    202\u001B[0m \u001B[43m    \u001B[49m\u001B[43mis_dir\u001B[49m\u001B[38;5;241;43m=\u001B[39;49m\u001B[43mpartition_cols\u001B[49m\u001B[43m \u001B[49m\u001B[38;5;129;43;01mis\u001B[39;49;00m\u001B[43m \u001B[49m\u001B[38;5;129;43;01mnot\u001B[39;49;00m\u001B[43m \u001B[49m\u001B[38;5;28;43;01mNone\u001B[39;49;00m\u001B[43m,\u001B[49m\n\u001B[1;32m    203\u001B[0m \u001B[43m\u001B[49m\u001B[43m)\u001B[49m\n\u001B[1;32m    204\u001B[0m \u001B[38;5;28;01mif\u001B[39;00m (\n\u001B[1;32m    205\u001B[0m     \u001B[38;5;28misinstance\u001B[39m(path_or_handle, io\u001B[38;5;241m.\u001B[39mBufferedWriter)\n\u001B[1;32m    206\u001B[0m     \u001B[38;5;129;01mand\u001B[39;00m \u001B[38;5;28mhasattr\u001B[39m(path_or_handle, \u001B[38;5;124m\"\u001B[39m\u001B[38;5;124mname\u001B[39m\u001B[38;5;124m\"\u001B[39m)\n\u001B[1;32m    207\u001B[0m     \u001B[38;5;129;01mand\u001B[39;00m \u001B[38;5;28misinstance\u001B[39m(path_or_handle\u001B[38;5;241m.\u001B[39mname, (\u001B[38;5;28mstr\u001B[39m, \u001B[38;5;28mbytes\u001B[39m))\n\u001B[1;32m    208\u001B[0m ):\n\u001B[1;32m    209\u001B[0m     path_or_handle \u001B[38;5;241m=\u001B[39m path_or_handle\u001B[38;5;241m.\u001B[39mname\n",
      "File \u001B[0;32m~/.cache/pypoetry/virtualenvs/datalakehouse-lowcost-LhbOqF2c-py3.11/lib/python3.11/site-packages/pandas/io/parquet.py:139\u001B[0m, in \u001B[0;36m_get_path_or_handle\u001B[0;34m(path, fs, storage_options, mode, is_dir)\u001B[0m\n\u001B[1;32m    129\u001B[0m handles \u001B[38;5;241m=\u001B[39m \u001B[38;5;28;01mNone\u001B[39;00m\n\u001B[1;32m    130\u001B[0m \u001B[38;5;28;01mif\u001B[39;00m (\n\u001B[1;32m    131\u001B[0m     \u001B[38;5;129;01mnot\u001B[39;00m fs\n\u001B[1;32m    132\u001B[0m     \u001B[38;5;129;01mand\u001B[39;00m \u001B[38;5;129;01mnot\u001B[39;00m is_dir\n\u001B[0;32m   (...)\u001B[0m\n\u001B[1;32m    137\u001B[0m     \u001B[38;5;66;03m# fsspec resources can also point to directories\u001B[39;00m\n\u001B[1;32m    138\u001B[0m     \u001B[38;5;66;03m# this branch is used for example when reading from non-fsspec URLs\u001B[39;00m\n\u001B[0;32m--> 139\u001B[0m     handles \u001B[38;5;241m=\u001B[39m \u001B[43mget_handle\u001B[49m\u001B[43m(\u001B[49m\n\u001B[1;32m    140\u001B[0m \u001B[43m        \u001B[49m\u001B[43mpath_or_handle\u001B[49m\u001B[43m,\u001B[49m\u001B[43m \u001B[49m\u001B[43mmode\u001B[49m\u001B[43m,\u001B[49m\u001B[43m \u001B[49m\u001B[43mis_text\u001B[49m\u001B[38;5;241;43m=\u001B[39;49m\u001B[38;5;28;43;01mFalse\u001B[39;49;00m\u001B[43m,\u001B[49m\u001B[43m \u001B[49m\u001B[43mstorage_options\u001B[49m\u001B[38;5;241;43m=\u001B[39;49m\u001B[43mstorage_options\u001B[49m\n\u001B[1;32m    141\u001B[0m \u001B[43m    \u001B[49m\u001B[43m)\u001B[49m\n\u001B[1;32m    142\u001B[0m     fs \u001B[38;5;241m=\u001B[39m \u001B[38;5;28;01mNone\u001B[39;00m\n\u001B[1;32m    143\u001B[0m     path_or_handle \u001B[38;5;241m=\u001B[39m handles\u001B[38;5;241m.\u001B[39mhandle\n",
      "File \u001B[0;32m~/.cache/pypoetry/virtualenvs/datalakehouse-lowcost-LhbOqF2c-py3.11/lib/python3.11/site-packages/pandas/io/common.py:739\u001B[0m, in \u001B[0;36mget_handle\u001B[0;34m(path_or_buf, mode, encoding, compression, memory_map, is_text, errors, storage_options)\u001B[0m\n\u001B[1;32m    737\u001B[0m \u001B[38;5;66;03m# Only for write methods\u001B[39;00m\n\u001B[1;32m    738\u001B[0m \u001B[38;5;28;01mif\u001B[39;00m \u001B[38;5;124m\"\u001B[39m\u001B[38;5;124mr\u001B[39m\u001B[38;5;124m\"\u001B[39m \u001B[38;5;129;01mnot\u001B[39;00m \u001B[38;5;129;01min\u001B[39;00m mode \u001B[38;5;129;01mand\u001B[39;00m is_path:\n\u001B[0;32m--> 739\u001B[0m     \u001B[43mcheck_parent_directory\u001B[49m\u001B[43m(\u001B[49m\u001B[38;5;28;43mstr\u001B[39;49m\u001B[43m(\u001B[49m\u001B[43mhandle\u001B[49m\u001B[43m)\u001B[49m\u001B[43m)\u001B[49m\n\u001B[1;32m    741\u001B[0m \u001B[38;5;28;01mif\u001B[39;00m compression:\n\u001B[1;32m    742\u001B[0m     \u001B[38;5;28;01mif\u001B[39;00m compression \u001B[38;5;241m!=\u001B[39m \u001B[38;5;124m\"\u001B[39m\u001B[38;5;124mzstd\u001B[39m\u001B[38;5;124m\"\u001B[39m:\n\u001B[1;32m    743\u001B[0m         \u001B[38;5;66;03m# compression libraries do not like an explicit text-mode\u001B[39;00m\n",
      "File \u001B[0;32m~/.cache/pypoetry/virtualenvs/datalakehouse-lowcost-LhbOqF2c-py3.11/lib/python3.11/site-packages/pandas/io/common.py:604\u001B[0m, in \u001B[0;36mcheck_parent_directory\u001B[0;34m(path)\u001B[0m\n\u001B[1;32m    602\u001B[0m parent \u001B[38;5;241m=\u001B[39m Path(path)\u001B[38;5;241m.\u001B[39mparent\n\u001B[1;32m    603\u001B[0m \u001B[38;5;28;01mif\u001B[39;00m \u001B[38;5;129;01mnot\u001B[39;00m parent\u001B[38;5;241m.\u001B[39mis_dir():\n\u001B[0;32m--> 604\u001B[0m     \u001B[38;5;28;01mraise\u001B[39;00m \u001B[38;5;167;01mOSError\u001B[39;00m(\u001B[38;5;124mrf\u001B[39m\u001B[38;5;124m\"\u001B[39m\u001B[38;5;124mCannot save file into a non-existent directory: \u001B[39m\u001B[38;5;124m'\u001B[39m\u001B[38;5;132;01m{\u001B[39;00mparent\u001B[38;5;132;01m}\u001B[39;00m\u001B[38;5;124m'\u001B[39m\u001B[38;5;124m\"\u001B[39m)\n",
      "\u001B[0;31mOSError\u001B[0m: Cannot save file into a non-existent directory: '/home/marcelo-borges/Documentos/Projetos/datalakehouse_lowcost/elt/transmission/dimension'"
     ]
    }
   ],
   "source": [
    "carros.to_parquet('/home/marcelo-borges/Documentos/Projetos/datalakehouse_lowcost/elt/transmission/dimension/dim_carro.parquet', index=False)"
   ],
   "metadata": {
    "collapsed": false,
    "ExecuteTime": {
     "end_time": "2024-01-11T11:27:53.925500002Z",
     "start_time": "2024-01-11T11:27:53.882007896Z"
    }
   },
   "id": "d61ea4b4542f73d2",
   "execution_count": 78
  },
  {
   "cell_type": "code",
   "outputs": [],
   "source": [
    "km_df.drop(columns=['DS_TIPO_CHASSI', 'DS_TIPO_CAMBIO','CARRO_AUXILIAR','DS_TIPO_MOTOR'], inplace=True)"
   ],
   "metadata": {
    "collapsed": false,
    "ExecuteTime": {
     "end_time": "2024-01-11T11:27:55.216403942Z",
     "start_time": "2024-01-11T11:27:55.214499730Z"
    }
   },
   "id": "b63687e2bcb925bd",
   "execution_count": 79
  },
  {
   "cell_type": "markdown",
   "source": [
    "exclusão das colunas ABS_CARRO_KM_TOTAL E ABS_CARRO_LITROS, pois são valores repetidos obtidos pelo agrupamento das colunas LITROS_LINHA E KM_LINHA"
   ],
   "metadata": {
    "collapsed": false
   },
   "id": "eaecabffe6f44a6f"
  },
  {
   "cell_type": "code",
   "outputs": [],
   "source": [
    "km_df.drop(columns=['ABS_CARRO_KM_TOTAL_DIA', 'ABS_CARRO_LITROS_TOTAL_DIA'], inplace=True)"
   ],
   "metadata": {
    "collapsed": false,
    "ExecuteTime": {
     "end_time": "2024-01-11T11:27:55.953589335Z",
     "start_time": "2024-01-11T11:27:55.895963040Z"
    }
   },
   "id": "a3b6c1875251bbf1",
   "execution_count": 80
  },
  {
   "cell_type": "markdown",
   "source": [
    "criação da tabela de horário e exclusão de informações redundantes"
   ],
   "metadata": {
    "collapsed": false
   },
   "id": "2616010bddb36de2"
  },
  {
   "cell_type": "code",
   "outputs": [],
   "source": [
    "horarios = km_df[['FX_HORARIA','FX_SIGLA','FX_NOME']].drop_duplicates()"
   ],
   "metadata": {
    "collapsed": false,
    "ExecuteTime": {
     "end_time": "2024-01-11T11:27:57.397455717Z",
     "start_time": "2024-01-11T11:27:57.253731959Z"
    }
   },
   "id": "818197311a9107c8",
   "execution_count": 81
  },
  {
   "cell_type": "code",
   "outputs": [
    {
     "ename": "OSError",
     "evalue": "Cannot save file into a non-existent directory: '/home/marcelo-borges/Documentos/Projetos/datalakehouse_lowcost/elt/transmission/dimension'",
     "output_type": "error",
     "traceback": [
      "\u001B[0;31m---------------------------------------------------------------------------\u001B[0m",
      "\u001B[0;31mOSError\u001B[0m                                   Traceback (most recent call last)",
      "Cell \u001B[0;32mIn[82], line 1\u001B[0m\n\u001B[0;32m----> 1\u001B[0m \u001B[43mhorarios\u001B[49m\u001B[38;5;241;43m.\u001B[39;49m\u001B[43mto_parquet\u001B[49m\u001B[43m(\u001B[49m\u001B[38;5;124;43m'\u001B[39;49m\u001B[38;5;124;43m/home/marcelo-borges/Documentos/Projetos/datalakehouse_lowcost/elt/transmission/dimension/dim_horario.parquet\u001B[39;49m\u001B[38;5;124;43m'\u001B[39;49m\u001B[43m,\u001B[49m\u001B[43m \u001B[49m\u001B[43mindex\u001B[49m\u001B[38;5;241;43m=\u001B[39;49m\u001B[38;5;28;43;01mFalse\u001B[39;49;00m\u001B[43m)\u001B[49m\n",
      "File \u001B[0;32m~/.cache/pypoetry/virtualenvs/datalakehouse-lowcost-LhbOqF2c-py3.11/lib/python3.11/site-packages/pandas/core/frame.py:2970\u001B[0m, in \u001B[0;36mDataFrame.to_parquet\u001B[0;34m(self, path, engine, compression, index, partition_cols, storage_options, **kwargs)\u001B[0m\n\u001B[1;32m   2882\u001B[0m \u001B[38;5;250m\u001B[39m\u001B[38;5;124;03m\"\"\"\u001B[39;00m\n\u001B[1;32m   2883\u001B[0m \u001B[38;5;124;03mWrite a DataFrame to the binary parquet format.\u001B[39;00m\n\u001B[1;32m   2884\u001B[0m \n\u001B[0;32m   (...)\u001B[0m\n\u001B[1;32m   2966\u001B[0m \u001B[38;5;124;03m>>> content = f.read()\u001B[39;00m\n\u001B[1;32m   2967\u001B[0m \u001B[38;5;124;03m\"\"\"\u001B[39;00m\n\u001B[1;32m   2968\u001B[0m \u001B[38;5;28;01mfrom\u001B[39;00m \u001B[38;5;21;01mpandas\u001B[39;00m\u001B[38;5;21;01m.\u001B[39;00m\u001B[38;5;21;01mio\u001B[39;00m\u001B[38;5;21;01m.\u001B[39;00m\u001B[38;5;21;01mparquet\u001B[39;00m \u001B[38;5;28;01mimport\u001B[39;00m to_parquet\n\u001B[0;32m-> 2970\u001B[0m \u001B[38;5;28;01mreturn\u001B[39;00m \u001B[43mto_parquet\u001B[49m\u001B[43m(\u001B[49m\n\u001B[1;32m   2971\u001B[0m \u001B[43m    \u001B[49m\u001B[38;5;28;43mself\u001B[39;49m\u001B[43m,\u001B[49m\n\u001B[1;32m   2972\u001B[0m \u001B[43m    \u001B[49m\u001B[43mpath\u001B[49m\u001B[43m,\u001B[49m\n\u001B[1;32m   2973\u001B[0m \u001B[43m    \u001B[49m\u001B[43mengine\u001B[49m\u001B[43m,\u001B[49m\n\u001B[1;32m   2974\u001B[0m \u001B[43m    \u001B[49m\u001B[43mcompression\u001B[49m\u001B[38;5;241;43m=\u001B[39;49m\u001B[43mcompression\u001B[49m\u001B[43m,\u001B[49m\n\u001B[1;32m   2975\u001B[0m \u001B[43m    \u001B[49m\u001B[43mindex\u001B[49m\u001B[38;5;241;43m=\u001B[39;49m\u001B[43mindex\u001B[49m\u001B[43m,\u001B[49m\n\u001B[1;32m   2976\u001B[0m \u001B[43m    \u001B[49m\u001B[43mpartition_cols\u001B[49m\u001B[38;5;241;43m=\u001B[39;49m\u001B[43mpartition_cols\u001B[49m\u001B[43m,\u001B[49m\n\u001B[1;32m   2977\u001B[0m \u001B[43m    \u001B[49m\u001B[43mstorage_options\u001B[49m\u001B[38;5;241;43m=\u001B[39;49m\u001B[43mstorage_options\u001B[49m\u001B[43m,\u001B[49m\n\u001B[1;32m   2978\u001B[0m \u001B[43m    \u001B[49m\u001B[38;5;241;43m*\u001B[39;49m\u001B[38;5;241;43m*\u001B[39;49m\u001B[43mkwargs\u001B[49m\u001B[43m,\u001B[49m\n\u001B[1;32m   2979\u001B[0m \u001B[43m\u001B[49m\u001B[43m)\u001B[49m\n",
      "File \u001B[0;32m~/.cache/pypoetry/virtualenvs/datalakehouse-lowcost-LhbOqF2c-py3.11/lib/python3.11/site-packages/pandas/io/parquet.py:483\u001B[0m, in \u001B[0;36mto_parquet\u001B[0;34m(df, path, engine, compression, index, storage_options, partition_cols, filesystem, **kwargs)\u001B[0m\n\u001B[1;32m    479\u001B[0m impl \u001B[38;5;241m=\u001B[39m get_engine(engine)\n\u001B[1;32m    481\u001B[0m path_or_buf: FilePath \u001B[38;5;241m|\u001B[39m WriteBuffer[\u001B[38;5;28mbytes\u001B[39m] \u001B[38;5;241m=\u001B[39m io\u001B[38;5;241m.\u001B[39mBytesIO() \u001B[38;5;28;01mif\u001B[39;00m path \u001B[38;5;129;01mis\u001B[39;00m \u001B[38;5;28;01mNone\u001B[39;00m \u001B[38;5;28;01melse\u001B[39;00m path\n\u001B[0;32m--> 483\u001B[0m \u001B[43mimpl\u001B[49m\u001B[38;5;241;43m.\u001B[39;49m\u001B[43mwrite\u001B[49m\u001B[43m(\u001B[49m\n\u001B[1;32m    484\u001B[0m \u001B[43m    \u001B[49m\u001B[43mdf\u001B[49m\u001B[43m,\u001B[49m\n\u001B[1;32m    485\u001B[0m \u001B[43m    \u001B[49m\u001B[43mpath_or_buf\u001B[49m\u001B[43m,\u001B[49m\n\u001B[1;32m    486\u001B[0m \u001B[43m    \u001B[49m\u001B[43mcompression\u001B[49m\u001B[38;5;241;43m=\u001B[39;49m\u001B[43mcompression\u001B[49m\u001B[43m,\u001B[49m\n\u001B[1;32m    487\u001B[0m \u001B[43m    \u001B[49m\u001B[43mindex\u001B[49m\u001B[38;5;241;43m=\u001B[39;49m\u001B[43mindex\u001B[49m\u001B[43m,\u001B[49m\n\u001B[1;32m    488\u001B[0m \u001B[43m    \u001B[49m\u001B[43mpartition_cols\u001B[49m\u001B[38;5;241;43m=\u001B[39;49m\u001B[43mpartition_cols\u001B[49m\u001B[43m,\u001B[49m\n\u001B[1;32m    489\u001B[0m \u001B[43m    \u001B[49m\u001B[43mstorage_options\u001B[49m\u001B[38;5;241;43m=\u001B[39;49m\u001B[43mstorage_options\u001B[49m\u001B[43m,\u001B[49m\n\u001B[1;32m    490\u001B[0m \u001B[43m    \u001B[49m\u001B[43mfilesystem\u001B[49m\u001B[38;5;241;43m=\u001B[39;49m\u001B[43mfilesystem\u001B[49m\u001B[43m,\u001B[49m\n\u001B[1;32m    491\u001B[0m \u001B[43m    \u001B[49m\u001B[38;5;241;43m*\u001B[39;49m\u001B[38;5;241;43m*\u001B[39;49m\u001B[43mkwargs\u001B[49m\u001B[43m,\u001B[49m\n\u001B[1;32m    492\u001B[0m \u001B[43m\u001B[49m\u001B[43m)\u001B[49m\n\u001B[1;32m    494\u001B[0m \u001B[38;5;28;01mif\u001B[39;00m path \u001B[38;5;129;01mis\u001B[39;00m \u001B[38;5;28;01mNone\u001B[39;00m:\n\u001B[1;32m    495\u001B[0m     \u001B[38;5;28;01massert\u001B[39;00m \u001B[38;5;28misinstance\u001B[39m(path_or_buf, io\u001B[38;5;241m.\u001B[39mBytesIO)\n",
      "File \u001B[0;32m~/.cache/pypoetry/virtualenvs/datalakehouse-lowcost-LhbOqF2c-py3.11/lib/python3.11/site-packages/pandas/io/parquet.py:197\u001B[0m, in \u001B[0;36mPyArrowImpl.write\u001B[0;34m(self, df, path, compression, index, storage_options, partition_cols, filesystem, **kwargs)\u001B[0m\n\u001B[1;32m    194\u001B[0m     merged_metadata \u001B[38;5;241m=\u001B[39m {\u001B[38;5;241m*\u001B[39m\u001B[38;5;241m*\u001B[39mexisting_metadata, \u001B[38;5;241m*\u001B[39m\u001B[38;5;241m*\u001B[39mdf_metadata}\n\u001B[1;32m    195\u001B[0m     table \u001B[38;5;241m=\u001B[39m table\u001B[38;5;241m.\u001B[39mreplace_schema_metadata(merged_metadata)\n\u001B[0;32m--> 197\u001B[0m path_or_handle, handles, filesystem \u001B[38;5;241m=\u001B[39m \u001B[43m_get_path_or_handle\u001B[49m\u001B[43m(\u001B[49m\n\u001B[1;32m    198\u001B[0m \u001B[43m    \u001B[49m\u001B[43mpath\u001B[49m\u001B[43m,\u001B[49m\n\u001B[1;32m    199\u001B[0m \u001B[43m    \u001B[49m\u001B[43mfilesystem\u001B[49m\u001B[43m,\u001B[49m\n\u001B[1;32m    200\u001B[0m \u001B[43m    \u001B[49m\u001B[43mstorage_options\u001B[49m\u001B[38;5;241;43m=\u001B[39;49m\u001B[43mstorage_options\u001B[49m\u001B[43m,\u001B[49m\n\u001B[1;32m    201\u001B[0m \u001B[43m    \u001B[49m\u001B[43mmode\u001B[49m\u001B[38;5;241;43m=\u001B[39;49m\u001B[38;5;124;43m\"\u001B[39;49m\u001B[38;5;124;43mwb\u001B[39;49m\u001B[38;5;124;43m\"\u001B[39;49m\u001B[43m,\u001B[49m\n\u001B[1;32m    202\u001B[0m \u001B[43m    \u001B[49m\u001B[43mis_dir\u001B[49m\u001B[38;5;241;43m=\u001B[39;49m\u001B[43mpartition_cols\u001B[49m\u001B[43m \u001B[49m\u001B[38;5;129;43;01mis\u001B[39;49;00m\u001B[43m \u001B[49m\u001B[38;5;129;43;01mnot\u001B[39;49;00m\u001B[43m \u001B[49m\u001B[38;5;28;43;01mNone\u001B[39;49;00m\u001B[43m,\u001B[49m\n\u001B[1;32m    203\u001B[0m \u001B[43m\u001B[49m\u001B[43m)\u001B[49m\n\u001B[1;32m    204\u001B[0m \u001B[38;5;28;01mif\u001B[39;00m (\n\u001B[1;32m    205\u001B[0m     \u001B[38;5;28misinstance\u001B[39m(path_or_handle, io\u001B[38;5;241m.\u001B[39mBufferedWriter)\n\u001B[1;32m    206\u001B[0m     \u001B[38;5;129;01mand\u001B[39;00m \u001B[38;5;28mhasattr\u001B[39m(path_or_handle, \u001B[38;5;124m\"\u001B[39m\u001B[38;5;124mname\u001B[39m\u001B[38;5;124m\"\u001B[39m)\n\u001B[1;32m    207\u001B[0m     \u001B[38;5;129;01mand\u001B[39;00m \u001B[38;5;28misinstance\u001B[39m(path_or_handle\u001B[38;5;241m.\u001B[39mname, (\u001B[38;5;28mstr\u001B[39m, \u001B[38;5;28mbytes\u001B[39m))\n\u001B[1;32m    208\u001B[0m ):\n\u001B[1;32m    209\u001B[0m     path_or_handle \u001B[38;5;241m=\u001B[39m path_or_handle\u001B[38;5;241m.\u001B[39mname\n",
      "File \u001B[0;32m~/.cache/pypoetry/virtualenvs/datalakehouse-lowcost-LhbOqF2c-py3.11/lib/python3.11/site-packages/pandas/io/parquet.py:139\u001B[0m, in \u001B[0;36m_get_path_or_handle\u001B[0;34m(path, fs, storage_options, mode, is_dir)\u001B[0m\n\u001B[1;32m    129\u001B[0m handles \u001B[38;5;241m=\u001B[39m \u001B[38;5;28;01mNone\u001B[39;00m\n\u001B[1;32m    130\u001B[0m \u001B[38;5;28;01mif\u001B[39;00m (\n\u001B[1;32m    131\u001B[0m     \u001B[38;5;129;01mnot\u001B[39;00m fs\n\u001B[1;32m    132\u001B[0m     \u001B[38;5;129;01mand\u001B[39;00m \u001B[38;5;129;01mnot\u001B[39;00m is_dir\n\u001B[0;32m   (...)\u001B[0m\n\u001B[1;32m    137\u001B[0m     \u001B[38;5;66;03m# fsspec resources can also point to directories\u001B[39;00m\n\u001B[1;32m    138\u001B[0m     \u001B[38;5;66;03m# this branch is used for example when reading from non-fsspec URLs\u001B[39;00m\n\u001B[0;32m--> 139\u001B[0m     handles \u001B[38;5;241m=\u001B[39m \u001B[43mget_handle\u001B[49m\u001B[43m(\u001B[49m\n\u001B[1;32m    140\u001B[0m \u001B[43m        \u001B[49m\u001B[43mpath_or_handle\u001B[49m\u001B[43m,\u001B[49m\u001B[43m \u001B[49m\u001B[43mmode\u001B[49m\u001B[43m,\u001B[49m\u001B[43m \u001B[49m\u001B[43mis_text\u001B[49m\u001B[38;5;241;43m=\u001B[39;49m\u001B[38;5;28;43;01mFalse\u001B[39;49;00m\u001B[43m,\u001B[49m\u001B[43m \u001B[49m\u001B[43mstorage_options\u001B[49m\u001B[38;5;241;43m=\u001B[39;49m\u001B[43mstorage_options\u001B[49m\n\u001B[1;32m    141\u001B[0m \u001B[43m    \u001B[49m\u001B[43m)\u001B[49m\n\u001B[1;32m    142\u001B[0m     fs \u001B[38;5;241m=\u001B[39m \u001B[38;5;28;01mNone\u001B[39;00m\n\u001B[1;32m    143\u001B[0m     path_or_handle \u001B[38;5;241m=\u001B[39m handles\u001B[38;5;241m.\u001B[39mhandle\n",
      "File \u001B[0;32m~/.cache/pypoetry/virtualenvs/datalakehouse-lowcost-LhbOqF2c-py3.11/lib/python3.11/site-packages/pandas/io/common.py:739\u001B[0m, in \u001B[0;36mget_handle\u001B[0;34m(path_or_buf, mode, encoding, compression, memory_map, is_text, errors, storage_options)\u001B[0m\n\u001B[1;32m    737\u001B[0m \u001B[38;5;66;03m# Only for write methods\u001B[39;00m\n\u001B[1;32m    738\u001B[0m \u001B[38;5;28;01mif\u001B[39;00m \u001B[38;5;124m\"\u001B[39m\u001B[38;5;124mr\u001B[39m\u001B[38;5;124m\"\u001B[39m \u001B[38;5;129;01mnot\u001B[39;00m \u001B[38;5;129;01min\u001B[39;00m mode \u001B[38;5;129;01mand\u001B[39;00m is_path:\n\u001B[0;32m--> 739\u001B[0m     \u001B[43mcheck_parent_directory\u001B[49m\u001B[43m(\u001B[49m\u001B[38;5;28;43mstr\u001B[39;49m\u001B[43m(\u001B[49m\u001B[43mhandle\u001B[49m\u001B[43m)\u001B[49m\u001B[43m)\u001B[49m\n\u001B[1;32m    741\u001B[0m \u001B[38;5;28;01mif\u001B[39;00m compression:\n\u001B[1;32m    742\u001B[0m     \u001B[38;5;28;01mif\u001B[39;00m compression \u001B[38;5;241m!=\u001B[39m \u001B[38;5;124m\"\u001B[39m\u001B[38;5;124mzstd\u001B[39m\u001B[38;5;124m\"\u001B[39m:\n\u001B[1;32m    743\u001B[0m         \u001B[38;5;66;03m# compression libraries do not like an explicit text-mode\u001B[39;00m\n",
      "File \u001B[0;32m~/.cache/pypoetry/virtualenvs/datalakehouse-lowcost-LhbOqF2c-py3.11/lib/python3.11/site-packages/pandas/io/common.py:604\u001B[0m, in \u001B[0;36mcheck_parent_directory\u001B[0;34m(path)\u001B[0m\n\u001B[1;32m    602\u001B[0m parent \u001B[38;5;241m=\u001B[39m Path(path)\u001B[38;5;241m.\u001B[39mparent\n\u001B[1;32m    603\u001B[0m \u001B[38;5;28;01mif\u001B[39;00m \u001B[38;5;129;01mnot\u001B[39;00m parent\u001B[38;5;241m.\u001B[39mis_dir():\n\u001B[0;32m--> 604\u001B[0m     \u001B[38;5;28;01mraise\u001B[39;00m \u001B[38;5;167;01mOSError\u001B[39;00m(\u001B[38;5;124mrf\u001B[39m\u001B[38;5;124m\"\u001B[39m\u001B[38;5;124mCannot save file into a non-existent directory: \u001B[39m\u001B[38;5;124m'\u001B[39m\u001B[38;5;132;01m{\u001B[39;00mparent\u001B[38;5;132;01m}\u001B[39;00m\u001B[38;5;124m'\u001B[39m\u001B[38;5;124m\"\u001B[39m)\n",
      "\u001B[0;31mOSError\u001B[0m: Cannot save file into a non-existent directory: '/home/marcelo-borges/Documentos/Projetos/datalakehouse_lowcost/elt/transmission/dimension'"
     ]
    }
   ],
   "source": [
    "horarios.to_parquet('/home/marcelo-borges/Documentos/Projetos/datalakehouse_lowcost/elt/transmission/dimension/dim_horario.parquet', index=False)"
   ],
   "metadata": {
    "collapsed": false,
    "ExecuteTime": {
     "end_time": "2024-01-11T11:27:57.693265305Z",
     "start_time": "2024-01-11T11:27:57.607395143Z"
    }
   },
   "id": "e3c196d7d36228ee",
   "execution_count": 82
  },
  {
   "cell_type": "code",
   "outputs": [],
   "source": [
    "km_df.drop(columns=['FX_SIGLA','FX_NOME'], inplace=True)"
   ],
   "metadata": {
    "collapsed": false,
    "ExecuteTime": {
     "end_time": "2024-01-11T11:27:58.193921920Z",
     "start_time": "2024-01-11T11:27:58.088866245Z"
    }
   },
   "id": "58de1985598824d0",
   "execution_count": 83
  },
  {
   "cell_type": "code",
   "outputs": [
    {
     "data": {
      "text/plain": "      FX_HORARIA FX_SIGLA           FX_NOME\n0             18       PT   4 PICO DA TARDE\n1             15       EP      3 ENTRE PICO\n2             14       EP      3 ENTRE PICO\n3             11       EP      3 ENTRE PICO\n4              6       PM   2 PICO DA MANHA\n5             10       EP      3 ENTRE PICO\n6             20       NT         5 NOTURNO\n7             13       EP      3 ENTRE PICO\n8              5       PM   2 PICO DA MANHA\n9              9       EP      3 ENTRE PICO\n11            16       PT   4 PICO DA TARDE\n12            12       EP      3 ENTRE PICO\n15             4       PP  1 PRE PICO MANHA\n20             7       PM   2 PICO DA MANHA\n23            17       PT   4 PICO DA TARDE\n27             8       EP      3 ENTRE PICO\n41            21       NT         5 NOTURNO\n42            19       NT         5 NOTURNO\n44            22       NT         5 NOTURNO\n45             1       NT         5 NOTURNO\n48             3       PP  1 PRE PICO MANHA\n49             0       NT         5 NOTURNO\n55            23       NT         5 NOTURNO\n114         REAB     REAB              REAB\n19226          2       NT         5 NOTURNO",
      "text/html": "<div>\n<style scoped>\n    .dataframe tbody tr th:only-of-type {\n        vertical-align: middle;\n    }\n\n    .dataframe tbody tr th {\n        vertical-align: top;\n    }\n\n    .dataframe thead th {\n        text-align: right;\n    }\n</style>\n<table border=\"1\" class=\"dataframe\">\n  <thead>\n    <tr style=\"text-align: right;\">\n      <th></th>\n      <th>FX_HORARIA</th>\n      <th>FX_SIGLA</th>\n      <th>FX_NOME</th>\n    </tr>\n  </thead>\n  <tbody>\n    <tr>\n      <th>0</th>\n      <td>18</td>\n      <td>PT</td>\n      <td>4 PICO DA TARDE</td>\n    </tr>\n    <tr>\n      <th>1</th>\n      <td>15</td>\n      <td>EP</td>\n      <td>3 ENTRE PICO</td>\n    </tr>\n    <tr>\n      <th>2</th>\n      <td>14</td>\n      <td>EP</td>\n      <td>3 ENTRE PICO</td>\n    </tr>\n    <tr>\n      <th>3</th>\n      <td>11</td>\n      <td>EP</td>\n      <td>3 ENTRE PICO</td>\n    </tr>\n    <tr>\n      <th>4</th>\n      <td>6</td>\n      <td>PM</td>\n      <td>2 PICO DA MANHA</td>\n    </tr>\n    <tr>\n      <th>5</th>\n      <td>10</td>\n      <td>EP</td>\n      <td>3 ENTRE PICO</td>\n    </tr>\n    <tr>\n      <th>6</th>\n      <td>20</td>\n      <td>NT</td>\n      <td>5 NOTURNO</td>\n    </tr>\n    <tr>\n      <th>7</th>\n      <td>13</td>\n      <td>EP</td>\n      <td>3 ENTRE PICO</td>\n    </tr>\n    <tr>\n      <th>8</th>\n      <td>5</td>\n      <td>PM</td>\n      <td>2 PICO DA MANHA</td>\n    </tr>\n    <tr>\n      <th>9</th>\n      <td>9</td>\n      <td>EP</td>\n      <td>3 ENTRE PICO</td>\n    </tr>\n    <tr>\n      <th>11</th>\n      <td>16</td>\n      <td>PT</td>\n      <td>4 PICO DA TARDE</td>\n    </tr>\n    <tr>\n      <th>12</th>\n      <td>12</td>\n      <td>EP</td>\n      <td>3 ENTRE PICO</td>\n    </tr>\n    <tr>\n      <th>15</th>\n      <td>4</td>\n      <td>PP</td>\n      <td>1 PRE PICO MANHA</td>\n    </tr>\n    <tr>\n      <th>20</th>\n      <td>7</td>\n      <td>PM</td>\n      <td>2 PICO DA MANHA</td>\n    </tr>\n    <tr>\n      <th>23</th>\n      <td>17</td>\n      <td>PT</td>\n      <td>4 PICO DA TARDE</td>\n    </tr>\n    <tr>\n      <th>27</th>\n      <td>8</td>\n      <td>EP</td>\n      <td>3 ENTRE PICO</td>\n    </tr>\n    <tr>\n      <th>41</th>\n      <td>21</td>\n      <td>NT</td>\n      <td>5 NOTURNO</td>\n    </tr>\n    <tr>\n      <th>42</th>\n      <td>19</td>\n      <td>NT</td>\n      <td>5 NOTURNO</td>\n    </tr>\n    <tr>\n      <th>44</th>\n      <td>22</td>\n      <td>NT</td>\n      <td>5 NOTURNO</td>\n    </tr>\n    <tr>\n      <th>45</th>\n      <td>1</td>\n      <td>NT</td>\n      <td>5 NOTURNO</td>\n    </tr>\n    <tr>\n      <th>48</th>\n      <td>3</td>\n      <td>PP</td>\n      <td>1 PRE PICO MANHA</td>\n    </tr>\n    <tr>\n      <th>49</th>\n      <td>0</td>\n      <td>NT</td>\n      <td>5 NOTURNO</td>\n    </tr>\n    <tr>\n      <th>55</th>\n      <td>23</td>\n      <td>NT</td>\n      <td>5 NOTURNO</td>\n    </tr>\n    <tr>\n      <th>114</th>\n      <td>REAB</td>\n      <td>REAB</td>\n      <td>REAB</td>\n    </tr>\n    <tr>\n      <th>19226</th>\n      <td>2</td>\n      <td>NT</td>\n      <td>5 NOTURNO</td>\n    </tr>\n  </tbody>\n</table>\n</div>"
     },
     "execution_count": 84,
     "metadata": {},
     "output_type": "execute_result"
    }
   ],
   "source": [
    "horarios    "
   ],
   "metadata": {
    "collapsed": false,
    "ExecuteTime": {
     "end_time": "2024-01-11T11:27:58.781299890Z",
     "start_time": "2024-01-11T11:27:58.749313593Z"
    }
   },
   "id": "27a591bf8ee88d8e",
   "execution_count": 84
  },
  {
   "cell_type": "markdown",
   "source": [
    "casting"
   ],
   "metadata": {
    "collapsed": false
   },
   "id": "c227c16f28bd30f9"
  },
  {
   "cell_type": "code",
   "outputs": [
    {
     "data": {
      "text/plain": "       PREFIXO_CARRO        DATA ID_LINHA FX_HORARIA  \\\n0              20017  01/01/2023     5274         18   \n1              20017  01/01/2023     5271         15   \n2              20017  01/01/2023     5269         14   \n3              20017  01/01/2023     5269         11   \n4              20017  01/01/2023     5147          6   \n...              ...         ...      ...        ...   \n644537         20552  31/12/2023     5261         12   \n644538         20552  31/12/2023     5265          4   \n644539         20552  31/12/2023     5263         18   \n644540         20552  31/12/2023     5264         10   \n644541         20552  31/12/2023     5264         15   \n\n                                        KM_OCIOSA  \\\n0        1,39773851590106007067137809187279151943   \n1       ,8010278076509448455984022123214011368877   \n2       ,8036472576432631740666769088953756337384   \n3       ,8036472576432631740666769088953756337384   \n4        1,41188354585957904440006145337225380243   \n...                                           ...   \n644537   5,48318488996707676312597470109166522267   \n644538    5,5130497314156991855830878530583954254   \n644539   6,99832784612718766245018194420377750823   \n644540   7,32485011263212614798128573904002772483   \n644541   7,32485011263212614798128573904002772483   \n\n                                     LITROS_LINHA  \\\n0        8,40282685512367491166077738515901060071   \n1        4,81556306652327546474112766938085727454   \n2        4,83131049316331233676447995083730219696   \n3        4,83131049316331233676447995083730219696   \n4        8,48786295897987402058687970502381318175   \n...                                           ...   \n644537  10,61323167561947669381389707156472015249   \n644538  10,67103794836250216600242592271703344308   \n644539  13,54593657944896898284526078669208109513   \n644540  14,17795182810604747877317622595737307226   \n644541  14,17795182810604747877317622595737307226   \n\n                                         KM_LINHA  \n0       28,07773851590106007067137809187279151944  \n1       16,09102780765094484559840221232140113689  \n2       16,14364725764326317406667690889537563375  \n3       16,14364725764326317406667690889537563375  \n4       28,36188354585957904440006145337225380244  \n...                                           ...  \n644537  33,02318488996707676312597470109166522268  \n644538  33,20304973141569918558308785305839542541  \n644539  42,14832784612718766245018194420377750821  \n644540  44,11485011263212614798128573904002772483  \n644541  44,11485011263212614798128573904002772483  \n\n[644542 rows x 7 columns]",
      "text/html": "<div>\n<style scoped>\n    .dataframe tbody tr th:only-of-type {\n        vertical-align: middle;\n    }\n\n    .dataframe tbody tr th {\n        vertical-align: top;\n    }\n\n    .dataframe thead th {\n        text-align: right;\n    }\n</style>\n<table border=\"1\" class=\"dataframe\">\n  <thead>\n    <tr style=\"text-align: right;\">\n      <th></th>\n      <th>PREFIXO_CARRO</th>\n      <th>DATA</th>\n      <th>ID_LINHA</th>\n      <th>FX_HORARIA</th>\n      <th>KM_OCIOSA</th>\n      <th>LITROS_LINHA</th>\n      <th>KM_LINHA</th>\n    </tr>\n  </thead>\n  <tbody>\n    <tr>\n      <th>0</th>\n      <td>20017</td>\n      <td>01/01/2023</td>\n      <td>5274</td>\n      <td>18</td>\n      <td>1,39773851590106007067137809187279151943</td>\n      <td>8,40282685512367491166077738515901060071</td>\n      <td>28,07773851590106007067137809187279151944</td>\n    </tr>\n    <tr>\n      <th>1</th>\n      <td>20017</td>\n      <td>01/01/2023</td>\n      <td>5271</td>\n      <td>15</td>\n      <td>,8010278076509448455984022123214011368877</td>\n      <td>4,81556306652327546474112766938085727454</td>\n      <td>16,09102780765094484559840221232140113689</td>\n    </tr>\n    <tr>\n      <th>2</th>\n      <td>20017</td>\n      <td>01/01/2023</td>\n      <td>5269</td>\n      <td>14</td>\n      <td>,8036472576432631740666769088953756337384</td>\n      <td>4,83131049316331233676447995083730219696</td>\n      <td>16,14364725764326317406667690889537563375</td>\n    </tr>\n    <tr>\n      <th>3</th>\n      <td>20017</td>\n      <td>01/01/2023</td>\n      <td>5269</td>\n      <td>11</td>\n      <td>,8036472576432631740666769088953756337384</td>\n      <td>4,83131049316331233676447995083730219696</td>\n      <td>16,14364725764326317406667690889537563375</td>\n    </tr>\n    <tr>\n      <th>4</th>\n      <td>20017</td>\n      <td>01/01/2023</td>\n      <td>5147</td>\n      <td>6</td>\n      <td>1,41188354585957904440006145337225380243</td>\n      <td>8,48786295897987402058687970502381318175</td>\n      <td>28,36188354585957904440006145337225380244</td>\n    </tr>\n    <tr>\n      <th>...</th>\n      <td>...</td>\n      <td>...</td>\n      <td>...</td>\n      <td>...</td>\n      <td>...</td>\n      <td>...</td>\n      <td>...</td>\n    </tr>\n    <tr>\n      <th>644537</th>\n      <td>20552</td>\n      <td>31/12/2023</td>\n      <td>5261</td>\n      <td>12</td>\n      <td>5,48318488996707676312597470109166522267</td>\n      <td>10,61323167561947669381389707156472015249</td>\n      <td>33,02318488996707676312597470109166522268</td>\n    </tr>\n    <tr>\n      <th>644538</th>\n      <td>20552</td>\n      <td>31/12/2023</td>\n      <td>5265</td>\n      <td>4</td>\n      <td>5,5130497314156991855830878530583954254</td>\n      <td>10,67103794836250216600242592271703344308</td>\n      <td>33,20304973141569918558308785305839542541</td>\n    </tr>\n    <tr>\n      <th>644539</th>\n      <td>20552</td>\n      <td>31/12/2023</td>\n      <td>5263</td>\n      <td>18</td>\n      <td>6,99832784612718766245018194420377750823</td>\n      <td>13,54593657944896898284526078669208109513</td>\n      <td>42,14832784612718766245018194420377750821</td>\n    </tr>\n    <tr>\n      <th>644540</th>\n      <td>20552</td>\n      <td>31/12/2023</td>\n      <td>5264</td>\n      <td>10</td>\n      <td>7,32485011263212614798128573904002772483</td>\n      <td>14,17795182810604747877317622595737307226</td>\n      <td>44,11485011263212614798128573904002772483</td>\n    </tr>\n    <tr>\n      <th>644541</th>\n      <td>20552</td>\n      <td>31/12/2023</td>\n      <td>5264</td>\n      <td>15</td>\n      <td>7,32485011263212614798128573904002772483</td>\n      <td>14,17795182810604747877317622595737307226</td>\n      <td>44,11485011263212614798128573904002772483</td>\n    </tr>\n  </tbody>\n</table>\n<p>644542 rows × 7 columns</p>\n</div>"
     },
     "execution_count": 85,
     "metadata": {},
     "output_type": "execute_result"
    }
   ],
   "source": [
    "km_df"
   ],
   "metadata": {
    "collapsed": false,
    "ExecuteTime": {
     "end_time": "2024-01-11T11:28:02.508881977Z",
     "start_time": "2024-01-11T11:28:02.503295655Z"
    }
   },
   "id": "acea6badd45672ec",
   "execution_count": 85
  },
  {
   "cell_type": "code",
   "outputs": [
    {
     "data": {
      "text/plain": "PREFIXO_CARRO    object\nDATA             object\nID_LINHA         object\nFX_HORARIA       object\nKM_OCIOSA        object\nLITROS_LINHA     object\nKM_LINHA         object\ndtype: object"
     },
     "execution_count": 86,
     "metadata": {},
     "output_type": "execute_result"
    }
   ],
   "source": [
    "km_df.dtypes"
   ],
   "metadata": {
    "collapsed": false,
    "ExecuteTime": {
     "end_time": "2024-01-11T11:28:04.071909507Z",
     "start_time": "2024-01-11T11:28:04.060700391Z"
    }
   },
   "id": "4ec466b89d3cf38a",
   "execution_count": 86
  },
  {
   "cell_type": "code",
   "outputs": [],
   "source": [
    "# km_df['DATA'] = pd.to_datetime(km_df['DATA'], format='%d/%m/%Y')\n",
    "km_df['DATA'] = pd.to_datetime(km_df['DATA'], format='%Y-%m-%d %H:%M:%S')\n",
    "\n",
    "# km_df['DATA'] = km_df['DATA'].dt.strftime('%d/%m/%Y')"
   ],
   "metadata": {
    "collapsed": false,
    "ExecuteTime": {
     "end_time": "2024-01-11T11:33:14.377553387Z",
     "start_time": "2024-01-11T11:33:14.320570901Z"
    }
   },
   "id": "b1585faac874ea77",
   "execution_count": 92
  },
  {
   "cell_type": "code",
   "outputs": [
    {
     "data": {
      "text/plain": "       PREFIXO_CARRO       DATA ID_LINHA FX_HORARIA  \\\n0              20017 2023-01-01     5274         18   \n1              20017 2023-01-01     5271         15   \n2              20017 2023-01-01     5269         14   \n3              20017 2023-01-01     5269         11   \n4              20017 2023-01-01     5147          6   \n...              ...        ...      ...        ...   \n644537         20552 2023-12-31     5261         12   \n644538         20552 2023-12-31     5265          4   \n644539         20552 2023-12-31     5263         18   \n644540         20552 2023-12-31     5264         10   \n644541         20552 2023-12-31     5264         15   \n\n                                        KM_OCIOSA  \\\n0        1,39773851590106007067137809187279151943   \n1       ,8010278076509448455984022123214011368877   \n2       ,8036472576432631740666769088953756337384   \n3       ,8036472576432631740666769088953756337384   \n4        1,41188354585957904440006145337225380243   \n...                                           ...   \n644537   5,48318488996707676312597470109166522267   \n644538    5,5130497314156991855830878530583954254   \n644539   6,99832784612718766245018194420377750823   \n644540   7,32485011263212614798128573904002772483   \n644541   7,32485011263212614798128573904002772483   \n\n                                     LITROS_LINHA  \\\n0        8,40282685512367491166077738515901060071   \n1        4,81556306652327546474112766938085727454   \n2        4,83131049316331233676447995083730219696   \n3        4,83131049316331233676447995083730219696   \n4        8,48786295897987402058687970502381318175   \n...                                           ...   \n644537  10,61323167561947669381389707156472015249   \n644538  10,67103794836250216600242592271703344308   \n644539  13,54593657944896898284526078669208109513   \n644540  14,17795182810604747877317622595737307226   \n644541  14,17795182810604747877317622595737307226   \n\n                                         KM_LINHA  \n0       28,07773851590106007067137809187279151944  \n1       16,09102780765094484559840221232140113689  \n2       16,14364725764326317406667690889537563375  \n3       16,14364725764326317406667690889537563375  \n4       28,36188354585957904440006145337225380244  \n...                                           ...  \n644537  33,02318488996707676312597470109166522268  \n644538  33,20304973141569918558308785305839542541  \n644539  42,14832784612718766245018194420377750821  \n644540  44,11485011263212614798128573904002772483  \n644541  44,11485011263212614798128573904002772483  \n\n[644542 rows x 7 columns]",
      "text/html": "<div>\n<style scoped>\n    .dataframe tbody tr th:only-of-type {\n        vertical-align: middle;\n    }\n\n    .dataframe tbody tr th {\n        vertical-align: top;\n    }\n\n    .dataframe thead th {\n        text-align: right;\n    }\n</style>\n<table border=\"1\" class=\"dataframe\">\n  <thead>\n    <tr style=\"text-align: right;\">\n      <th></th>\n      <th>PREFIXO_CARRO</th>\n      <th>DATA</th>\n      <th>ID_LINHA</th>\n      <th>FX_HORARIA</th>\n      <th>KM_OCIOSA</th>\n      <th>LITROS_LINHA</th>\n      <th>KM_LINHA</th>\n    </tr>\n  </thead>\n  <tbody>\n    <tr>\n      <th>0</th>\n      <td>20017</td>\n      <td>2023-01-01</td>\n      <td>5274</td>\n      <td>18</td>\n      <td>1,39773851590106007067137809187279151943</td>\n      <td>8,40282685512367491166077738515901060071</td>\n      <td>28,07773851590106007067137809187279151944</td>\n    </tr>\n    <tr>\n      <th>1</th>\n      <td>20017</td>\n      <td>2023-01-01</td>\n      <td>5271</td>\n      <td>15</td>\n      <td>,8010278076509448455984022123214011368877</td>\n      <td>4,81556306652327546474112766938085727454</td>\n      <td>16,09102780765094484559840221232140113689</td>\n    </tr>\n    <tr>\n      <th>2</th>\n      <td>20017</td>\n      <td>2023-01-01</td>\n      <td>5269</td>\n      <td>14</td>\n      <td>,8036472576432631740666769088953756337384</td>\n      <td>4,83131049316331233676447995083730219696</td>\n      <td>16,14364725764326317406667690889537563375</td>\n    </tr>\n    <tr>\n      <th>3</th>\n      <td>20017</td>\n      <td>2023-01-01</td>\n      <td>5269</td>\n      <td>11</td>\n      <td>,8036472576432631740666769088953756337384</td>\n      <td>4,83131049316331233676447995083730219696</td>\n      <td>16,14364725764326317406667690889537563375</td>\n    </tr>\n    <tr>\n      <th>4</th>\n      <td>20017</td>\n      <td>2023-01-01</td>\n      <td>5147</td>\n      <td>6</td>\n      <td>1,41188354585957904440006145337225380243</td>\n      <td>8,48786295897987402058687970502381318175</td>\n      <td>28,36188354585957904440006145337225380244</td>\n    </tr>\n    <tr>\n      <th>...</th>\n      <td>...</td>\n      <td>...</td>\n      <td>...</td>\n      <td>...</td>\n      <td>...</td>\n      <td>...</td>\n      <td>...</td>\n    </tr>\n    <tr>\n      <th>644537</th>\n      <td>20552</td>\n      <td>2023-12-31</td>\n      <td>5261</td>\n      <td>12</td>\n      <td>5,48318488996707676312597470109166522267</td>\n      <td>10,61323167561947669381389707156472015249</td>\n      <td>33,02318488996707676312597470109166522268</td>\n    </tr>\n    <tr>\n      <th>644538</th>\n      <td>20552</td>\n      <td>2023-12-31</td>\n      <td>5265</td>\n      <td>4</td>\n      <td>5,5130497314156991855830878530583954254</td>\n      <td>10,67103794836250216600242592271703344308</td>\n      <td>33,20304973141569918558308785305839542541</td>\n    </tr>\n    <tr>\n      <th>644539</th>\n      <td>20552</td>\n      <td>2023-12-31</td>\n      <td>5263</td>\n      <td>18</td>\n      <td>6,99832784612718766245018194420377750823</td>\n      <td>13,54593657944896898284526078669208109513</td>\n      <td>42,14832784612718766245018194420377750821</td>\n    </tr>\n    <tr>\n      <th>644540</th>\n      <td>20552</td>\n      <td>2023-12-31</td>\n      <td>5264</td>\n      <td>10</td>\n      <td>7,32485011263212614798128573904002772483</td>\n      <td>14,17795182810604747877317622595737307226</td>\n      <td>44,11485011263212614798128573904002772483</td>\n    </tr>\n    <tr>\n      <th>644541</th>\n      <td>20552</td>\n      <td>2023-12-31</td>\n      <td>5264</td>\n      <td>15</td>\n      <td>7,32485011263212614798128573904002772483</td>\n      <td>14,17795182810604747877317622595737307226</td>\n      <td>44,11485011263212614798128573904002772483</td>\n    </tr>\n  </tbody>\n</table>\n<p>644542 rows × 7 columns</p>\n</div>"
     },
     "execution_count": 93,
     "metadata": {},
     "output_type": "execute_result"
    }
   ],
   "source": [
    "km_df"
   ],
   "metadata": {
    "collapsed": false,
    "ExecuteTime": {
     "end_time": "2024-01-11T11:33:15.220359684Z",
     "start_time": "2024-01-11T11:33:15.211205178Z"
    }
   },
   "id": "25b1c535d0386d4f",
   "execution_count": 93
  },
  {
   "cell_type": "code",
   "outputs": [],
   "source": [
    "km_df['PREFIXO_CARRO'] = pd.to_numeric(km_df['PREFIXO_CARRO'],downcast='integer')"
   ],
   "metadata": {
    "collapsed": false
   },
   "id": "ba24406547904ae9"
  },
  {
   "cell_type": "code",
   "outputs": [
    {
     "data": {
      "text/plain": "PREFIXO_CARRO            object\nDATA             datetime64[ns]\nID_LINHA                 object\nFX_HORARIA               object\nKM_OCIOSA                object\nLITROS_LINHA             object\nKM_LINHA                 object\ndtype: object"
     },
     "execution_count": 126,
     "metadata": {},
     "output_type": "execute_result"
    }
   ],
   "source": [
    "km_df.dtypes"
   ],
   "metadata": {
    "collapsed": false,
    "ExecuteTime": {
     "end_time": "2024-01-11T13:35:11.288617903Z",
     "start_time": "2024-01-11T13:35:11.269052036Z"
    }
   },
   "id": "882c0cb051b27fcc",
   "execution_count": 126
  },
  {
   "cell_type": "code",
   "outputs": [
    {
     "ename": "ValueError",
     "evalue": "Unable to parse string \"REAB\" at position 114",
     "output_type": "error",
     "traceback": [
      "\u001B[0;31m---------------------------------------------------------------------------\u001B[0m",
      "\u001B[0;31mValueError\u001B[0m                                Traceback (most recent call last)",
      "File \u001B[0;32mlib.pyx:2374\u001B[0m, in \u001B[0;36mpandas._libs.lib.maybe_convert_numeric\u001B[0;34m()\u001B[0m\n",
      "\u001B[0;31mValueError\u001B[0m: Unable to parse string \"REAB\"",
      "\nDuring handling of the above exception, another exception occurred:\n",
      "\u001B[0;31mValueError\u001B[0m                                Traceback (most recent call last)",
      "Cell \u001B[0;32mIn[129], line 1\u001B[0m\n\u001B[0;32m----> 1\u001B[0m km_df[\u001B[38;5;124m'\u001B[39m\u001B[38;5;124mFX_HORARIA\u001B[39m\u001B[38;5;124m'\u001B[39m] \u001B[38;5;241m=\u001B[39m \u001B[43mpd\u001B[49m\u001B[38;5;241;43m.\u001B[39;49m\u001B[43mto_numeric\u001B[49m\u001B[43m(\u001B[49m\u001B[43mkm_df\u001B[49m\u001B[43m[\u001B[49m\u001B[38;5;124;43m'\u001B[39;49m\u001B[38;5;124;43mFX_HORARIA\u001B[39;49m\u001B[38;5;124;43m'\u001B[39;49m\u001B[43m]\u001B[49m\u001B[43m,\u001B[49m\u001B[43mdowncast\u001B[49m\u001B[38;5;241;43m=\u001B[39;49m\u001B[38;5;124;43m'\u001B[39;49m\u001B[38;5;124;43minteger\u001B[39;49m\u001B[38;5;124;43m'\u001B[39;49m\u001B[43m)\u001B[49m\n",
      "File \u001B[0;32m~/.cache/pypoetry/virtualenvs/datalakehouse-lowcost-LhbOqF2c-py3.11/lib/python3.11/site-packages/pandas/core/tools/numeric.py:222\u001B[0m, in \u001B[0;36mto_numeric\u001B[0;34m(arg, errors, downcast, dtype_backend)\u001B[0m\n\u001B[1;32m    220\u001B[0m coerce_numeric \u001B[38;5;241m=\u001B[39m errors \u001B[38;5;129;01mnot\u001B[39;00m \u001B[38;5;129;01min\u001B[39;00m (\u001B[38;5;124m\"\u001B[39m\u001B[38;5;124mignore\u001B[39m\u001B[38;5;124m\"\u001B[39m, \u001B[38;5;124m\"\u001B[39m\u001B[38;5;124mraise\u001B[39m\u001B[38;5;124m\"\u001B[39m)\n\u001B[1;32m    221\u001B[0m \u001B[38;5;28;01mtry\u001B[39;00m:\n\u001B[0;32m--> 222\u001B[0m     values, new_mask \u001B[38;5;241m=\u001B[39m \u001B[43mlib\u001B[49m\u001B[38;5;241;43m.\u001B[39;49m\u001B[43mmaybe_convert_numeric\u001B[49m\u001B[43m(\u001B[49m\u001B[43m  \u001B[49m\u001B[38;5;66;43;03m# type: ignore[call-overload]  # noqa: E501\u001B[39;49;00m\n\u001B[1;32m    223\u001B[0m \u001B[43m        \u001B[49m\u001B[43mvalues\u001B[49m\u001B[43m,\u001B[49m\n\u001B[1;32m    224\u001B[0m \u001B[43m        \u001B[49m\u001B[38;5;28;43mset\u001B[39;49m\u001B[43m(\u001B[49m\u001B[43m)\u001B[49m\u001B[43m,\u001B[49m\n\u001B[1;32m    225\u001B[0m \u001B[43m        \u001B[49m\u001B[43mcoerce_numeric\u001B[49m\u001B[38;5;241;43m=\u001B[39;49m\u001B[43mcoerce_numeric\u001B[49m\u001B[43m,\u001B[49m\n\u001B[1;32m    226\u001B[0m \u001B[43m        \u001B[49m\u001B[43mconvert_to_masked_nullable\u001B[49m\u001B[38;5;241;43m=\u001B[39;49m\u001B[43mdtype_backend\u001B[49m\u001B[43m \u001B[49m\u001B[38;5;129;43;01mis\u001B[39;49;00m\u001B[43m \u001B[49m\u001B[38;5;129;43;01mnot\u001B[39;49;00m\u001B[43m \u001B[49m\u001B[43mlib\u001B[49m\u001B[38;5;241;43m.\u001B[39;49m\u001B[43mno_default\u001B[49m\n\u001B[1;32m    227\u001B[0m \u001B[43m        \u001B[49m\u001B[38;5;129;43;01mor\u001B[39;49;00m\u001B[43m \u001B[49m\u001B[38;5;28;43misinstance\u001B[39;49m\u001B[43m(\u001B[49m\u001B[43mvalues_dtype\u001B[49m\u001B[43m,\u001B[49m\u001B[43m \u001B[49m\u001B[43mStringDtype\u001B[49m\u001B[43m)\u001B[49m\n\u001B[1;32m    228\u001B[0m \u001B[43m        \u001B[49m\u001B[38;5;129;43;01mand\u001B[39;49;00m\u001B[43m \u001B[49m\u001B[38;5;129;43;01mnot\u001B[39;49;00m\u001B[43m \u001B[49m\u001B[43mvalues_dtype\u001B[49m\u001B[38;5;241;43m.\u001B[39;49m\u001B[43mstorage\u001B[49m\u001B[43m \u001B[49m\u001B[38;5;241;43m==\u001B[39;49m\u001B[43m \u001B[49m\u001B[38;5;124;43m\"\u001B[39;49m\u001B[38;5;124;43mpyarrow_numpy\u001B[39;49m\u001B[38;5;124;43m\"\u001B[39;49m\u001B[43m,\u001B[49m\n\u001B[1;32m    229\u001B[0m \u001B[43m    \u001B[49m\u001B[43m)\u001B[49m\n\u001B[1;32m    230\u001B[0m \u001B[38;5;28;01mexcept\u001B[39;00m (\u001B[38;5;167;01mValueError\u001B[39;00m, \u001B[38;5;167;01mTypeError\u001B[39;00m):\n\u001B[1;32m    231\u001B[0m     \u001B[38;5;28;01mif\u001B[39;00m errors \u001B[38;5;241m==\u001B[39m \u001B[38;5;124m\"\u001B[39m\u001B[38;5;124mraise\u001B[39m\u001B[38;5;124m\"\u001B[39m:\n",
      "File \u001B[0;32mlib.pyx:2416\u001B[0m, in \u001B[0;36mpandas._libs.lib.maybe_convert_numeric\u001B[0;34m()\u001B[0m\n",
      "\u001B[0;31mValueError\u001B[0m: Unable to parse string \"REAB\" at position 114"
     ]
    }
   ],
   "source": [
    "km_df['FX_HORARIA'] = pd.to_numeric(km_df['FX_HORARIA'],downcast='integer')"
   ],
   "metadata": {
    "collapsed": false,
    "ExecuteTime": {
     "end_time": "2024-01-11T13:36:56.997135351Z",
     "start_time": "2024-01-11T13:36:56.904975853Z"
    }
   },
   "id": "612782617e3c19fd",
   "execution_count": 129
  },
  {
   "cell_type": "markdown",
   "source": [
    "Transformando os dados de litros_linha que está em string para o formato númerico universal"
   ],
   "metadata": {
    "collapsed": false
   },
   "id": "5a6f2b2bace938a9"
  },
  {
   "cell_type": "code",
   "outputs": [],
   "source": [
    "km_df['LITROS_LINHA'] = km_df['LITROS_LINHA'].str.replace(',', '.')\n",
    "km_df['LITROS_LINHA'] = pd.to_numeric(km_df['LITROS_LINHA'], downcast='float')"
   ],
   "metadata": {
    "collapsed": false,
    "ExecuteTime": {
     "end_time": "2024-01-11T11:20:29.744395740Z",
     "start_time": "2024-01-11T11:20:29.455937804Z"
    }
   },
   "id": "9abdcebfdb5f3e36",
   "execution_count": 63
  },
  {
   "cell_type": "code",
   "outputs": [],
   "source": [
    "km_df['KM_OCIOSA'] = km_df['KM_OCIOSA'].str.replace(',', '.')\n",
    "km_df['KM_OCIOSA'] = pd.to_numeric(km_df['KM_OCIOSA'], downcast='float')"
   ],
   "metadata": {
    "collapsed": false,
    "ExecuteTime": {
     "end_time": "2024-01-11T11:20:48.842526118Z",
     "start_time": "2024-01-11T11:20:48.593030749Z"
    }
   },
   "id": "5f5103ae41c9a4fe",
   "execution_count": 64
  },
  {
   "cell_type": "code",
   "outputs": [],
   "source": [
    "km_df['KM_LINHA'] = km_df['KM_LINHA'].str.replace(',', '.')\n",
    "km_df['KM_LINHA'] = pd.to_numeric(km_df['KM_LINHA'], downcast='float')"
   ],
   "metadata": {
    "collapsed": false,
    "ExecuteTime": {
     "end_time": "2024-01-11T11:20:49.316480171Z",
     "start_time": "2024-01-11T11:20:49.063850042Z"
    }
   },
   "id": "40b0cbaff9d34693",
   "execution_count": 65
  },
  {
   "cell_type": "code",
   "outputs": [
    {
     "data": {
      "text/plain": "        PREFIXO_CARRO       DATA ID_LINHA FX_HORARIA  KM_OCIOSA  LITROS_LINHA  \\\n277375          20040 2023-03-14     5069         16   5.304724      6.664969   \n138502          20527 2023-07-07     5077          6   2.025820     14.195736   \n404026          20451 2023-02-20     5356         23   4.957964      9.353942   \n16260           20386 2023-11-01     5281         16   4.729482     13.592973   \n559102          20503 2023-08-27     5440         19   3.943256     12.799377   \n137656          20356 2023-07-07     5451          7   0.062833      5.733990   \n183961          20435 2023-10-09     5455          5   2.546889      7.149055   \n249941          20354 2023-12-12     5556         19   4.148195     11.635033   \n590542          20519 2023-12-28     5263         18  10.798631     16.805677   \n156903          20472 2023-06-08     5505         20   0.980557     10.361510   \n\n         KM_LINHA  \n277375  19.309723  \n138502  32.045822  \n404026  30.397964  \n16260   29.929482  \n559102  40.853256  \n137656  15.312833  \n183961  17.096889  \n249941  32.088196  \n590542  45.948631  \n156903  25.400557  ",
      "text/html": "<div>\n<style scoped>\n    .dataframe tbody tr th:only-of-type {\n        vertical-align: middle;\n    }\n\n    .dataframe tbody tr th {\n        vertical-align: top;\n    }\n\n    .dataframe thead th {\n        text-align: right;\n    }\n</style>\n<table border=\"1\" class=\"dataframe\">\n  <thead>\n    <tr style=\"text-align: right;\">\n      <th></th>\n      <th>PREFIXO_CARRO</th>\n      <th>DATA</th>\n      <th>ID_LINHA</th>\n      <th>FX_HORARIA</th>\n      <th>KM_OCIOSA</th>\n      <th>LITROS_LINHA</th>\n      <th>KM_LINHA</th>\n    </tr>\n  </thead>\n  <tbody>\n    <tr>\n      <th>277375</th>\n      <td>20040</td>\n      <td>2023-03-14</td>\n      <td>5069</td>\n      <td>16</td>\n      <td>5.304724</td>\n      <td>6.664969</td>\n      <td>19.309723</td>\n    </tr>\n    <tr>\n      <th>138502</th>\n      <td>20527</td>\n      <td>2023-07-07</td>\n      <td>5077</td>\n      <td>6</td>\n      <td>2.025820</td>\n      <td>14.195736</td>\n      <td>32.045822</td>\n    </tr>\n    <tr>\n      <th>404026</th>\n      <td>20451</td>\n      <td>2023-02-20</td>\n      <td>5356</td>\n      <td>23</td>\n      <td>4.957964</td>\n      <td>9.353942</td>\n      <td>30.397964</td>\n    </tr>\n    <tr>\n      <th>16260</th>\n      <td>20386</td>\n      <td>2023-11-01</td>\n      <td>5281</td>\n      <td>16</td>\n      <td>4.729482</td>\n      <td>13.592973</td>\n      <td>29.929482</td>\n    </tr>\n    <tr>\n      <th>559102</th>\n      <td>20503</td>\n      <td>2023-08-27</td>\n      <td>5440</td>\n      <td>19</td>\n      <td>3.943256</td>\n      <td>12.799377</td>\n      <td>40.853256</td>\n    </tr>\n    <tr>\n      <th>137656</th>\n      <td>20356</td>\n      <td>2023-07-07</td>\n      <td>5451</td>\n      <td>7</td>\n      <td>0.062833</td>\n      <td>5.733990</td>\n      <td>15.312833</td>\n    </tr>\n    <tr>\n      <th>183961</th>\n      <td>20435</td>\n      <td>2023-10-09</td>\n      <td>5455</td>\n      <td>5</td>\n      <td>2.546889</td>\n      <td>7.149055</td>\n      <td>17.096889</td>\n    </tr>\n    <tr>\n      <th>249941</th>\n      <td>20354</td>\n      <td>2023-12-12</td>\n      <td>5556</td>\n      <td>19</td>\n      <td>4.148195</td>\n      <td>11.635033</td>\n      <td>32.088196</td>\n    </tr>\n    <tr>\n      <th>590542</th>\n      <td>20519</td>\n      <td>2023-12-28</td>\n      <td>5263</td>\n      <td>18</td>\n      <td>10.798631</td>\n      <td>16.805677</td>\n      <td>45.948631</td>\n    </tr>\n    <tr>\n      <th>156903</th>\n      <td>20472</td>\n      <td>2023-06-08</td>\n      <td>5505</td>\n      <td>20</td>\n      <td>0.980557</td>\n      <td>10.361510</td>\n      <td>25.400557</td>\n    </tr>\n  </tbody>\n</table>\n</div>"
     },
     "execution_count": 67,
     "metadata": {},
     "output_type": "execute_result"
    }
   ],
   "source": [
    "km_df.sample(10)"
   ],
   "metadata": {
    "collapsed": false,
    "ExecuteTime": {
     "end_time": "2024-01-11T11:21:40.347535834Z",
     "start_time": "2024-01-11T11:21:40.316260446Z"
    }
   },
   "id": "2a9757ee0382752a",
   "execution_count": 67
  },
  {
   "cell_type": "markdown",
   "source": [
    "Conclusão da tabela fato km_rodado"
   ],
   "metadata": {
    "collapsed": false
   },
   "id": "be54b2f2b616cb47"
  },
  {
   "cell_type": "code",
   "outputs": [],
   "source": [
    "km_df.to_parquet('/home/marcelo-borges/Documentos/Projetos/datalakehouse_lowcost/elt/transmission/fact/fact_km_rodado.parquet')"
   ],
   "metadata": {
    "collapsed": false,
    "ExecuteTime": {
     "end_time": "2024-01-08T18:52:46.500142335Z",
     "start_time": "2024-01-08T18:52:46.378587599Z"
    }
   },
   "id": "af99b7749937eb99",
   "execution_count": 58
  },
  {
   "cell_type": "markdown",
   "source": [
    "#### Tabela dimensão de Linha"
   ],
   "metadata": {
    "collapsed": false
   },
   "id": "3c2487e446a0862f"
  },
  {
   "cell_type": "code",
   "outputs": [],
   "source": [
    "linha_df=conn.execute(f\"\"\n",
    "                f\"SELECT * FROM read_parquet('{folder_path}/dna_linha_*.parquet')\"\n",
    "                f\"order by DATA_LINHA\").fetchdf()"
   ],
   "metadata": {
    "collapsed": false,
    "ExecuteTime": {
     "end_time": "2024-01-11T11:34:44.890212558Z",
     "start_time": "2024-01-11T11:34:44.541137040Z"
    }
   },
   "id": "578c1e48c4638a6",
   "execution_count": 96
  },
  {
   "cell_type": "markdown",
   "source": [
    "exclusão de todas as colunas que não são pertinentes a dimensão linha"
   ],
   "metadata": {
    "collapsed": false
   },
   "id": "ca4943c100a8d47f"
  },
  {
   "cell_type": "code",
   "outputs": [],
   "source": [
    "linha_df.drop(columns=['ID_LINHA_BI','DATA_LINHA','DIA','MES','ANO','ID_EMPRESA','CODIGO_TN','NOME_TN'], inplace=True)"
   ],
   "metadata": {
    "collapsed": false,
    "ExecuteTime": {
     "end_time": "2024-01-11T11:38:05.457364535Z",
     "start_time": "2024-01-11T11:38:05.438638182Z"
    }
   },
   "id": "6ba61551d5820745",
   "execution_count": 102
  },
  {
   "cell_type": "code",
   "outputs": [],
   "source": [
    "linha_df.drop_duplicates(inplace=True)"
   ],
   "metadata": {
    "collapsed": false,
    "ExecuteTime": {
     "end_time": "2024-01-11T11:38:05.987822860Z",
     "start_time": "2024-01-11T11:38:05.884710200Z"
    }
   },
   "id": "d0c1841a3c155b69",
   "execution_count": 103
  },
  {
   "cell_type": "code",
   "outputs": [
    {
     "data": {
      "text/plain": "    ID_LINHA LINHA_NUM LINHA_ALFA  \\\n300     5369       213          E   \n597     5452        26          C   \n78      5029       401          C   \n316     5385      9903              \n581     5422       570          B   \n\n                                     DESCRICAO_LINHA    TIPO_LINHA  \\\n300            T. BIBLIA / T. ARAGUAIA / HIDROLANDIA  ALIMENTADORA   \n597                     PRACA DELMIRO / T. BANDEIRAS       TRONCAL   \n78         T. BIBLIA / T. PRACA A (VIA FEIRA HIPPIE)      CIRCULAR   \n316                   COPA DA ESTRATEGIA - TURMA III      ESPECIAL   \n581  T. MARANATA / MADRE GERMANA I - VIA SAO CONRADO  ALIMENTADORA   \n\n        LOCAL_DE_CONTROLE CODIGO_UN   NOME_UN CODIGO_UGB  \\\n300    T. PRAÇA DA BÍBLIA       005   SUDESTE       0213   \n597          T. BANDEIRAS       001  SUDOESTE       0026   \n78             T. PRACA A       001  SUDOESTE       0401   \n316  GARAGEM HP (CENTRAL)       001  SUDOESTE       9900   \n581           T. MARANATA       001  SUDOESTE       0570   \n\n                                              NOME_UGB  \n300                            T. BIBLIA / HIDROLÂNDIA  \n597        TERMINAL BANDEIRAS / FLAMBOYANT - VIA AV.13  \n78   CIRCULAR - AV. INDEPENDENCIA - SENTIDO ANTI-HO...  \n316                            COPA DA ESTRATEGIA 2022  \n581                MADRE GERMANA I - TERMINAL MARANATA  ",
      "text/html": "<div>\n<style scoped>\n    .dataframe tbody tr th:only-of-type {\n        vertical-align: middle;\n    }\n\n    .dataframe tbody tr th {\n        vertical-align: top;\n    }\n\n    .dataframe thead th {\n        text-align: right;\n    }\n</style>\n<table border=\"1\" class=\"dataframe\">\n  <thead>\n    <tr style=\"text-align: right;\">\n      <th></th>\n      <th>ID_LINHA</th>\n      <th>LINHA_NUM</th>\n      <th>LINHA_ALFA</th>\n      <th>DESCRICAO_LINHA</th>\n      <th>TIPO_LINHA</th>\n      <th>LOCAL_DE_CONTROLE</th>\n      <th>CODIGO_UN</th>\n      <th>NOME_UN</th>\n      <th>CODIGO_UGB</th>\n      <th>NOME_UGB</th>\n    </tr>\n  </thead>\n  <tbody>\n    <tr>\n      <th>300</th>\n      <td>5369</td>\n      <td>213</td>\n      <td>E</td>\n      <td>T. BIBLIA / T. ARAGUAIA / HIDROLANDIA</td>\n      <td>ALIMENTADORA</td>\n      <td>T. PRAÇA DA BÍBLIA</td>\n      <td>005</td>\n      <td>SUDESTE</td>\n      <td>0213</td>\n      <td>T. BIBLIA / HIDROLÂNDIA</td>\n    </tr>\n    <tr>\n      <th>597</th>\n      <td>5452</td>\n      <td>26</td>\n      <td>C</td>\n      <td>PRACA DELMIRO / T. BANDEIRAS</td>\n      <td>TRONCAL</td>\n      <td>T. BANDEIRAS</td>\n      <td>001</td>\n      <td>SUDOESTE</td>\n      <td>0026</td>\n      <td>TERMINAL BANDEIRAS / FLAMBOYANT - VIA AV.13</td>\n    </tr>\n    <tr>\n      <th>78</th>\n      <td>5029</td>\n      <td>401</td>\n      <td>C</td>\n      <td>T. BIBLIA / T. PRACA A (VIA FEIRA HIPPIE)</td>\n      <td>CIRCULAR</td>\n      <td>T. PRACA A</td>\n      <td>001</td>\n      <td>SUDOESTE</td>\n      <td>0401</td>\n      <td>CIRCULAR - AV. INDEPENDENCIA - SENTIDO ANTI-HO...</td>\n    </tr>\n    <tr>\n      <th>316</th>\n      <td>5385</td>\n      <td>9903</td>\n      <td></td>\n      <td>COPA DA ESTRATEGIA - TURMA III</td>\n      <td>ESPECIAL</td>\n      <td>GARAGEM HP (CENTRAL)</td>\n      <td>001</td>\n      <td>SUDOESTE</td>\n      <td>9900</td>\n      <td>COPA DA ESTRATEGIA 2022</td>\n    </tr>\n    <tr>\n      <th>581</th>\n      <td>5422</td>\n      <td>570</td>\n      <td>B</td>\n      <td>T. MARANATA / MADRE GERMANA I - VIA SAO CONRADO</td>\n      <td>ALIMENTADORA</td>\n      <td>T. MARANATA</td>\n      <td>001</td>\n      <td>SUDOESTE</td>\n      <td>0570</td>\n      <td>MADRE GERMANA I - TERMINAL MARANATA</td>\n    </tr>\n  </tbody>\n</table>\n</div>"
     },
     "execution_count": 105,
     "metadata": {},
     "output_type": "execute_result"
    }
   ],
   "source": [
    "linha_df.sample(5)"
   ],
   "metadata": {
    "collapsed": false,
    "ExecuteTime": {
     "end_time": "2024-01-11T11:40:03.137937711Z",
     "start_time": "2024-01-11T11:40:03.118377295Z"
    }
   },
   "id": "c33587cb62f8ce03",
   "execution_count": 105
  },
  {
   "cell_type": "code",
   "outputs": [
    {
     "data": {
      "text/plain": "ID_LINHA              int16\nLINHA_NUM             int16\nLINHA_ALFA           object\nDESCRICAO_LINHA      object\nTIPO_LINHA           object\nLOCAL_DE_CONTROLE    object\nCODIGO_UN            object\nNOME_UN              object\nCODIGO_UGB           object\nNOME_UGB             object\ndtype: object"
     },
     "execution_count": 108,
     "metadata": {},
     "output_type": "execute_result"
    }
   ],
   "source": [
    "linha_df.dtypes"
   ],
   "metadata": {
    "collapsed": false,
    "ExecuteTime": {
     "end_time": "2024-01-11T11:41:46.786408720Z",
     "start_time": "2024-01-11T11:41:46.732572733Z"
    }
   },
   "id": "5213576ae907bea1",
   "execution_count": 108
  },
  {
   "cell_type": "code",
   "outputs": [],
   "source": [
    "linha_df['ID_LINHA'] = pd.to_numeric(linha_df['ID_LINHA'], downcast='integer')\n",
    "linha_df['LINHA_NUM'] = pd.to_numeric(linha_df['LINHA_NUM'], downcast='integer')"
   ],
   "metadata": {
    "collapsed": false,
    "ExecuteTime": {
     "end_time": "2024-01-11T11:41:10.481088617Z",
     "start_time": "2024-01-11T11:41:10.431488938Z"
    }
   },
   "id": "84d41cb6e0dd9f7c",
   "execution_count": 107
  },
  {
   "cell_type": "code",
   "outputs": [],
   "source": [],
   "metadata": {
    "collapsed": false
   },
   "id": "4235f89c9bc5b34f"
  },
  {
   "cell_type": "code",
   "outputs": [],
   "source": [],
   "metadata": {
    "collapsed": false
   },
   "id": "979e2ac07e58cbb9"
  },
  {
   "cell_type": "code",
   "outputs": [],
   "source": [
    "linha_df.to_parquet('/home/marcelo-borges/Documentos/Projetos/datalakehouse_lowcost/elt/transmission/dimension/dim_linha.parquet')"
   ],
   "metadata": {
    "collapsed": false,
    "ExecuteTime": {
     "end_time": "2024-01-08T18:52:50.553473519Z",
     "start_time": "2024-01-08T18:52:50.548404971Z"
    }
   },
   "id": "fcfc1e54a0c4b550",
   "execution_count": 63
  },
  {
   "cell_type": "markdown",
   "source": [
    "#### Tabela dimensão de Calendário"
   ],
   "metadata": {
    "collapsed": false
   },
   "id": "f47f5b4422612398"
  },
  {
   "cell_type": "code",
   "outputs": [],
   "source": [
    "folder_path = '/home/marcelo-borges/Documentos/Projetos/datalakehouse_lowcost/elt/tmp/'"
   ],
   "metadata": {
    "collapsed": false,
    "ExecuteTime": {
     "end_time": "2024-01-11T11:43:09.090548322Z",
     "start_time": "2024-01-11T11:43:09.059588304Z"
    }
   },
   "id": "55581f7787253d0a",
   "execution_count": 110
  },
  {
   "cell_type": "code",
   "outputs": [],
   "source": [
    "calendar_df=conn.execute(f\"\"\n",
    "                f\"SELECT * FROM read_parquet('{folder_path}dna_calendario_*.parquet')\"\n",
    "                f\"order by ID_CALENDARIO \").fetchdf()"
   ],
   "metadata": {
    "collapsed": false,
    "ExecuteTime": {
     "end_time": "2024-01-11T11:43:12.583709302Z",
     "start_time": "2024-01-11T11:43:12.506451808Z"
    }
   },
   "id": "c69ca850a02c65ed",
   "execution_count": 111
  },
  {
   "cell_type": "code",
   "outputs": [],
   "source": [
    "calendar_df.drop(columns=['ID_EMPRESA', 'NOME_EMPRESA','SIGLA_EMPRESA'], inplace=True)"
   ],
   "metadata": {
    "collapsed": false,
    "ExecuteTime": {
     "end_time": "2024-01-11T11:43:13.714794748Z",
     "start_time": "2024-01-11T11:43:13.691293575Z"
    }
   },
   "id": "e8c7bc33b40b583d",
   "execution_count": 112
  },
  {
   "cell_type": "markdown",
   "source": [
    "casting"
   ],
   "metadata": {
    "collapsed": false
   },
   "id": "6afa0b96a5afdebe"
  },
  {
   "cell_type": "code",
   "outputs": [],
   "source": [
    "calendar_df['DATA'] = pd.to_datetime(calendar_df['DATA'], format='%d/%m/%Y')\n",
    "calendar_df['DATA'] = pd.to_datetime(calendar_df['DATA'], format='%Y-%m-%d %H:%M:%S')\n",
    "# calendar_df['DATA'] = calendar_df['DATA'].dt.strftime('%d/%m/%Y')"
   ],
   "metadata": {
    "collapsed": false,
    "ExecuteTime": {
     "end_time": "2024-01-11T11:43:15.685321474Z",
     "start_time": "2024-01-11T11:43:15.672073505Z"
    }
   },
   "id": "1d1fe43d64dc1af0",
   "execution_count": 113
  },
  {
   "cell_type": "code",
   "outputs": [],
   "source": [
    "calendar_df['DIA'] = calendar_df['DATA'].dt.day\n",
    "calendar_df['MES'] = calendar_df['DATA'].dt.month\n",
    "calendar_df['ANO'] = calendar_df['DATA'].dt.year"
   ],
   "metadata": {
    "collapsed": false,
    "ExecuteTime": {
     "end_time": "2024-01-11T11:43:17.776210670Z",
     "start_time": "2024-01-11T11:43:17.744717173Z"
    }
   },
   "id": "10fedd674b0d7f28",
   "execution_count": 114
  },
  {
   "cell_type": "code",
   "outputs": [
    {
     "data": {
      "text/plain": "DATA                  datetime64[ns]\nID_CALENDARIO                 object\nID_OPERACAO_TIPO              object\nNOME_OPERACAO_TIPO            object\nDIA                            int32\nMES                            int32\nANO                            int32\ndtype: object"
     },
     "execution_count": 115,
     "metadata": {},
     "output_type": "execute_result"
    }
   ],
   "source": [
    "calendar_df.dtypes"
   ],
   "metadata": {
    "collapsed": false
   },
   "id": "f4915c7f256fa05f",
   "execution_count": 115
  },
  {
   "cell_type": "markdown",
   "source": [
    "casting"
   ],
   "metadata": {
    "collapsed": false
   },
   "id": "44d8d7e239b19de1"
  },
  {
   "cell_type": "code",
   "outputs": [],
   "source": [
    "calendar_df['ID_CALENDARIO'] = pd.to_numeric(calendar_df['ID_CALENDARIO'], downcast='integer')\n",
    "calendar_df['ID_OPERACAO_TIPO'] = pd.to_numeric(calendar_df['ID_OPERACAO_TIPO'], downcast='integer')"
   ],
   "metadata": {
    "collapsed": false,
    "ExecuteTime": {
     "end_time": "2024-01-11T11:43:30.934163007Z",
     "start_time": "2024-01-11T11:43:30.931599672Z"
    }
   },
   "id": "83b90495a9356b9c",
   "execution_count": 116
  },
  {
   "cell_type": "code",
   "outputs": [],
   "source": [
    "calendar_df.to_parquet('/home/marcelo-borges/Documentos/Projetos/datalakehouse_lowcost/elt/transmission/dimension/dim_calendar.parquet')"
   ],
   "metadata": {
    "collapsed": false,
    "ExecuteTime": {
     "end_time": "2024-01-08T19:09:30.213534068Z",
     "start_time": "2024-01-08T19:09:30.170187473Z"
    }
   },
   "id": "492f96a6bc7022f7",
   "execution_count": 108
  },
  {
   "cell_type": "code",
   "outputs": [
    {
     "data": {
      "text/plain": "FloatProgress(value=0.0, layout=Layout(width='auto'), style=ProgressStyle(bar_color='black'))",
      "application/vnd.jupyter.widget-view+json": {
       "version_major": 2,
       "version_minor": 0,
       "model_id": "65e248ee4a2d4329a7f6db15a96fce6e"
      }
     },
     "metadata": {},
     "output_type": "display_data"
    }
   ],
   "source": [
    "import duckdb\n",
    "import os\n",
    "from dotenv import load_dotenv\n",
    "load_dotenv()\n",
    "\n",
    "duckdb.sql('INSTALL httpfs')\n",
    "duckdb.sql('LOAD httpfs')\n",
    "hmac_access = os.getenv('GOOGLE_ACCESS_KEY')\n",
    "hmac_secret = os.getenv('GOOGLE_SECRET')\n",
    "duckdb.sql(f\"SET s3_access_key_id='{hmac_access}';\")\n",
    "duckdb.sql(f\"SET s3_secret_access_key='{hmac_secret}';\")\n",
    "duckdb.sql(\"SET s3_endpoint='storage.googleapis.com'\")\n",
    "df = duckdb.sql(\"SELECT * FROM 's3://mvp-hp-transformed/km/*/*/*.parquet'\").to_df()"
   ],
   "metadata": {
    "collapsed": false,
    "ExecuteTime": {
     "end_time": "2024-01-11T14:12:03.648970397Z",
     "start_time": "2024-01-11T14:11:21.488732292Z"
    }
   },
   "id": "7e7244536184a392",
   "execution_count": 137
  },
  {
   "cell_type": "code",
   "outputs": [
    {
     "data": {
      "text/plain": "        PREFIXO_CARRO       DATA ID_LINHA FX_HORARIA  KM_OCIOSA  LITROS_LINHA  \\\n0               20289 2022-12-31     5066          7  11.144882     19.158485   \n1               20317 2022-12-31     5070         13   3.970000     13.138386   \n2               20118 2022-12-31     5075          8   3.971599     15.424965   \n3               20511 2022-12-31     5264          8   3.677321     13.802547   \n4               20511 2022-12-31     5264         11   3.677321     13.802547   \n...               ...        ...      ...        ...        ...           ...   \n606713          20052 2024-01-09     5634         15  12.381925     12.531186   \n606714          20077 2024-01-09     5428         14   1.563874      4.518490   \n606715          20077 2024-01-09     5605         13   4.084293     11.800716   \n606716          20085 2024-01-09     5453         11   3.498575      4.045485   \n606717          20999 2024-01-09     5597         16   9.081141     14.983278   \n\n         KM_LINHA  \n0       61.114883  \n1       39.700001  \n2       39.221600  \n3       40.467319  \n4       40.467319  \n...           ...  \n606713  23.611925  \n606714  11.863874  \n606715  30.984293  \n606716  12.153575  \n606717  26.906141  \n\n[606718 rows x 7 columns]",
      "text/html": "<div>\n<style scoped>\n    .dataframe tbody tr th:only-of-type {\n        vertical-align: middle;\n    }\n\n    .dataframe tbody tr th {\n        vertical-align: top;\n    }\n\n    .dataframe thead th {\n        text-align: right;\n    }\n</style>\n<table border=\"1\" class=\"dataframe\">\n  <thead>\n    <tr style=\"text-align: right;\">\n      <th></th>\n      <th>PREFIXO_CARRO</th>\n      <th>DATA</th>\n      <th>ID_LINHA</th>\n      <th>FX_HORARIA</th>\n      <th>KM_OCIOSA</th>\n      <th>LITROS_LINHA</th>\n      <th>KM_LINHA</th>\n    </tr>\n  </thead>\n  <tbody>\n    <tr>\n      <th>0</th>\n      <td>20289</td>\n      <td>2022-12-31</td>\n      <td>5066</td>\n      <td>7</td>\n      <td>11.144882</td>\n      <td>19.158485</td>\n      <td>61.114883</td>\n    </tr>\n    <tr>\n      <th>1</th>\n      <td>20317</td>\n      <td>2022-12-31</td>\n      <td>5070</td>\n      <td>13</td>\n      <td>3.970000</td>\n      <td>13.138386</td>\n      <td>39.700001</td>\n    </tr>\n    <tr>\n      <th>2</th>\n      <td>20118</td>\n      <td>2022-12-31</td>\n      <td>5075</td>\n      <td>8</td>\n      <td>3.971599</td>\n      <td>15.424965</td>\n      <td>39.221600</td>\n    </tr>\n    <tr>\n      <th>3</th>\n      <td>20511</td>\n      <td>2022-12-31</td>\n      <td>5264</td>\n      <td>8</td>\n      <td>3.677321</td>\n      <td>13.802547</td>\n      <td>40.467319</td>\n    </tr>\n    <tr>\n      <th>4</th>\n      <td>20511</td>\n      <td>2022-12-31</td>\n      <td>5264</td>\n      <td>11</td>\n      <td>3.677321</td>\n      <td>13.802547</td>\n      <td>40.467319</td>\n    </tr>\n    <tr>\n      <th>...</th>\n      <td>...</td>\n      <td>...</td>\n      <td>...</td>\n      <td>...</td>\n      <td>...</td>\n      <td>...</td>\n      <td>...</td>\n    </tr>\n    <tr>\n      <th>606713</th>\n      <td>20052</td>\n      <td>2024-01-09</td>\n      <td>5634</td>\n      <td>15</td>\n      <td>12.381925</td>\n      <td>12.531186</td>\n      <td>23.611925</td>\n    </tr>\n    <tr>\n      <th>606714</th>\n      <td>20077</td>\n      <td>2024-01-09</td>\n      <td>5428</td>\n      <td>14</td>\n      <td>1.563874</td>\n      <td>4.518490</td>\n      <td>11.863874</td>\n    </tr>\n    <tr>\n      <th>606715</th>\n      <td>20077</td>\n      <td>2024-01-09</td>\n      <td>5605</td>\n      <td>13</td>\n      <td>4.084293</td>\n      <td>11.800716</td>\n      <td>30.984293</td>\n    </tr>\n    <tr>\n      <th>606716</th>\n      <td>20085</td>\n      <td>2024-01-09</td>\n      <td>5453</td>\n      <td>11</td>\n      <td>3.498575</td>\n      <td>4.045485</td>\n      <td>12.153575</td>\n    </tr>\n    <tr>\n      <th>606717</th>\n      <td>20999</td>\n      <td>2024-01-09</td>\n      <td>5597</td>\n      <td>16</td>\n      <td>9.081141</td>\n      <td>14.983278</td>\n      <td>26.906141</td>\n    </tr>\n  </tbody>\n</table>\n<p>606718 rows × 7 columns</p>\n</div>"
     },
     "execution_count": 138,
     "metadata": {},
     "output_type": "execute_result"
    }
   ],
   "source": [
    "df"
   ],
   "metadata": {
    "collapsed": false,
    "ExecuteTime": {
     "end_time": "2024-01-11T14:20:54.076761583Z",
     "start_time": "2024-01-11T14:20:54.051364513Z"
    }
   },
   "id": "c92fd9a347cc12c9",
   "execution_count": 138
  },
  {
   "cell_type": "code",
   "outputs": [],
   "source": [
    "from google.cloud import bigquery\n",
    "from dotenv import load_dotenv\n",
    "load_dotenv()\n",
    "# Carregar variáveis de ambiente\n",
    "project_id = os.getenv(\"GOOGLE_PROJECT_ID\")\n",
    "\n",
    "# Nome completo da tabela\n",
    "fully_qualified_table_id = \"mvp-hp.dados_hp.km\"  # Use o ID da tabela diretamente\n",
    "\n",
    "# Criar um cliente BigQuery\n",
    "client = bigquery.Client(project=project_id)\n"
   ],
   "metadata": {
    "collapsed": false,
    "ExecuteTime": {
     "end_time": "2024-01-11T14:43:34.477932853Z",
     "start_time": "2024-01-11T14:43:34.430595448Z"
    }
   },
   "id": "573628e9e41ca47e",
   "execution_count": 165
  },
  {
   "cell_type": "code",
   "outputs": [],
   "source": [
    "job_config = bigquery.LoadJobConfig(\n",
    "    source_format=bigquery.SourceFormat.PARQUET,\n",
    "    write_disposition=bigquery.WriteDisposition.WRITE_APPEND,\n",
    "    autodetect=True  # Detectar esquema automaticamente\n",
    ")\n"
   ],
   "metadata": {
    "collapsed": false,
    "ExecuteTime": {
     "end_time": "2024-01-11T14:43:35.634733292Z",
     "start_time": "2024-01-11T14:43:35.632865410Z"
    }
   },
   "id": "5d5539db15d62d62",
   "execution_count": 166
  },
  {
   "cell_type": "code",
   "outputs": [
    {
     "ename": "NotFound",
     "evalue": "404 Not found: Uris gs://mvp-hp-transformed/km/*/*/*.parquet",
     "output_type": "error",
     "traceback": [
      "\u001B[0;31m---------------------------------------------------------------------------\u001B[0m",
      "\u001B[0;31mNotFound\u001B[0m                                  Traceback (most recent call last)",
      "Cell \u001B[0;32mIn[168], line 10\u001B[0m\n\u001B[1;32m      3\u001B[0m load_job \u001B[38;5;241m=\u001B[39m client\u001B[38;5;241m.\u001B[39mload_table_from_uri(\n\u001B[1;32m      4\u001B[0m     uri,\n\u001B[1;32m      5\u001B[0m     fully_qualified_table_id,  \u001B[38;5;66;03m# Use o nome completo da tabela diretamente\u001B[39;00m\n\u001B[1;32m      6\u001B[0m     job_config\u001B[38;5;241m=\u001B[39mjob_config\n\u001B[1;32m      7\u001B[0m )\n\u001B[1;32m      9\u001B[0m \u001B[38;5;66;03m# Aguardar a conclusão do job\u001B[39;00m\n\u001B[0;32m---> 10\u001B[0m \u001B[43mload_job\u001B[49m\u001B[38;5;241;43m.\u001B[39;49m\u001B[43mresult\u001B[49m\u001B[43m(\u001B[49m\u001B[43m)\u001B[49m\n\u001B[1;32m     12\u001B[0m \u001B[38;5;28mprint\u001B[39m(\u001B[38;5;124mf\u001B[39m\u001B[38;5;124m\"\u001B[39m\u001B[38;5;124mOs dados foram carregados na tabela \u001B[39m\u001B[38;5;132;01m{\u001B[39;00mfully_qualified_table_id\u001B[38;5;132;01m}\u001B[39;00m\u001B[38;5;124m.\u001B[39m\u001B[38;5;124m\"\u001B[39m)\n",
      "File \u001B[0;32m~/.cache/pypoetry/virtualenvs/datalakehouse-lowcost-LhbOqF2c-py3.11/lib/python3.11/site-packages/google/cloud/bigquery/job/base.py:952\u001B[0m, in \u001B[0;36m_AsyncJob.result\u001B[0;34m(self, retry, timeout)\u001B[0m\n\u001B[1;32m    949\u001B[0m     \u001B[38;5;28mself\u001B[39m\u001B[38;5;241m.\u001B[39m_begin(retry\u001B[38;5;241m=\u001B[39mretry, timeout\u001B[38;5;241m=\u001B[39mtimeout)\n\u001B[1;32m    951\u001B[0m kwargs \u001B[38;5;241m=\u001B[39m {} \u001B[38;5;28;01mif\u001B[39;00m retry \u001B[38;5;129;01mis\u001B[39;00m DEFAULT_RETRY \u001B[38;5;28;01melse\u001B[39;00m {\u001B[38;5;124m\"\u001B[39m\u001B[38;5;124mretry\u001B[39m\u001B[38;5;124m\"\u001B[39m: retry}\n\u001B[0;32m--> 952\u001B[0m \u001B[38;5;28;01mreturn\u001B[39;00m \u001B[38;5;28;43msuper\u001B[39;49m\u001B[43m(\u001B[49m\u001B[43m_AsyncJob\u001B[49m\u001B[43m,\u001B[49m\u001B[43m \u001B[49m\u001B[38;5;28;43mself\u001B[39;49m\u001B[43m)\u001B[49m\u001B[38;5;241;43m.\u001B[39;49m\u001B[43mresult\u001B[49m\u001B[43m(\u001B[49m\u001B[43mtimeout\u001B[49m\u001B[38;5;241;43m=\u001B[39;49m\u001B[43mtimeout\u001B[49m\u001B[43m,\u001B[49m\u001B[43m \u001B[49m\u001B[38;5;241;43m*\u001B[39;49m\u001B[38;5;241;43m*\u001B[39;49m\u001B[43mkwargs\u001B[49m\u001B[43m)\u001B[49m\n",
      "File \u001B[0;32m~/.cache/pypoetry/virtualenvs/datalakehouse-lowcost-LhbOqF2c-py3.11/lib/python3.11/site-packages/google/api_core/future/polling.py:261\u001B[0m, in \u001B[0;36mPollingFuture.result\u001B[0;34m(self, timeout, retry, polling)\u001B[0m\n\u001B[1;32m    256\u001B[0m \u001B[38;5;28mself\u001B[39m\u001B[38;5;241m.\u001B[39m_blocking_poll(timeout\u001B[38;5;241m=\u001B[39mtimeout, retry\u001B[38;5;241m=\u001B[39mretry, polling\u001B[38;5;241m=\u001B[39mpolling)\n\u001B[1;32m    258\u001B[0m \u001B[38;5;28;01mif\u001B[39;00m \u001B[38;5;28mself\u001B[39m\u001B[38;5;241m.\u001B[39m_exception \u001B[38;5;129;01mis\u001B[39;00m \u001B[38;5;129;01mnot\u001B[39;00m \u001B[38;5;28;01mNone\u001B[39;00m:\n\u001B[1;32m    259\u001B[0m     \u001B[38;5;66;03m# pylint: disable=raising-bad-type\u001B[39;00m\n\u001B[1;32m    260\u001B[0m     \u001B[38;5;66;03m# Pylint doesn't recognize that this is valid in this case.\u001B[39;00m\n\u001B[0;32m--> 261\u001B[0m     \u001B[38;5;28;01mraise\u001B[39;00m \u001B[38;5;28mself\u001B[39m\u001B[38;5;241m.\u001B[39m_exception\n\u001B[1;32m    263\u001B[0m \u001B[38;5;28;01mreturn\u001B[39;00m \u001B[38;5;28mself\u001B[39m\u001B[38;5;241m.\u001B[39m_result\n",
      "\u001B[0;31mNotFound\u001B[0m: 404 Not found: Uris gs://mvp-hp-transformed/km/*/*/*.parquet"
     ]
    }
   ],
   "source": [
    "uri = \"gs://mvp-hp-transformed/km/*/*/*.parquet\"\n",
    "\n",
    "load_job = client.load_table_from_uri(\n",
    "    uri,\n",
    "    fully_qualified_table_id,  # Use o nome completo da tabela diretamente\n",
    "    job_config=job_config\n",
    ")\n",
    "\n",
    "# Aguardar a conclusão do job\n",
    "load_job.result()\n",
    "\n",
    "print(f\"Os dados foram carregados na tabela {fully_qualified_table_id}.\")"
   ],
   "metadata": {
    "collapsed": false,
    "ExecuteTime": {
     "end_time": "2024-01-11T14:44:05.305073178Z",
     "start_time": "2024-01-11T14:44:04.496321276Z"
    }
   },
   "id": "92b575d9ce84db21",
   "execution_count": 168
  },
  {
   "cell_type": "code",
   "outputs": [
    {
     "ename": "BadRequest",
     "evalue": "400 Table \"gs://bucket_name/pattern\" must be qualified with a dataset (e.g. dataset.table).\n\nLocation: us-east1\nJob ID: f6622f46-6284-400a-82b2-97e3bdfafd3d\n",
     "output_type": "error",
     "traceback": [
      "\u001B[0;31m---------------------------------------------------------------------------\u001B[0m",
      "\u001B[0;31mBadRequest\u001B[0m                                Traceback (most recent call last)",
      "Cell \u001B[0;32mIn[172], line 28\u001B[0m\n\u001B[1;32m     25\u001B[0m job \u001B[38;5;241m=\u001B[39m client\u001B[38;5;241m.\u001B[39mquery(query)\n\u001B[1;32m     27\u001B[0m \u001B[38;5;66;03m# Aguardar a conclusão do job\u001B[39;00m\n\u001B[0;32m---> 28\u001B[0m \u001B[43mjob\u001B[49m\u001B[38;5;241;43m.\u001B[39;49m\u001B[43mresult\u001B[49m\u001B[43m(\u001B[49m\u001B[43m)\u001B[49m\n\u001B[1;32m     30\u001B[0m \u001B[38;5;66;03m# Imprimir um resumo do job\u001B[39;00m\n\u001B[1;32m     31\u001B[0m \u001B[38;5;28mprint\u001B[39m(job\u001B[38;5;241m.\u001B[39mresult())\n",
      "File \u001B[0;32m~/.cache/pypoetry/virtualenvs/datalakehouse-lowcost-LhbOqF2c-py3.11/lib/python3.11/site-packages/google/cloud/bigquery/job/query.py:1595\u001B[0m, in \u001B[0;36mQueryJob.result\u001B[0;34m(self, page_size, max_results, retry, timeout, start_index, job_retry)\u001B[0m\n\u001B[1;32m   1592\u001B[0m     \u001B[38;5;28;01mif\u001B[39;00m retry_do_query \u001B[38;5;129;01mis\u001B[39;00m \u001B[38;5;129;01mnot\u001B[39;00m \u001B[38;5;28;01mNone\u001B[39;00m \u001B[38;5;129;01mand\u001B[39;00m job_retry \u001B[38;5;129;01mis\u001B[39;00m \u001B[38;5;129;01mnot\u001B[39;00m \u001B[38;5;28;01mNone\u001B[39;00m:\n\u001B[1;32m   1593\u001B[0m         do_get_result \u001B[38;5;241m=\u001B[39m job_retry(do_get_result)\n\u001B[0;32m-> 1595\u001B[0m     \u001B[43mdo_get_result\u001B[49m\u001B[43m(\u001B[49m\u001B[43m)\u001B[49m\n\u001B[1;32m   1597\u001B[0m \u001B[38;5;28;01mexcept\u001B[39;00m exceptions\u001B[38;5;241m.\u001B[39mGoogleAPICallError \u001B[38;5;28;01mas\u001B[39;00m exc:\n\u001B[1;32m   1598\u001B[0m     exc\u001B[38;5;241m.\u001B[39mmessage \u001B[38;5;241m=\u001B[39m _EXCEPTION_FOOTER_TEMPLATE\u001B[38;5;241m.\u001B[39mformat(\n\u001B[1;32m   1599\u001B[0m         message\u001B[38;5;241m=\u001B[39mexc\u001B[38;5;241m.\u001B[39mmessage, location\u001B[38;5;241m=\u001B[39m\u001B[38;5;28mself\u001B[39m\u001B[38;5;241m.\u001B[39mlocation, job_id\u001B[38;5;241m=\u001B[39m\u001B[38;5;28mself\u001B[39m\u001B[38;5;241m.\u001B[39mjob_id\n\u001B[1;32m   1600\u001B[0m     )\n",
      "File \u001B[0;32m~/.cache/pypoetry/virtualenvs/datalakehouse-lowcost-LhbOqF2c-py3.11/lib/python3.11/site-packages/google/api_core/retry.py:372\u001B[0m, in \u001B[0;36mRetry.__call__.<locals>.retry_wrapped_func\u001B[0;34m(*args, **kwargs)\u001B[0m\n\u001B[1;32m    368\u001B[0m target \u001B[38;5;241m=\u001B[39m functools\u001B[38;5;241m.\u001B[39mpartial(func, \u001B[38;5;241m*\u001B[39margs, \u001B[38;5;241m*\u001B[39m\u001B[38;5;241m*\u001B[39mkwargs)\n\u001B[1;32m    369\u001B[0m sleep_generator \u001B[38;5;241m=\u001B[39m exponential_sleep_generator(\n\u001B[1;32m    370\u001B[0m     \u001B[38;5;28mself\u001B[39m\u001B[38;5;241m.\u001B[39m_initial, \u001B[38;5;28mself\u001B[39m\u001B[38;5;241m.\u001B[39m_maximum, multiplier\u001B[38;5;241m=\u001B[39m\u001B[38;5;28mself\u001B[39m\u001B[38;5;241m.\u001B[39m_multiplier\n\u001B[1;32m    371\u001B[0m )\n\u001B[0;32m--> 372\u001B[0m \u001B[38;5;28;01mreturn\u001B[39;00m \u001B[43mretry_target\u001B[49m\u001B[43m(\u001B[49m\n\u001B[1;32m    373\u001B[0m \u001B[43m    \u001B[49m\u001B[43mtarget\u001B[49m\u001B[43m,\u001B[49m\n\u001B[1;32m    374\u001B[0m \u001B[43m    \u001B[49m\u001B[38;5;28;43mself\u001B[39;49m\u001B[38;5;241;43m.\u001B[39;49m\u001B[43m_predicate\u001B[49m\u001B[43m,\u001B[49m\n\u001B[1;32m    375\u001B[0m \u001B[43m    \u001B[49m\u001B[43msleep_generator\u001B[49m\u001B[43m,\u001B[49m\n\u001B[1;32m    376\u001B[0m \u001B[43m    \u001B[49m\u001B[38;5;28;43mself\u001B[39;49m\u001B[38;5;241;43m.\u001B[39;49m\u001B[43m_timeout\u001B[49m\u001B[43m,\u001B[49m\n\u001B[1;32m    377\u001B[0m \u001B[43m    \u001B[49m\u001B[43mon_error\u001B[49m\u001B[38;5;241;43m=\u001B[39;49m\u001B[43mon_error\u001B[49m\u001B[43m,\u001B[49m\n\u001B[1;32m    378\u001B[0m \u001B[43m\u001B[49m\u001B[43m)\u001B[49m\n",
      "File \u001B[0;32m~/.cache/pypoetry/virtualenvs/datalakehouse-lowcost-LhbOqF2c-py3.11/lib/python3.11/site-packages/google/api_core/retry.py:207\u001B[0m, in \u001B[0;36mretry_target\u001B[0;34m(target, predicate, sleep_generator, timeout, on_error, **kwargs)\u001B[0m\n\u001B[1;32m    205\u001B[0m \u001B[38;5;28;01mfor\u001B[39;00m sleep \u001B[38;5;129;01min\u001B[39;00m sleep_generator:\n\u001B[1;32m    206\u001B[0m     \u001B[38;5;28;01mtry\u001B[39;00m:\n\u001B[0;32m--> 207\u001B[0m         result \u001B[38;5;241m=\u001B[39m \u001B[43mtarget\u001B[49m\u001B[43m(\u001B[49m\u001B[43m)\u001B[49m\n\u001B[1;32m    208\u001B[0m         \u001B[38;5;28;01mif\u001B[39;00m inspect\u001B[38;5;241m.\u001B[39misawaitable(result):\n\u001B[1;32m    209\u001B[0m             warnings\u001B[38;5;241m.\u001B[39mwarn(_ASYNC_RETRY_WARNING)\n",
      "File \u001B[0;32m~/.cache/pypoetry/virtualenvs/datalakehouse-lowcost-LhbOqF2c-py3.11/lib/python3.11/site-packages/google/cloud/bigquery/job/query.py:1584\u001B[0m, in \u001B[0;36mQueryJob.result.<locals>.do_get_result\u001B[0;34m()\u001B[0m\n\u001B[1;32m   1581\u001B[0m     \u001B[38;5;28mself\u001B[39m\u001B[38;5;241m.\u001B[39m_retry_do_query \u001B[38;5;241m=\u001B[39m retry_do_query\n\u001B[1;32m   1582\u001B[0m     \u001B[38;5;28mself\u001B[39m\u001B[38;5;241m.\u001B[39m_job_retry \u001B[38;5;241m=\u001B[39m job_retry\n\u001B[0;32m-> 1584\u001B[0m \u001B[38;5;28;43msuper\u001B[39;49m\u001B[43m(\u001B[49m\u001B[43mQueryJob\u001B[49m\u001B[43m,\u001B[49m\u001B[43m \u001B[49m\u001B[38;5;28;43mself\u001B[39;49m\u001B[43m)\u001B[49m\u001B[38;5;241;43m.\u001B[39;49m\u001B[43mresult\u001B[49m\u001B[43m(\u001B[49m\u001B[43mretry\u001B[49m\u001B[38;5;241;43m=\u001B[39;49m\u001B[43mretry\u001B[49m\u001B[43m,\u001B[49m\u001B[43m \u001B[49m\u001B[43mtimeout\u001B[49m\u001B[38;5;241;43m=\u001B[39;49m\u001B[43mtimeout\u001B[49m\u001B[43m)\u001B[49m\n\u001B[1;32m   1586\u001B[0m \u001B[38;5;66;03m# Since the job could already be \"done\" (e.g. got a finished job\u001B[39;00m\n\u001B[1;32m   1587\u001B[0m \u001B[38;5;66;03m# via client.get_job), the superclass call to done() might not\u001B[39;00m\n\u001B[1;32m   1588\u001B[0m \u001B[38;5;66;03m# set the self._query_results cache.\u001B[39;00m\n\u001B[1;32m   1589\u001B[0m \u001B[38;5;28;01mif\u001B[39;00m \u001B[38;5;28mself\u001B[39m\u001B[38;5;241m.\u001B[39m_query_results \u001B[38;5;129;01mis\u001B[39;00m \u001B[38;5;28;01mNone\u001B[39;00m \u001B[38;5;129;01mor\u001B[39;00m \u001B[38;5;129;01mnot\u001B[39;00m \u001B[38;5;28mself\u001B[39m\u001B[38;5;241m.\u001B[39m_query_results\u001B[38;5;241m.\u001B[39mcomplete:\n",
      "File \u001B[0;32m~/.cache/pypoetry/virtualenvs/datalakehouse-lowcost-LhbOqF2c-py3.11/lib/python3.11/site-packages/google/cloud/bigquery/job/base.py:952\u001B[0m, in \u001B[0;36m_AsyncJob.result\u001B[0;34m(self, retry, timeout)\u001B[0m\n\u001B[1;32m    949\u001B[0m     \u001B[38;5;28mself\u001B[39m\u001B[38;5;241m.\u001B[39m_begin(retry\u001B[38;5;241m=\u001B[39mretry, timeout\u001B[38;5;241m=\u001B[39mtimeout)\n\u001B[1;32m    951\u001B[0m kwargs \u001B[38;5;241m=\u001B[39m {} \u001B[38;5;28;01mif\u001B[39;00m retry \u001B[38;5;129;01mis\u001B[39;00m DEFAULT_RETRY \u001B[38;5;28;01melse\u001B[39;00m {\u001B[38;5;124m\"\u001B[39m\u001B[38;5;124mretry\u001B[39m\u001B[38;5;124m\"\u001B[39m: retry}\n\u001B[0;32m--> 952\u001B[0m \u001B[38;5;28;01mreturn\u001B[39;00m \u001B[38;5;28;43msuper\u001B[39;49m\u001B[43m(\u001B[49m\u001B[43m_AsyncJob\u001B[49m\u001B[43m,\u001B[49m\u001B[43m \u001B[49m\u001B[38;5;28;43mself\u001B[39;49m\u001B[43m)\u001B[49m\u001B[38;5;241;43m.\u001B[39;49m\u001B[43mresult\u001B[49m\u001B[43m(\u001B[49m\u001B[43mtimeout\u001B[49m\u001B[38;5;241;43m=\u001B[39;49m\u001B[43mtimeout\u001B[49m\u001B[43m,\u001B[49m\u001B[43m \u001B[49m\u001B[38;5;241;43m*\u001B[39;49m\u001B[38;5;241;43m*\u001B[39;49m\u001B[43mkwargs\u001B[49m\u001B[43m)\u001B[49m\n",
      "File \u001B[0;32m~/.cache/pypoetry/virtualenvs/datalakehouse-lowcost-LhbOqF2c-py3.11/lib/python3.11/site-packages/google/api_core/future/polling.py:261\u001B[0m, in \u001B[0;36mPollingFuture.result\u001B[0;34m(self, timeout, retry, polling)\u001B[0m\n\u001B[1;32m    256\u001B[0m \u001B[38;5;28mself\u001B[39m\u001B[38;5;241m.\u001B[39m_blocking_poll(timeout\u001B[38;5;241m=\u001B[39mtimeout, retry\u001B[38;5;241m=\u001B[39mretry, polling\u001B[38;5;241m=\u001B[39mpolling)\n\u001B[1;32m    258\u001B[0m \u001B[38;5;28;01mif\u001B[39;00m \u001B[38;5;28mself\u001B[39m\u001B[38;5;241m.\u001B[39m_exception \u001B[38;5;129;01mis\u001B[39;00m \u001B[38;5;129;01mnot\u001B[39;00m \u001B[38;5;28;01mNone\u001B[39;00m:\n\u001B[1;32m    259\u001B[0m     \u001B[38;5;66;03m# pylint: disable=raising-bad-type\u001B[39;00m\n\u001B[1;32m    260\u001B[0m     \u001B[38;5;66;03m# Pylint doesn't recognize that this is valid in this case.\u001B[39;00m\n\u001B[0;32m--> 261\u001B[0m     \u001B[38;5;28;01mraise\u001B[39;00m \u001B[38;5;28mself\u001B[39m\u001B[38;5;241m.\u001B[39m_exception\n\u001B[1;32m    263\u001B[0m \u001B[38;5;28;01mreturn\u001B[39;00m \u001B[38;5;28mself\u001B[39m\u001B[38;5;241m.\u001B[39m_result\n",
      "\u001B[0;31mBadRequest\u001B[0m: 400 Table \"gs://bucket_name/pattern\" must be qualified with a dataset (e.g. dataset.table).\n\nLocation: us-east1\nJob ID: f6622f46-6284-400a-82b2-97e3bdfafd3d\n"
     ]
    }
   ],
   "source": [
    "import os\n",
    "import pandas as pd\n",
    "from google.cloud import bigquery\n",
    "\n",
    "# Carregar variáveis de ambiente\n",
    "project_id = os.getenv(\"GOOGLE_PROJECT_ID\")\n",
    "dataset_id = \"dados_hp\"\n",
    "table_id = \"km\"\n",
    "\n",
    "# Criar um cliente BigQuery\n",
    "client = bigquery.Client(project=project_id)\n",
    "\n",
    "# Consulta para atualizar a tabela\n",
    "query = f\"\"\"\n",
    "INSERT INTO `mvp-hp.dados_hp.km`\n",
    "SELECT\n",
    "  *\n",
    "FROM\n",
    "  `gs://bucket_name/pattern`\n",
    "WHERE\n",
    "  DATA > '2023-08-08'\n",
    "\"\"\"\n",
    "# Executar a consulta\n",
    "job = client.query(query)\n",
    "# Aguardar a conclusão do job\n",
    "job.result()\n",
    "# Imprimir um resumo do job\n",
    "print(job.result())\n"
   ],
   "metadata": {
    "collapsed": false,
    "ExecuteTime": {
     "end_time": "2024-01-11T14:52:57.041626504Z",
     "start_time": "2024-01-11T14:52:56.037120051Z"
    }
   },
   "id": "8d9b9565b279fd98",
   "execution_count": 172
  },
  {
   "cell_type": "code",
   "outputs": [
    {
     "name": "stdout",
     "output_type": "stream",
     "text": [
      "Got dataset 'mvp-hp.dados_hp' with friendly_name 'None'.\n",
      "Description: None\n",
      "Labels:\n",
      "\tDataset has no labels defined.\n",
      "Tables:\n",
      "\tcalendario\n",
      "\tkm\n",
      "\ttmp_carros\n",
      "\ttmp_horarios\n",
      "\ttmp_linha\n"
     ]
    }
   ],
   "source": [
    "\n",
    "from google.cloud import bigquery\n",
    "\n",
    "# Construct a BigQuery client object.\n",
    "client = bigquery.Client()\n",
    "\n",
    "# TODO(developer): Set dataset_id to the ID of the dataset to fetch.\n",
    "# dataset_id = 'your-project.your_dataset'\n",
    "\n",
    "dataset = client.get_dataset(dataset_id)  # Make an API request.\n",
    "\n",
    "full_dataset_id = \"{}.{}\".format(dataset.project, dataset.dataset_id)\n",
    "friendly_name = dataset.friendly_name\n",
    "print(\n",
    "    \"Got dataset '{}' with friendly_name '{}'.\".format(\n",
    "        full_dataset_id, friendly_name\n",
    "    )\n",
    ")\n",
    "\n",
    "# View dataset properties.\n",
    "print(\"Description: {}\".format(dataset.description))\n",
    "print(\"Labels:\")\n",
    "labels = dataset.labels\n",
    "if labels:\n",
    "    for label, value in labels.items():\n",
    "        print(\"\\t{}: {}\".format(label, value))\n",
    "else:\n",
    "    print(\"\\tDataset has no labels defined.\")\n",
    "\n",
    "# View tables in dataset.\n",
    "print(\"Tables:\")\n",
    "tables = list(client.list_tables(dataset))  # Make an API request(s).\n",
    "if tables:\n",
    "    for table in tables:\n",
    "        print(\"\\t{}\".format(table.table_id))\n",
    "else:\n",
    "    print(\"\\tThis dataset does not contain any tables.\")"
   ],
   "metadata": {
    "collapsed": false,
    "ExecuteTime": {
     "end_time": "2024-01-11T17:07:56.510966278Z",
     "start_time": "2024-01-11T17:07:55.180875387Z"
    }
   },
   "id": "69b5ae3f4a5fc90d",
   "execution_count": 173
  },
  {
   "cell_type": "code",
   "outputs": [],
   "source": [],
   "metadata": {
    "collapsed": false
   },
   "id": "b00488e47a2a7851"
  }
 ],
 "metadata": {
  "kernelspec": {
   "display_name": "Python 3",
   "language": "python",
   "name": "python3"
  },
  "language_info": {
   "codemirror_mode": {
    "name": "ipython",
    "version": 2
   },
   "file_extension": ".py",
   "mimetype": "text/x-python",
   "name": "python",
   "nbconvert_exporter": "python",
   "pygments_lexer": "ipython2",
   "version": "2.7.6"
  }
 },
 "nbformat": 4,
 "nbformat_minor": 5
}
