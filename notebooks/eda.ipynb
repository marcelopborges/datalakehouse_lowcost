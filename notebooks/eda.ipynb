{
 "cells": [
  {
   "cell_type": "code",
   "execution_count": 1,
   "id": "initial_id",
   "metadata": {
    "collapsed": true,
    "ExecuteTime": {
     "end_time": "2024-01-08T18:36:29.585091976Z",
     "start_time": "2024-01-08T18:36:29.345387177Z"
    }
   },
   "outputs": [],
   "source": [
    "import duckdb\n",
    "import pandas as pd\n",
    "import pyarrow.parquet as pq"
   ]
  },
  {
   "cell_type": "code",
   "outputs": [],
   "source": [
    "conn = duckdb.connect(database=':memory:')"
   ],
   "metadata": {
    "collapsed": false,
    "ExecuteTime": {
     "end_time": "2024-01-08T18:36:29.590925259Z",
     "start_time": "2024-01-08T18:36:29.589827714Z"
    }
   },
   "id": "4b63f331363fb987",
   "execution_count": 2
  },
  {
   "cell_type": "markdown",
   "source": [
    "#### KM rodado"
   ],
   "metadata": {
    "collapsed": false
   },
   "id": "88b94eda56e9f91d"
  },
  {
   "cell_type": "code",
   "outputs": [],
   "source": [
    "km_df = pd.DataFrame()"
   ],
   "metadata": {
    "collapsed": false,
    "ExecuteTime": {
     "end_time": "2024-01-08T18:36:31.599938467Z",
     "start_time": "2024-01-08T18:36:31.597748110Z"
    }
   },
   "id": "ca84385fc463675f",
   "execution_count": 3
  },
  {
   "cell_type": "code",
   "outputs": [],
   "source": [
    "folder_path = '/home/marcelo-borges/Documentos/Projetos/datalakehouse_lowcost/elt/tmp/'"
   ],
   "metadata": {
    "collapsed": false,
    "ExecuteTime": {
     "end_time": "2024-01-08T18:36:33.629633576Z",
     "start_time": "2024-01-08T18:36:33.625947711Z"
    }
   },
   "id": "9545e5ebe63f971c",
   "execution_count": 4
  },
  {
   "cell_type": "code",
   "outputs": [],
   "source": [
    "km_df=conn.execute(f\"\"\n",
    "                f\"SELECT * FROM read_parquet('{folder_path}dna_kmRodado_*.parquet')\"\n",
    "                f\"order by DATA, PREFIXO_CARRO\").fetchdf()"
   ],
   "metadata": {
    "collapsed": false,
    "ExecuteTime": {
     "end_time": "2024-01-08T18:36:38.879267496Z",
     "start_time": "2024-01-08T18:36:37.949398039Z"
    }
   },
   "id": "7e26333452ae58f3",
   "execution_count": 5
  },
  {
   "cell_type": "code",
   "outputs": [
    {
     "data": {
      "text/plain": "Index(['PREFIXO_CARRO', 'ID_EQUIPAMENTO', 'DATA', 'ID_LINHA', 'DS_TIPO_CHASSI',\n       'DS_TIPO_MOTOR', 'DS_TIPO_CAMBIO', 'CARRO_AUXILIAR', 'FX_HORARIA',\n       'FX_SIGLA', 'FX_NOME', 'KM_OCIOSA', 'LITROS_LINHA', 'KM_LINHA',\n       'ABS_CARRO_KM_TOTAL_DIA', 'ABS_CARRO_LITROS_TOTAL_DIA'],\n      dtype='object')"
     },
     "execution_count": 6,
     "metadata": {},
     "output_type": "execute_result"
    }
   ],
   "source": [
    "km_df.columns"
   ],
   "metadata": {
    "collapsed": false,
    "ExecuteTime": {
     "end_time": "2024-01-08T18:36:40.899880219Z",
     "start_time": "2024-01-08T18:36:40.878260603Z"
    }
   },
   "id": "4a3293595fc77509",
   "execution_count": 6
  },
  {
   "cell_type": "markdown",
   "source": [
    "Entender o cenário onde pode ter 1 id_equipamento para mais de 1 prefixo_carro ou vice-versa. Porque em 1 ano isso não ocorreu e mesmo assim, quando forem analisar resultados sempre olharão em nível de prefixo de carro, minha sugestão é tirar o id_equipamento."
   ],
   "metadata": {
    "collapsed": false
   },
   "id": "33ea3eef82f89a06"
  },
  {
   "cell_type": "code",
   "outputs": [],
   "source": [
    "valores_unicos = km_df[['PREFIXO_CARRO', 'ID_EQUIPAMENTO']].drop_duplicates()"
   ],
   "metadata": {
    "collapsed": false,
    "ExecuteTime": {
     "end_time": "2024-01-08T18:36:52.028851921Z",
     "start_time": "2024-01-08T18:36:51.928354750Z"
    }
   },
   "id": "e2d97bc2dd239e2c",
   "execution_count": 7
  },
  {
   "cell_type": "code",
   "outputs": [],
   "source": [
    "km_df.drop(columns=['ID_EQUIPAMENTO'], inplace=True)"
   ],
   "metadata": {
    "collapsed": false,
    "ExecuteTime": {
     "end_time": "2024-01-08T18:36:55.564713449Z",
     "start_time": "2024-01-08T18:36:55.507158870Z"
    }
   },
   "id": "70e6c5f772309f65",
   "execution_count": 8
  },
  {
   "cell_type": "code",
   "outputs": [],
   "source": [
    "carros = km_df[['PREFIXO_CARRO','DS_TIPO_CHASSI', 'DS_TIPO_CAMBIO','DS_TIPO_MOTOR','CARRO_AUXILIAR']].drop_duplicates()"
   ],
   "metadata": {
    "collapsed": false,
    "ExecuteTime": {
     "end_time": "2024-01-08T18:37:00.634234989Z",
     "start_time": "2024-01-08T18:37:00.487036626Z"
    }
   },
   "id": "be584ebfc5e0388b",
   "execution_count": 9
  },
  {
   "cell_type": "code",
   "outputs": [
    {
     "data": {
      "text/plain": "       PREFIXO_CARRO DS_TIPO_CHASSI DS_TIPO_CAMBIO        DS_TIPO_MOTOR  \\\n0              20017        OF-1721         MANUAL   OM-924-LA.METÁLICO   \n13             20019        OF-1721         MANUAL   OM-924-LA.METÁLICO   \n22             20020        OF-1721         MANUAL   OM-924-LA.METÁLICO   \n27             20025        OF-1721         MANUAL   OM-924-LA.METÁLICO   \n32             20026        OF-1721         MANUAL   OM-924-LA.METÁLICO   \n...              ...            ...            ...                  ...   \n539424         20961       SPRINTER         MANUAL  OM 651 CDI BI-TURBO   \n568585         20932       SPRINTER         MANUAL  OM 651 CDI BI-TURBO   \n582105         20942       SPRINTER         MANUAL  OM 651 CDI BI-TURBO   \n601637         20963       SPRINTER         MANUAL  OM 651 CDI BI-TURBO   \n609850         20909       SPRINTER         MANUAL  OM 651 CDI BI-TURBO   \n\n       CARRO_AUXILIAR  \n0                 NAO  \n13                NAO  \n22                NAO  \n27                NAO  \n32                NAO  \n...               ...  \n539424            NAO  \n568585            NAO  \n582105            NAO  \n601637            NAO  \n609850            NAO  \n\n[330 rows x 5 columns]",
      "text/html": "<div>\n<style scoped>\n    .dataframe tbody tr th:only-of-type {\n        vertical-align: middle;\n    }\n\n    .dataframe tbody tr th {\n        vertical-align: top;\n    }\n\n    .dataframe thead th {\n        text-align: right;\n    }\n</style>\n<table border=\"1\" class=\"dataframe\">\n  <thead>\n    <tr style=\"text-align: right;\">\n      <th></th>\n      <th>PREFIXO_CARRO</th>\n      <th>DS_TIPO_CHASSI</th>\n      <th>DS_TIPO_CAMBIO</th>\n      <th>DS_TIPO_MOTOR</th>\n      <th>CARRO_AUXILIAR</th>\n    </tr>\n  </thead>\n  <tbody>\n    <tr>\n      <th>0</th>\n      <td>20017</td>\n      <td>OF-1721</td>\n      <td>MANUAL</td>\n      <td>OM-924-LA.METÁLICO</td>\n      <td>NAO</td>\n    </tr>\n    <tr>\n      <th>13</th>\n      <td>20019</td>\n      <td>OF-1721</td>\n      <td>MANUAL</td>\n      <td>OM-924-LA.METÁLICO</td>\n      <td>NAO</td>\n    </tr>\n    <tr>\n      <th>22</th>\n      <td>20020</td>\n      <td>OF-1721</td>\n      <td>MANUAL</td>\n      <td>OM-924-LA.METÁLICO</td>\n      <td>NAO</td>\n    </tr>\n    <tr>\n      <th>27</th>\n      <td>20025</td>\n      <td>OF-1721</td>\n      <td>MANUAL</td>\n      <td>OM-924-LA.METÁLICO</td>\n      <td>NAO</td>\n    </tr>\n    <tr>\n      <th>32</th>\n      <td>20026</td>\n      <td>OF-1721</td>\n      <td>MANUAL</td>\n      <td>OM-924-LA.METÁLICO</td>\n      <td>NAO</td>\n    </tr>\n    <tr>\n      <th>...</th>\n      <td>...</td>\n      <td>...</td>\n      <td>...</td>\n      <td>...</td>\n      <td>...</td>\n    </tr>\n    <tr>\n      <th>539424</th>\n      <td>20961</td>\n      <td>SPRINTER</td>\n      <td>MANUAL</td>\n      <td>OM 651 CDI BI-TURBO</td>\n      <td>NAO</td>\n    </tr>\n    <tr>\n      <th>568585</th>\n      <td>20932</td>\n      <td>SPRINTER</td>\n      <td>MANUAL</td>\n      <td>OM 651 CDI BI-TURBO</td>\n      <td>NAO</td>\n    </tr>\n    <tr>\n      <th>582105</th>\n      <td>20942</td>\n      <td>SPRINTER</td>\n      <td>MANUAL</td>\n      <td>OM 651 CDI BI-TURBO</td>\n      <td>NAO</td>\n    </tr>\n    <tr>\n      <th>601637</th>\n      <td>20963</td>\n      <td>SPRINTER</td>\n      <td>MANUAL</td>\n      <td>OM 651 CDI BI-TURBO</td>\n      <td>NAO</td>\n    </tr>\n    <tr>\n      <th>609850</th>\n      <td>20909</td>\n      <td>SPRINTER</td>\n      <td>MANUAL</td>\n      <td>OM 651 CDI BI-TURBO</td>\n      <td>NAO</td>\n    </tr>\n  </tbody>\n</table>\n<p>330 rows × 5 columns</p>\n</div>"
     },
     "execution_count": 10,
     "metadata": {},
     "output_type": "execute_result"
    }
   ],
   "source": [
    "carros"
   ],
   "metadata": {
    "collapsed": false,
    "ExecuteTime": {
     "end_time": "2024-01-08T18:37:07.685456551Z",
     "start_time": "2024-01-08T18:37:07.681586908Z"
    }
   },
   "id": "84b02e167302b5f6",
   "execution_count": 10
  },
  {
   "cell_type": "code",
   "outputs": [],
   "source": [
    "carros.to_parquet('/home/marcelo-borges/Documentos/Projetos/datalakehouse_lowcost/elt/transmission/dimension/dim_carro.parquet')"
   ],
   "metadata": {
    "collapsed": false,
    "ExecuteTime": {
     "end_time": "2024-01-08T18:37:11.419195881Z",
     "start_time": "2024-01-08T18:37:11.411805298Z"
    }
   },
   "id": "d61ea4b4542f73d2",
   "execution_count": 11
  },
  {
   "cell_type": "code",
   "outputs": [],
   "source": [
    "km_df.drop(columns=['DS_TIPO_CHASSI', 'DS_TIPO_CAMBIO','CARRO_AUXILIAR','DS_TIPO_MOTOR'], inplace=True)"
   ],
   "metadata": {
    "collapsed": false,
    "ExecuteTime": {
     "end_time": "2024-01-08T18:37:13.877212755Z",
     "start_time": "2024-01-08T18:37:13.875764863Z"
    }
   },
   "id": "b63687e2bcb925bd",
   "execution_count": 12
  },
  {
   "cell_type": "markdown",
   "source": [
    "exclusão das colunas ABS_CARRO_KM_TOTAL E ABS_CARRO_LITROS, pois são valores repetidos obtidos pelo agrupamento das colunas LITROS_LINHA E KM_LINHA"
   ],
   "metadata": {
    "collapsed": false
   },
   "id": "eaecabffe6f44a6f"
  },
  {
   "cell_type": "code",
   "outputs": [],
   "source": [
    "km_df.drop(columns=['ABS_CARRO_KM_TOTAL_DIA', 'ABS_CARRO_LITROS_TOTAL_DIA'], inplace=True)"
   ],
   "metadata": {
    "collapsed": false,
    "ExecuteTime": {
     "end_time": "2024-01-08T18:37:18.396340871Z",
     "start_time": "2024-01-08T18:37:18.356963759Z"
    }
   },
   "id": "a3b6c1875251bbf1",
   "execution_count": 13
  },
  {
   "cell_type": "markdown",
   "source": [
    "criação da tabela de horário e exclusão de informações redundantes"
   ],
   "metadata": {
    "collapsed": false
   },
   "id": "2616010bddb36de2"
  },
  {
   "cell_type": "code",
   "outputs": [],
   "source": [
    "horarios = km_df[['FX_HORARIA','FX_SIGLA','FX_NOME']].drop_duplicates()"
   ],
   "metadata": {
    "collapsed": false,
    "ExecuteTime": {
     "end_time": "2024-01-08T18:37:24.351896427Z",
     "start_time": "2024-01-08T18:37:24.245702258Z"
    }
   },
   "id": "818197311a9107c8",
   "execution_count": 14
  },
  {
   "cell_type": "code",
   "outputs": [],
   "source": [
    "horarios.to_parquet('/home/marcelo-borges/Documentos/Projetos/datalakehouse_lowcost/elt/transmission/dimension/dim_horario.parquet')"
   ],
   "metadata": {
    "collapsed": false,
    "ExecuteTime": {
     "end_time": "2024-01-08T18:37:26.197796250Z",
     "start_time": "2024-01-08T18:37:26.192225082Z"
    }
   },
   "id": "e3c196d7d36228ee",
   "execution_count": 15
  },
  {
   "cell_type": "code",
   "outputs": [],
   "source": [
    "km_df.drop(columns=['FX_SIGLA','FX_NOME'], inplace=True)"
   ],
   "metadata": {
    "collapsed": false,
    "ExecuteTime": {
     "end_time": "2024-01-08T18:37:28.754672045Z",
     "start_time": "2024-01-08T18:37:28.753187141Z"
    }
   },
   "id": "58de1985598824d0",
   "execution_count": 16
  },
  {
   "cell_type": "code",
   "outputs": [
    {
     "data": {
      "text/plain": "      FX_HORARIA FX_SIGLA           FX_NOME\n0             18       PT   4 PICO DA TARDE\n1             15       EP      3 ENTRE PICO\n2             14       EP      3 ENTRE PICO\n3             11       EP      3 ENTRE PICO\n4              6       PM   2 PICO DA MANHA\n5             10       EP      3 ENTRE PICO\n6             20       NT         5 NOTURNO\n7             13       EP      3 ENTRE PICO\n8              5       PM   2 PICO DA MANHA\n9              9       EP      3 ENTRE PICO\n11            16       PT   4 PICO DA TARDE\n12            12       EP      3 ENTRE PICO\n15             4       PP  1 PRE PICO MANHA\n20             7       PM   2 PICO DA MANHA\n23            17       PT   4 PICO DA TARDE\n27             8       EP      3 ENTRE PICO\n41            21       NT         5 NOTURNO\n42            19       NT         5 NOTURNO\n44            22       NT         5 NOTURNO\n45             1       NT         5 NOTURNO\n48             3       PP  1 PRE PICO MANHA\n49             0       NT         5 NOTURNO\n55            23       NT         5 NOTURNO\n114         REAB     REAB              REAB\n19226          2       NT         5 NOTURNO",
      "text/html": "<div>\n<style scoped>\n    .dataframe tbody tr th:only-of-type {\n        vertical-align: middle;\n    }\n\n    .dataframe tbody tr th {\n        vertical-align: top;\n    }\n\n    .dataframe thead th {\n        text-align: right;\n    }\n</style>\n<table border=\"1\" class=\"dataframe\">\n  <thead>\n    <tr style=\"text-align: right;\">\n      <th></th>\n      <th>FX_HORARIA</th>\n      <th>FX_SIGLA</th>\n      <th>FX_NOME</th>\n    </tr>\n  </thead>\n  <tbody>\n    <tr>\n      <th>0</th>\n      <td>18</td>\n      <td>PT</td>\n      <td>4 PICO DA TARDE</td>\n    </tr>\n    <tr>\n      <th>1</th>\n      <td>15</td>\n      <td>EP</td>\n      <td>3 ENTRE PICO</td>\n    </tr>\n    <tr>\n      <th>2</th>\n      <td>14</td>\n      <td>EP</td>\n      <td>3 ENTRE PICO</td>\n    </tr>\n    <tr>\n      <th>3</th>\n      <td>11</td>\n      <td>EP</td>\n      <td>3 ENTRE PICO</td>\n    </tr>\n    <tr>\n      <th>4</th>\n      <td>6</td>\n      <td>PM</td>\n      <td>2 PICO DA MANHA</td>\n    </tr>\n    <tr>\n      <th>5</th>\n      <td>10</td>\n      <td>EP</td>\n      <td>3 ENTRE PICO</td>\n    </tr>\n    <tr>\n      <th>6</th>\n      <td>20</td>\n      <td>NT</td>\n      <td>5 NOTURNO</td>\n    </tr>\n    <tr>\n      <th>7</th>\n      <td>13</td>\n      <td>EP</td>\n      <td>3 ENTRE PICO</td>\n    </tr>\n    <tr>\n      <th>8</th>\n      <td>5</td>\n      <td>PM</td>\n      <td>2 PICO DA MANHA</td>\n    </tr>\n    <tr>\n      <th>9</th>\n      <td>9</td>\n      <td>EP</td>\n      <td>3 ENTRE PICO</td>\n    </tr>\n    <tr>\n      <th>11</th>\n      <td>16</td>\n      <td>PT</td>\n      <td>4 PICO DA TARDE</td>\n    </tr>\n    <tr>\n      <th>12</th>\n      <td>12</td>\n      <td>EP</td>\n      <td>3 ENTRE PICO</td>\n    </tr>\n    <tr>\n      <th>15</th>\n      <td>4</td>\n      <td>PP</td>\n      <td>1 PRE PICO MANHA</td>\n    </tr>\n    <tr>\n      <th>20</th>\n      <td>7</td>\n      <td>PM</td>\n      <td>2 PICO DA MANHA</td>\n    </tr>\n    <tr>\n      <th>23</th>\n      <td>17</td>\n      <td>PT</td>\n      <td>4 PICO DA TARDE</td>\n    </tr>\n    <tr>\n      <th>27</th>\n      <td>8</td>\n      <td>EP</td>\n      <td>3 ENTRE PICO</td>\n    </tr>\n    <tr>\n      <th>41</th>\n      <td>21</td>\n      <td>NT</td>\n      <td>5 NOTURNO</td>\n    </tr>\n    <tr>\n      <th>42</th>\n      <td>19</td>\n      <td>NT</td>\n      <td>5 NOTURNO</td>\n    </tr>\n    <tr>\n      <th>44</th>\n      <td>22</td>\n      <td>NT</td>\n      <td>5 NOTURNO</td>\n    </tr>\n    <tr>\n      <th>45</th>\n      <td>1</td>\n      <td>NT</td>\n      <td>5 NOTURNO</td>\n    </tr>\n    <tr>\n      <th>48</th>\n      <td>3</td>\n      <td>PP</td>\n      <td>1 PRE PICO MANHA</td>\n    </tr>\n    <tr>\n      <th>49</th>\n      <td>0</td>\n      <td>NT</td>\n      <td>5 NOTURNO</td>\n    </tr>\n    <tr>\n      <th>55</th>\n      <td>23</td>\n      <td>NT</td>\n      <td>5 NOTURNO</td>\n    </tr>\n    <tr>\n      <th>114</th>\n      <td>REAB</td>\n      <td>REAB</td>\n      <td>REAB</td>\n    </tr>\n    <tr>\n      <th>19226</th>\n      <td>2</td>\n      <td>NT</td>\n      <td>5 NOTURNO</td>\n    </tr>\n  </tbody>\n</table>\n</div>"
     },
     "execution_count": 17,
     "metadata": {},
     "output_type": "execute_result"
    }
   ],
   "source": [
    "horarios"
   ],
   "metadata": {
    "collapsed": false,
    "ExecuteTime": {
     "end_time": "2024-01-08T18:37:30.518018428Z",
     "start_time": "2024-01-08T18:37:30.472364931Z"
    }
   },
   "id": "27a591bf8ee88d8e",
   "execution_count": 17
  },
  {
   "cell_type": "markdown",
   "source": [
    "casting"
   ],
   "metadata": {
    "collapsed": false
   },
   "id": "c227c16f28bd30f9"
  },
  {
   "cell_type": "code",
   "outputs": [
    {
     "data": {
      "text/plain": "        PREFIXO_CARRO        DATA ID_LINHA FX_HORARIA  \\\n0               20017  01/01/2023     5274         18   \n1               20017  01/01/2023     5271         15   \n2               20017  01/01/2023     5269         14   \n3               20017  01/01/2023     5269         11   \n4               20017  01/01/2023     5147          6   \n...               ...         ...      ...        ...   \n644537          20552  31/12/2023     5263         18   \n644538          20552  31/12/2023     5263         20   \n644539          20552  31/12/2023     5264          5   \n644540          20552  31/12/2023     5261         12   \n644541          20552  31/12/2023     5264          7   \n\n                                        KM_OCIOSA  \\\n0        1,39773851590106007067137809187279151943   \n1       ,8010278076509448455984022123214011368877   \n2       ,8036472576432631740666769088953756337384   \n3       ,8036472576432631740666769088953756337384   \n4        1,41188354585957904440006145337225380243   \n...                                           ...   \n644537   6,99832784612718766245018194420377750823   \n644538   6,99832784612718766245018194420377750823   \n644539   7,32485011263212614798128573904002772483   \n644540   5,48318488996707676312597470109166522267   \n644541   7,32485011263212614798128573904002772483   \n\n                                     LITROS_LINHA  \\\n0        8,40282685512367491166077738515901060071   \n1        4,81556306652327546474112766938085727454   \n2        4,83131049316331233676447995083730219696   \n3        4,83131049316331233676447995083730219696   \n4        8,48786295897987402058687970502381318175   \n...                                           ...   \n644537  13,54593657944896898284526078669208109513   \n644538  13,54593657944896898284526078669208109513   \n644539  14,17795182810604747877317622595737307226   \n644540  10,61323167561947669381389707156472015249   \n644541  14,17795182810604747877317622595737307226   \n\n                                         KM_LINHA  \n0       28,07773851590106007067137809187279151944  \n1       16,09102780765094484559840221232140113689  \n2       16,14364725764326317406667690889537563375  \n3       16,14364725764326317406667690889537563375  \n4       28,36188354585957904440006145337225380244  \n...                                           ...  \n644537  42,14832784612718766245018194420377750821  \n644538  42,14832784612718766245018194420377750821  \n644539  44,11485011263212614798128573904002772483  \n644540  33,02318488996707676312597470109166522268  \n644541  44,11485011263212614798128573904002772483  \n\n[644542 rows x 7 columns]",
      "text/html": "<div>\n<style scoped>\n    .dataframe tbody tr th:only-of-type {\n        vertical-align: middle;\n    }\n\n    .dataframe tbody tr th {\n        vertical-align: top;\n    }\n\n    .dataframe thead th {\n        text-align: right;\n    }\n</style>\n<table border=\"1\" class=\"dataframe\">\n  <thead>\n    <tr style=\"text-align: right;\">\n      <th></th>\n      <th>PREFIXO_CARRO</th>\n      <th>DATA</th>\n      <th>ID_LINHA</th>\n      <th>FX_HORARIA</th>\n      <th>KM_OCIOSA</th>\n      <th>LITROS_LINHA</th>\n      <th>KM_LINHA</th>\n    </tr>\n  </thead>\n  <tbody>\n    <tr>\n      <th>0</th>\n      <td>20017</td>\n      <td>01/01/2023</td>\n      <td>5274</td>\n      <td>18</td>\n      <td>1,39773851590106007067137809187279151943</td>\n      <td>8,40282685512367491166077738515901060071</td>\n      <td>28,07773851590106007067137809187279151944</td>\n    </tr>\n    <tr>\n      <th>1</th>\n      <td>20017</td>\n      <td>01/01/2023</td>\n      <td>5271</td>\n      <td>15</td>\n      <td>,8010278076509448455984022123214011368877</td>\n      <td>4,81556306652327546474112766938085727454</td>\n      <td>16,09102780765094484559840221232140113689</td>\n    </tr>\n    <tr>\n      <th>2</th>\n      <td>20017</td>\n      <td>01/01/2023</td>\n      <td>5269</td>\n      <td>14</td>\n      <td>,8036472576432631740666769088953756337384</td>\n      <td>4,83131049316331233676447995083730219696</td>\n      <td>16,14364725764326317406667690889537563375</td>\n    </tr>\n    <tr>\n      <th>3</th>\n      <td>20017</td>\n      <td>01/01/2023</td>\n      <td>5269</td>\n      <td>11</td>\n      <td>,8036472576432631740666769088953756337384</td>\n      <td>4,83131049316331233676447995083730219696</td>\n      <td>16,14364725764326317406667690889537563375</td>\n    </tr>\n    <tr>\n      <th>4</th>\n      <td>20017</td>\n      <td>01/01/2023</td>\n      <td>5147</td>\n      <td>6</td>\n      <td>1,41188354585957904440006145337225380243</td>\n      <td>8,48786295897987402058687970502381318175</td>\n      <td>28,36188354585957904440006145337225380244</td>\n    </tr>\n    <tr>\n      <th>...</th>\n      <td>...</td>\n      <td>...</td>\n      <td>...</td>\n      <td>...</td>\n      <td>...</td>\n      <td>...</td>\n      <td>...</td>\n    </tr>\n    <tr>\n      <th>644537</th>\n      <td>20552</td>\n      <td>31/12/2023</td>\n      <td>5263</td>\n      <td>18</td>\n      <td>6,99832784612718766245018194420377750823</td>\n      <td>13,54593657944896898284526078669208109513</td>\n      <td>42,14832784612718766245018194420377750821</td>\n    </tr>\n    <tr>\n      <th>644538</th>\n      <td>20552</td>\n      <td>31/12/2023</td>\n      <td>5263</td>\n      <td>20</td>\n      <td>6,99832784612718766245018194420377750823</td>\n      <td>13,54593657944896898284526078669208109513</td>\n      <td>42,14832784612718766245018194420377750821</td>\n    </tr>\n    <tr>\n      <th>644539</th>\n      <td>20552</td>\n      <td>31/12/2023</td>\n      <td>5264</td>\n      <td>5</td>\n      <td>7,32485011263212614798128573904002772483</td>\n      <td>14,17795182810604747877317622595737307226</td>\n      <td>44,11485011263212614798128573904002772483</td>\n    </tr>\n    <tr>\n      <th>644540</th>\n      <td>20552</td>\n      <td>31/12/2023</td>\n      <td>5261</td>\n      <td>12</td>\n      <td>5,48318488996707676312597470109166522267</td>\n      <td>10,61323167561947669381389707156472015249</td>\n      <td>33,02318488996707676312597470109166522268</td>\n    </tr>\n    <tr>\n      <th>644541</th>\n      <td>20552</td>\n      <td>31/12/2023</td>\n      <td>5264</td>\n      <td>7</td>\n      <td>7,32485011263212614798128573904002772483</td>\n      <td>14,17795182810604747877317622595737307226</td>\n      <td>44,11485011263212614798128573904002772483</td>\n    </tr>\n  </tbody>\n</table>\n<p>644542 rows × 7 columns</p>\n</div>"
     },
     "execution_count": 23,
     "metadata": {},
     "output_type": "execute_result"
    }
   ],
   "source": [
    "km_df"
   ],
   "metadata": {
    "collapsed": false,
    "ExecuteTime": {
     "end_time": "2024-01-08T18:39:50.449362014Z",
     "start_time": "2024-01-08T18:39:50.446196291Z"
    }
   },
   "id": "acea6badd45672ec",
   "execution_count": 23
  },
  {
   "cell_type": "code",
   "outputs": [
    {
     "data": {
      "text/plain": "PREFIXO_CARRO     int16\nDATA             object\nID_LINHA         object\nFX_HORARIA       object\nKM_OCIOSA        object\nLITROS_LINHA     object\nKM_LINHA         object\ndtype: object"
     },
     "execution_count": 22,
     "metadata": {},
     "output_type": "execute_result"
    }
   ],
   "source": [
    "km_df.dtypes"
   ],
   "metadata": {
    "collapsed": false,
    "ExecuteTime": {
     "end_time": "2024-01-08T18:39:18.239870010Z",
     "start_time": "2024-01-08T18:39:18.233434254Z"
    }
   },
   "id": "4ec466b89d3cf38a",
   "execution_count": 22
  },
  {
   "cell_type": "code",
   "outputs": [],
   "source": [
    "km_df['DATA'] = pd.to_datetime(km_df['DATA'], format='%d/%m/%Y')\n",
    "# km_df['DATA'] = km_df['DATA'].dt.strftime('%d/%m/%Y')"
   ],
   "metadata": {
    "collapsed": false,
    "ExecuteTime": {
     "end_time": "2024-01-08T18:52:30.731888529Z",
     "start_time": "2024-01-08T18:52:30.674011795Z"
    }
   },
   "id": "b1585faac874ea77",
   "execution_count": 52
  },
  {
   "cell_type": "code",
   "outputs": [],
   "source": [
    "km_df['PREFIXO_CARRO'] = pd.to_numeric(km_df['PREFIXO_CARRO'],downcast='integer')"
   ],
   "metadata": {
    "collapsed": false,
    "ExecuteTime": {
     "end_time": "2024-01-08T18:52:32.704778500Z",
     "start_time": "2024-01-08T18:52:32.693607896Z"
    }
   },
   "id": "8cb5cc0c586d522c",
   "execution_count": 53
  },
  {
   "cell_type": "markdown",
   "source": [
    "Transformando os dados de litros_linha que está em string para o formato númerico universal"
   ],
   "metadata": {
    "collapsed": false
   },
   "id": "5a6f2b2bace938a9"
  },
  {
   "cell_type": "code",
   "outputs": [
    {
     "ename": "AttributeError",
     "evalue": "Can only use .str accessor with string values!",
     "output_type": "error",
     "traceback": [
      "\u001B[0;31m---------------------------------------------------------------------------\u001B[0m",
      "\u001B[0;31mAttributeError\u001B[0m                            Traceback (most recent call last)",
      "Cell \u001B[0;32mIn[54], line 1\u001B[0m\n\u001B[0;32m----> 1\u001B[0m km_df[\u001B[38;5;124m'\u001B[39m\u001B[38;5;124mLITROS_LINHA\u001B[39m\u001B[38;5;124m'\u001B[39m] \u001B[38;5;241m=\u001B[39m \u001B[43mkm_df\u001B[49m\u001B[43m[\u001B[49m\u001B[38;5;124;43m'\u001B[39;49m\u001B[38;5;124;43mLITROS_LINHA\u001B[39;49m\u001B[38;5;124;43m'\u001B[39;49m\u001B[43m]\u001B[49m\u001B[38;5;241;43m.\u001B[39;49m\u001B[43mstr\u001B[49m\u001B[38;5;241m.\u001B[39mreplace(\u001B[38;5;124m'\u001B[39m\u001B[38;5;124m,\u001B[39m\u001B[38;5;124m'\u001B[39m, \u001B[38;5;124m'\u001B[39m\u001B[38;5;124m.\u001B[39m\u001B[38;5;124m'\u001B[39m)\n\u001B[1;32m      2\u001B[0m km_df[\u001B[38;5;124m'\u001B[39m\u001B[38;5;124mLITROS_LINHA\u001B[39m\u001B[38;5;124m'\u001B[39m] \u001B[38;5;241m=\u001B[39m pd\u001B[38;5;241m.\u001B[39mto_numeric(km_df[\u001B[38;5;124m'\u001B[39m\u001B[38;5;124mLITROS_LINHA\u001B[39m\u001B[38;5;124m'\u001B[39m], downcast\u001B[38;5;241m=\u001B[39m\u001B[38;5;124m'\u001B[39m\u001B[38;5;124mfloat\u001B[39m\u001B[38;5;124m'\u001B[39m)\n",
      "File \u001B[0;32m~/.cache/pypoetry/virtualenvs/datalakehouse-lowcost-LhbOqF2c-py3.11/lib/python3.11/site-packages/pandas/core/generic.py:6204\u001B[0m, in \u001B[0;36mNDFrame.__getattr__\u001B[0;34m(self, name)\u001B[0m\n\u001B[1;32m   6197\u001B[0m \u001B[38;5;28;01mif\u001B[39;00m (\n\u001B[1;32m   6198\u001B[0m     name \u001B[38;5;129;01mnot\u001B[39;00m \u001B[38;5;129;01min\u001B[39;00m \u001B[38;5;28mself\u001B[39m\u001B[38;5;241m.\u001B[39m_internal_names_set\n\u001B[1;32m   6199\u001B[0m     \u001B[38;5;129;01mand\u001B[39;00m name \u001B[38;5;129;01mnot\u001B[39;00m \u001B[38;5;129;01min\u001B[39;00m \u001B[38;5;28mself\u001B[39m\u001B[38;5;241m.\u001B[39m_metadata\n\u001B[1;32m   6200\u001B[0m     \u001B[38;5;129;01mand\u001B[39;00m name \u001B[38;5;129;01mnot\u001B[39;00m \u001B[38;5;129;01min\u001B[39;00m \u001B[38;5;28mself\u001B[39m\u001B[38;5;241m.\u001B[39m_accessors\n\u001B[1;32m   6201\u001B[0m     \u001B[38;5;129;01mand\u001B[39;00m \u001B[38;5;28mself\u001B[39m\u001B[38;5;241m.\u001B[39m_info_axis\u001B[38;5;241m.\u001B[39m_can_hold_identifiers_and_holds_name(name)\n\u001B[1;32m   6202\u001B[0m ):\n\u001B[1;32m   6203\u001B[0m     \u001B[38;5;28;01mreturn\u001B[39;00m \u001B[38;5;28mself\u001B[39m[name]\n\u001B[0;32m-> 6204\u001B[0m \u001B[38;5;28;01mreturn\u001B[39;00m \u001B[38;5;28;43mobject\u001B[39;49m\u001B[38;5;241;43m.\u001B[39;49m\u001B[38;5;21;43m__getattribute__\u001B[39;49m\u001B[43m(\u001B[49m\u001B[38;5;28;43mself\u001B[39;49m\u001B[43m,\u001B[49m\u001B[43m \u001B[49m\u001B[43mname\u001B[49m\u001B[43m)\u001B[49m\n",
      "File \u001B[0;32m~/.cache/pypoetry/virtualenvs/datalakehouse-lowcost-LhbOqF2c-py3.11/lib/python3.11/site-packages/pandas/core/accessor.py:224\u001B[0m, in \u001B[0;36mCachedAccessor.__get__\u001B[0;34m(self, obj, cls)\u001B[0m\n\u001B[1;32m    221\u001B[0m \u001B[38;5;28;01mif\u001B[39;00m obj \u001B[38;5;129;01mis\u001B[39;00m \u001B[38;5;28;01mNone\u001B[39;00m:\n\u001B[1;32m    222\u001B[0m     \u001B[38;5;66;03m# we're accessing the attribute of the class, i.e., Dataset.geo\u001B[39;00m\n\u001B[1;32m    223\u001B[0m     \u001B[38;5;28;01mreturn\u001B[39;00m \u001B[38;5;28mself\u001B[39m\u001B[38;5;241m.\u001B[39m_accessor\n\u001B[0;32m--> 224\u001B[0m accessor_obj \u001B[38;5;241m=\u001B[39m \u001B[38;5;28;43mself\u001B[39;49m\u001B[38;5;241;43m.\u001B[39;49m\u001B[43m_accessor\u001B[49m\u001B[43m(\u001B[49m\u001B[43mobj\u001B[49m\u001B[43m)\u001B[49m\n\u001B[1;32m    225\u001B[0m \u001B[38;5;66;03m# Replace the property with the accessor object. Inspired by:\u001B[39;00m\n\u001B[1;32m    226\u001B[0m \u001B[38;5;66;03m# https://www.pydanny.com/cached-property.html\u001B[39;00m\n\u001B[1;32m    227\u001B[0m \u001B[38;5;66;03m# We need to use object.__setattr__ because we overwrite __setattr__ on\u001B[39;00m\n\u001B[1;32m    228\u001B[0m \u001B[38;5;66;03m# NDFrame\u001B[39;00m\n\u001B[1;32m    229\u001B[0m \u001B[38;5;28mobject\u001B[39m\u001B[38;5;241m.\u001B[39m\u001B[38;5;21m__setattr__\u001B[39m(obj, \u001B[38;5;28mself\u001B[39m\u001B[38;5;241m.\u001B[39m_name, accessor_obj)\n",
      "File \u001B[0;32m~/.cache/pypoetry/virtualenvs/datalakehouse-lowcost-LhbOqF2c-py3.11/lib/python3.11/site-packages/pandas/core/strings/accessor.py:190\u001B[0m, in \u001B[0;36mStringMethods.__init__\u001B[0;34m(self, data)\u001B[0m\n\u001B[1;32m    187\u001B[0m \u001B[38;5;28;01mdef\u001B[39;00m \u001B[38;5;21m__init__\u001B[39m(\u001B[38;5;28mself\u001B[39m, data) \u001B[38;5;241m-\u001B[39m\u001B[38;5;241m>\u001B[39m \u001B[38;5;28;01mNone\u001B[39;00m:\n\u001B[1;32m    188\u001B[0m     \u001B[38;5;28;01mfrom\u001B[39;00m \u001B[38;5;21;01mpandas\u001B[39;00m\u001B[38;5;21;01m.\u001B[39;00m\u001B[38;5;21;01mcore\u001B[39;00m\u001B[38;5;21;01m.\u001B[39;00m\u001B[38;5;21;01marrays\u001B[39;00m\u001B[38;5;21;01m.\u001B[39;00m\u001B[38;5;21;01mstring_\u001B[39;00m \u001B[38;5;28;01mimport\u001B[39;00m StringDtype\n\u001B[0;32m--> 190\u001B[0m     \u001B[38;5;28mself\u001B[39m\u001B[38;5;241m.\u001B[39m_inferred_dtype \u001B[38;5;241m=\u001B[39m \u001B[38;5;28;43mself\u001B[39;49m\u001B[38;5;241;43m.\u001B[39;49m\u001B[43m_validate\u001B[49m\u001B[43m(\u001B[49m\u001B[43mdata\u001B[49m\u001B[43m)\u001B[49m\n\u001B[1;32m    191\u001B[0m     \u001B[38;5;28mself\u001B[39m\u001B[38;5;241m.\u001B[39m_is_categorical \u001B[38;5;241m=\u001B[39m \u001B[38;5;28misinstance\u001B[39m(data\u001B[38;5;241m.\u001B[39mdtype, CategoricalDtype)\n\u001B[1;32m    192\u001B[0m     \u001B[38;5;28mself\u001B[39m\u001B[38;5;241m.\u001B[39m_is_string \u001B[38;5;241m=\u001B[39m \u001B[38;5;28misinstance\u001B[39m(data\u001B[38;5;241m.\u001B[39mdtype, StringDtype)\n",
      "File \u001B[0;32m~/.cache/pypoetry/virtualenvs/datalakehouse-lowcost-LhbOqF2c-py3.11/lib/python3.11/site-packages/pandas/core/strings/accessor.py:244\u001B[0m, in \u001B[0;36mStringMethods._validate\u001B[0;34m(data)\u001B[0m\n\u001B[1;32m    241\u001B[0m inferred_dtype \u001B[38;5;241m=\u001B[39m lib\u001B[38;5;241m.\u001B[39minfer_dtype(values, skipna\u001B[38;5;241m=\u001B[39m\u001B[38;5;28;01mTrue\u001B[39;00m)\n\u001B[1;32m    243\u001B[0m \u001B[38;5;28;01mif\u001B[39;00m inferred_dtype \u001B[38;5;129;01mnot\u001B[39;00m \u001B[38;5;129;01min\u001B[39;00m allowed_types:\n\u001B[0;32m--> 244\u001B[0m     \u001B[38;5;28;01mraise\u001B[39;00m \u001B[38;5;167;01mAttributeError\u001B[39;00m(\u001B[38;5;124m\"\u001B[39m\u001B[38;5;124mCan only use .str accessor with string values!\u001B[39m\u001B[38;5;124m\"\u001B[39m)\n\u001B[1;32m    245\u001B[0m \u001B[38;5;28;01mreturn\u001B[39;00m inferred_dtype\n",
      "\u001B[0;31mAttributeError\u001B[0m: Can only use .str accessor with string values!"
     ]
    }
   ],
   "source": [
    "km_df['LITROS_LINHA'] = km_df['LITROS_LINHA'].str.replace(',', '.')\n",
    "km_df['LITROS_LINHA'] = pd.to_numeric(km_df['LITROS_LINHA'], downcast='float')"
   ],
   "metadata": {
    "collapsed": false,
    "ExecuteTime": {
     "end_time": "2024-01-08T18:52:33.563527944Z",
     "start_time": "2024-01-08T18:52:33.514338178Z"
    }
   },
   "id": "9abdcebfdb5f3e36",
   "execution_count": 54
  },
  {
   "cell_type": "code",
   "outputs": [
    {
     "ename": "AttributeError",
     "evalue": "Can only use .str accessor with string values!",
     "output_type": "error",
     "traceback": [
      "\u001B[0;31m---------------------------------------------------------------------------\u001B[0m",
      "\u001B[0;31mAttributeError\u001B[0m                            Traceback (most recent call last)",
      "Cell \u001B[0;32mIn[55], line 1\u001B[0m\n\u001B[0;32m----> 1\u001B[0m km_df[\u001B[38;5;124m'\u001B[39m\u001B[38;5;124mKM_OCIOSA\u001B[39m\u001B[38;5;124m'\u001B[39m] \u001B[38;5;241m=\u001B[39m \u001B[43mkm_df\u001B[49m\u001B[43m[\u001B[49m\u001B[38;5;124;43m'\u001B[39;49m\u001B[38;5;124;43mKM_OCIOSA\u001B[39;49m\u001B[38;5;124;43m'\u001B[39;49m\u001B[43m]\u001B[49m\u001B[38;5;241;43m.\u001B[39;49m\u001B[43mstr\u001B[49m\u001B[38;5;241m.\u001B[39mreplace(\u001B[38;5;124m'\u001B[39m\u001B[38;5;124m,\u001B[39m\u001B[38;5;124m'\u001B[39m, \u001B[38;5;124m'\u001B[39m\u001B[38;5;124m.\u001B[39m\u001B[38;5;124m'\u001B[39m)\n\u001B[1;32m      2\u001B[0m km_df[\u001B[38;5;124m'\u001B[39m\u001B[38;5;124mKM_OCIOSA\u001B[39m\u001B[38;5;124m'\u001B[39m] \u001B[38;5;241m=\u001B[39m pd\u001B[38;5;241m.\u001B[39mto_numeric(km_df[\u001B[38;5;124m'\u001B[39m\u001B[38;5;124mKM_OCIOSA\u001B[39m\u001B[38;5;124m'\u001B[39m], downcast\u001B[38;5;241m=\u001B[39m\u001B[38;5;124m'\u001B[39m\u001B[38;5;124mfloat\u001B[39m\u001B[38;5;124m'\u001B[39m)\n",
      "File \u001B[0;32m~/.cache/pypoetry/virtualenvs/datalakehouse-lowcost-LhbOqF2c-py3.11/lib/python3.11/site-packages/pandas/core/generic.py:6204\u001B[0m, in \u001B[0;36mNDFrame.__getattr__\u001B[0;34m(self, name)\u001B[0m\n\u001B[1;32m   6197\u001B[0m \u001B[38;5;28;01mif\u001B[39;00m (\n\u001B[1;32m   6198\u001B[0m     name \u001B[38;5;129;01mnot\u001B[39;00m \u001B[38;5;129;01min\u001B[39;00m \u001B[38;5;28mself\u001B[39m\u001B[38;5;241m.\u001B[39m_internal_names_set\n\u001B[1;32m   6199\u001B[0m     \u001B[38;5;129;01mand\u001B[39;00m name \u001B[38;5;129;01mnot\u001B[39;00m \u001B[38;5;129;01min\u001B[39;00m \u001B[38;5;28mself\u001B[39m\u001B[38;5;241m.\u001B[39m_metadata\n\u001B[1;32m   6200\u001B[0m     \u001B[38;5;129;01mand\u001B[39;00m name \u001B[38;5;129;01mnot\u001B[39;00m \u001B[38;5;129;01min\u001B[39;00m \u001B[38;5;28mself\u001B[39m\u001B[38;5;241m.\u001B[39m_accessors\n\u001B[1;32m   6201\u001B[0m     \u001B[38;5;129;01mand\u001B[39;00m \u001B[38;5;28mself\u001B[39m\u001B[38;5;241m.\u001B[39m_info_axis\u001B[38;5;241m.\u001B[39m_can_hold_identifiers_and_holds_name(name)\n\u001B[1;32m   6202\u001B[0m ):\n\u001B[1;32m   6203\u001B[0m     \u001B[38;5;28;01mreturn\u001B[39;00m \u001B[38;5;28mself\u001B[39m[name]\n\u001B[0;32m-> 6204\u001B[0m \u001B[38;5;28;01mreturn\u001B[39;00m \u001B[38;5;28;43mobject\u001B[39;49m\u001B[38;5;241;43m.\u001B[39;49m\u001B[38;5;21;43m__getattribute__\u001B[39;49m\u001B[43m(\u001B[49m\u001B[38;5;28;43mself\u001B[39;49m\u001B[43m,\u001B[49m\u001B[43m \u001B[49m\u001B[43mname\u001B[49m\u001B[43m)\u001B[49m\n",
      "File \u001B[0;32m~/.cache/pypoetry/virtualenvs/datalakehouse-lowcost-LhbOqF2c-py3.11/lib/python3.11/site-packages/pandas/core/accessor.py:224\u001B[0m, in \u001B[0;36mCachedAccessor.__get__\u001B[0;34m(self, obj, cls)\u001B[0m\n\u001B[1;32m    221\u001B[0m \u001B[38;5;28;01mif\u001B[39;00m obj \u001B[38;5;129;01mis\u001B[39;00m \u001B[38;5;28;01mNone\u001B[39;00m:\n\u001B[1;32m    222\u001B[0m     \u001B[38;5;66;03m# we're accessing the attribute of the class, i.e., Dataset.geo\u001B[39;00m\n\u001B[1;32m    223\u001B[0m     \u001B[38;5;28;01mreturn\u001B[39;00m \u001B[38;5;28mself\u001B[39m\u001B[38;5;241m.\u001B[39m_accessor\n\u001B[0;32m--> 224\u001B[0m accessor_obj \u001B[38;5;241m=\u001B[39m \u001B[38;5;28;43mself\u001B[39;49m\u001B[38;5;241;43m.\u001B[39;49m\u001B[43m_accessor\u001B[49m\u001B[43m(\u001B[49m\u001B[43mobj\u001B[49m\u001B[43m)\u001B[49m\n\u001B[1;32m    225\u001B[0m \u001B[38;5;66;03m# Replace the property with the accessor object. Inspired by:\u001B[39;00m\n\u001B[1;32m    226\u001B[0m \u001B[38;5;66;03m# https://www.pydanny.com/cached-property.html\u001B[39;00m\n\u001B[1;32m    227\u001B[0m \u001B[38;5;66;03m# We need to use object.__setattr__ because we overwrite __setattr__ on\u001B[39;00m\n\u001B[1;32m    228\u001B[0m \u001B[38;5;66;03m# NDFrame\u001B[39;00m\n\u001B[1;32m    229\u001B[0m \u001B[38;5;28mobject\u001B[39m\u001B[38;5;241m.\u001B[39m\u001B[38;5;21m__setattr__\u001B[39m(obj, \u001B[38;5;28mself\u001B[39m\u001B[38;5;241m.\u001B[39m_name, accessor_obj)\n",
      "File \u001B[0;32m~/.cache/pypoetry/virtualenvs/datalakehouse-lowcost-LhbOqF2c-py3.11/lib/python3.11/site-packages/pandas/core/strings/accessor.py:190\u001B[0m, in \u001B[0;36mStringMethods.__init__\u001B[0;34m(self, data)\u001B[0m\n\u001B[1;32m    187\u001B[0m \u001B[38;5;28;01mdef\u001B[39;00m \u001B[38;5;21m__init__\u001B[39m(\u001B[38;5;28mself\u001B[39m, data) \u001B[38;5;241m-\u001B[39m\u001B[38;5;241m>\u001B[39m \u001B[38;5;28;01mNone\u001B[39;00m:\n\u001B[1;32m    188\u001B[0m     \u001B[38;5;28;01mfrom\u001B[39;00m \u001B[38;5;21;01mpandas\u001B[39;00m\u001B[38;5;21;01m.\u001B[39;00m\u001B[38;5;21;01mcore\u001B[39;00m\u001B[38;5;21;01m.\u001B[39;00m\u001B[38;5;21;01marrays\u001B[39;00m\u001B[38;5;21;01m.\u001B[39;00m\u001B[38;5;21;01mstring_\u001B[39;00m \u001B[38;5;28;01mimport\u001B[39;00m StringDtype\n\u001B[0;32m--> 190\u001B[0m     \u001B[38;5;28mself\u001B[39m\u001B[38;5;241m.\u001B[39m_inferred_dtype \u001B[38;5;241m=\u001B[39m \u001B[38;5;28;43mself\u001B[39;49m\u001B[38;5;241;43m.\u001B[39;49m\u001B[43m_validate\u001B[49m\u001B[43m(\u001B[49m\u001B[43mdata\u001B[49m\u001B[43m)\u001B[49m\n\u001B[1;32m    191\u001B[0m     \u001B[38;5;28mself\u001B[39m\u001B[38;5;241m.\u001B[39m_is_categorical \u001B[38;5;241m=\u001B[39m \u001B[38;5;28misinstance\u001B[39m(data\u001B[38;5;241m.\u001B[39mdtype, CategoricalDtype)\n\u001B[1;32m    192\u001B[0m     \u001B[38;5;28mself\u001B[39m\u001B[38;5;241m.\u001B[39m_is_string \u001B[38;5;241m=\u001B[39m \u001B[38;5;28misinstance\u001B[39m(data\u001B[38;5;241m.\u001B[39mdtype, StringDtype)\n",
      "File \u001B[0;32m~/.cache/pypoetry/virtualenvs/datalakehouse-lowcost-LhbOqF2c-py3.11/lib/python3.11/site-packages/pandas/core/strings/accessor.py:244\u001B[0m, in \u001B[0;36mStringMethods._validate\u001B[0;34m(data)\u001B[0m\n\u001B[1;32m    241\u001B[0m inferred_dtype \u001B[38;5;241m=\u001B[39m lib\u001B[38;5;241m.\u001B[39minfer_dtype(values, skipna\u001B[38;5;241m=\u001B[39m\u001B[38;5;28;01mTrue\u001B[39;00m)\n\u001B[1;32m    243\u001B[0m \u001B[38;5;28;01mif\u001B[39;00m inferred_dtype \u001B[38;5;129;01mnot\u001B[39;00m \u001B[38;5;129;01min\u001B[39;00m allowed_types:\n\u001B[0;32m--> 244\u001B[0m     \u001B[38;5;28;01mraise\u001B[39;00m \u001B[38;5;167;01mAttributeError\u001B[39;00m(\u001B[38;5;124m\"\u001B[39m\u001B[38;5;124mCan only use .str accessor with string values!\u001B[39m\u001B[38;5;124m\"\u001B[39m)\n\u001B[1;32m    245\u001B[0m \u001B[38;5;28;01mreturn\u001B[39;00m inferred_dtype\n",
      "\u001B[0;31mAttributeError\u001B[0m: Can only use .str accessor with string values!"
     ]
    }
   ],
   "source": [
    "km_df['KM_OCIOSA'] = km_df['KM_OCIOSA'].str.replace(',', '.')\n",
    "km_df['KM_OCIOSA'] = pd.to_numeric(km_df['KM_OCIOSA'], downcast='float')"
   ],
   "metadata": {
    "collapsed": false,
    "ExecuteTime": {
     "end_time": "2024-01-08T18:52:34.495824489Z",
     "start_time": "2024-01-08T18:52:34.484521039Z"
    }
   },
   "id": "5f5103ae41c9a4fe",
   "execution_count": 55
  },
  {
   "cell_type": "code",
   "outputs": [
    {
     "ename": "AttributeError",
     "evalue": "Can only use .str accessor with string values!",
     "output_type": "error",
     "traceback": [
      "\u001B[0;31m---------------------------------------------------------------------------\u001B[0m",
      "\u001B[0;31mAttributeError\u001B[0m                            Traceback (most recent call last)",
      "Cell \u001B[0;32mIn[56], line 1\u001B[0m\n\u001B[0;32m----> 1\u001B[0m km_df[\u001B[38;5;124m'\u001B[39m\u001B[38;5;124mKM_LINHA\u001B[39m\u001B[38;5;124m'\u001B[39m] \u001B[38;5;241m=\u001B[39m \u001B[43mkm_df\u001B[49m\u001B[43m[\u001B[49m\u001B[38;5;124;43m'\u001B[39;49m\u001B[38;5;124;43mKM_LINHA\u001B[39;49m\u001B[38;5;124;43m'\u001B[39;49m\u001B[43m]\u001B[49m\u001B[38;5;241;43m.\u001B[39;49m\u001B[43mstr\u001B[49m\u001B[38;5;241m.\u001B[39mreplace(\u001B[38;5;124m'\u001B[39m\u001B[38;5;124m,\u001B[39m\u001B[38;5;124m'\u001B[39m, \u001B[38;5;124m'\u001B[39m\u001B[38;5;124m.\u001B[39m\u001B[38;5;124m'\u001B[39m)\n\u001B[1;32m      2\u001B[0m km_df[\u001B[38;5;124m'\u001B[39m\u001B[38;5;124mKM_LINHA\u001B[39m\u001B[38;5;124m'\u001B[39m] \u001B[38;5;241m=\u001B[39m pd\u001B[38;5;241m.\u001B[39mto_numeric(km_df[\u001B[38;5;124m'\u001B[39m\u001B[38;5;124mKM_LINHA\u001B[39m\u001B[38;5;124m'\u001B[39m], downcast\u001B[38;5;241m=\u001B[39m\u001B[38;5;124m'\u001B[39m\u001B[38;5;124mfloat\u001B[39m\u001B[38;5;124m'\u001B[39m)\n",
      "File \u001B[0;32m~/.cache/pypoetry/virtualenvs/datalakehouse-lowcost-LhbOqF2c-py3.11/lib/python3.11/site-packages/pandas/core/generic.py:6204\u001B[0m, in \u001B[0;36mNDFrame.__getattr__\u001B[0;34m(self, name)\u001B[0m\n\u001B[1;32m   6197\u001B[0m \u001B[38;5;28;01mif\u001B[39;00m (\n\u001B[1;32m   6198\u001B[0m     name \u001B[38;5;129;01mnot\u001B[39;00m \u001B[38;5;129;01min\u001B[39;00m \u001B[38;5;28mself\u001B[39m\u001B[38;5;241m.\u001B[39m_internal_names_set\n\u001B[1;32m   6199\u001B[0m     \u001B[38;5;129;01mand\u001B[39;00m name \u001B[38;5;129;01mnot\u001B[39;00m \u001B[38;5;129;01min\u001B[39;00m \u001B[38;5;28mself\u001B[39m\u001B[38;5;241m.\u001B[39m_metadata\n\u001B[1;32m   6200\u001B[0m     \u001B[38;5;129;01mand\u001B[39;00m name \u001B[38;5;129;01mnot\u001B[39;00m \u001B[38;5;129;01min\u001B[39;00m \u001B[38;5;28mself\u001B[39m\u001B[38;5;241m.\u001B[39m_accessors\n\u001B[1;32m   6201\u001B[0m     \u001B[38;5;129;01mand\u001B[39;00m \u001B[38;5;28mself\u001B[39m\u001B[38;5;241m.\u001B[39m_info_axis\u001B[38;5;241m.\u001B[39m_can_hold_identifiers_and_holds_name(name)\n\u001B[1;32m   6202\u001B[0m ):\n\u001B[1;32m   6203\u001B[0m     \u001B[38;5;28;01mreturn\u001B[39;00m \u001B[38;5;28mself\u001B[39m[name]\n\u001B[0;32m-> 6204\u001B[0m \u001B[38;5;28;01mreturn\u001B[39;00m \u001B[38;5;28;43mobject\u001B[39;49m\u001B[38;5;241;43m.\u001B[39;49m\u001B[38;5;21;43m__getattribute__\u001B[39;49m\u001B[43m(\u001B[49m\u001B[38;5;28;43mself\u001B[39;49m\u001B[43m,\u001B[49m\u001B[43m \u001B[49m\u001B[43mname\u001B[49m\u001B[43m)\u001B[49m\n",
      "File \u001B[0;32m~/.cache/pypoetry/virtualenvs/datalakehouse-lowcost-LhbOqF2c-py3.11/lib/python3.11/site-packages/pandas/core/accessor.py:224\u001B[0m, in \u001B[0;36mCachedAccessor.__get__\u001B[0;34m(self, obj, cls)\u001B[0m\n\u001B[1;32m    221\u001B[0m \u001B[38;5;28;01mif\u001B[39;00m obj \u001B[38;5;129;01mis\u001B[39;00m \u001B[38;5;28;01mNone\u001B[39;00m:\n\u001B[1;32m    222\u001B[0m     \u001B[38;5;66;03m# we're accessing the attribute of the class, i.e., Dataset.geo\u001B[39;00m\n\u001B[1;32m    223\u001B[0m     \u001B[38;5;28;01mreturn\u001B[39;00m \u001B[38;5;28mself\u001B[39m\u001B[38;5;241m.\u001B[39m_accessor\n\u001B[0;32m--> 224\u001B[0m accessor_obj \u001B[38;5;241m=\u001B[39m \u001B[38;5;28;43mself\u001B[39;49m\u001B[38;5;241;43m.\u001B[39;49m\u001B[43m_accessor\u001B[49m\u001B[43m(\u001B[49m\u001B[43mobj\u001B[49m\u001B[43m)\u001B[49m\n\u001B[1;32m    225\u001B[0m \u001B[38;5;66;03m# Replace the property with the accessor object. Inspired by:\u001B[39;00m\n\u001B[1;32m    226\u001B[0m \u001B[38;5;66;03m# https://www.pydanny.com/cached-property.html\u001B[39;00m\n\u001B[1;32m    227\u001B[0m \u001B[38;5;66;03m# We need to use object.__setattr__ because we overwrite __setattr__ on\u001B[39;00m\n\u001B[1;32m    228\u001B[0m \u001B[38;5;66;03m# NDFrame\u001B[39;00m\n\u001B[1;32m    229\u001B[0m \u001B[38;5;28mobject\u001B[39m\u001B[38;5;241m.\u001B[39m\u001B[38;5;21m__setattr__\u001B[39m(obj, \u001B[38;5;28mself\u001B[39m\u001B[38;5;241m.\u001B[39m_name, accessor_obj)\n",
      "File \u001B[0;32m~/.cache/pypoetry/virtualenvs/datalakehouse-lowcost-LhbOqF2c-py3.11/lib/python3.11/site-packages/pandas/core/strings/accessor.py:190\u001B[0m, in \u001B[0;36mStringMethods.__init__\u001B[0;34m(self, data)\u001B[0m\n\u001B[1;32m    187\u001B[0m \u001B[38;5;28;01mdef\u001B[39;00m \u001B[38;5;21m__init__\u001B[39m(\u001B[38;5;28mself\u001B[39m, data) \u001B[38;5;241m-\u001B[39m\u001B[38;5;241m>\u001B[39m \u001B[38;5;28;01mNone\u001B[39;00m:\n\u001B[1;32m    188\u001B[0m     \u001B[38;5;28;01mfrom\u001B[39;00m \u001B[38;5;21;01mpandas\u001B[39;00m\u001B[38;5;21;01m.\u001B[39;00m\u001B[38;5;21;01mcore\u001B[39;00m\u001B[38;5;21;01m.\u001B[39;00m\u001B[38;5;21;01marrays\u001B[39;00m\u001B[38;5;21;01m.\u001B[39;00m\u001B[38;5;21;01mstring_\u001B[39;00m \u001B[38;5;28;01mimport\u001B[39;00m StringDtype\n\u001B[0;32m--> 190\u001B[0m     \u001B[38;5;28mself\u001B[39m\u001B[38;5;241m.\u001B[39m_inferred_dtype \u001B[38;5;241m=\u001B[39m \u001B[38;5;28;43mself\u001B[39;49m\u001B[38;5;241;43m.\u001B[39;49m\u001B[43m_validate\u001B[49m\u001B[43m(\u001B[49m\u001B[43mdata\u001B[49m\u001B[43m)\u001B[49m\n\u001B[1;32m    191\u001B[0m     \u001B[38;5;28mself\u001B[39m\u001B[38;5;241m.\u001B[39m_is_categorical \u001B[38;5;241m=\u001B[39m \u001B[38;5;28misinstance\u001B[39m(data\u001B[38;5;241m.\u001B[39mdtype, CategoricalDtype)\n\u001B[1;32m    192\u001B[0m     \u001B[38;5;28mself\u001B[39m\u001B[38;5;241m.\u001B[39m_is_string \u001B[38;5;241m=\u001B[39m \u001B[38;5;28misinstance\u001B[39m(data\u001B[38;5;241m.\u001B[39mdtype, StringDtype)\n",
      "File \u001B[0;32m~/.cache/pypoetry/virtualenvs/datalakehouse-lowcost-LhbOqF2c-py3.11/lib/python3.11/site-packages/pandas/core/strings/accessor.py:244\u001B[0m, in \u001B[0;36mStringMethods._validate\u001B[0;34m(data)\u001B[0m\n\u001B[1;32m    241\u001B[0m inferred_dtype \u001B[38;5;241m=\u001B[39m lib\u001B[38;5;241m.\u001B[39minfer_dtype(values, skipna\u001B[38;5;241m=\u001B[39m\u001B[38;5;28;01mTrue\u001B[39;00m)\n\u001B[1;32m    243\u001B[0m \u001B[38;5;28;01mif\u001B[39;00m inferred_dtype \u001B[38;5;129;01mnot\u001B[39;00m \u001B[38;5;129;01min\u001B[39;00m allowed_types:\n\u001B[0;32m--> 244\u001B[0m     \u001B[38;5;28;01mraise\u001B[39;00m \u001B[38;5;167;01mAttributeError\u001B[39;00m(\u001B[38;5;124m\"\u001B[39m\u001B[38;5;124mCan only use .str accessor with string values!\u001B[39m\u001B[38;5;124m\"\u001B[39m)\n\u001B[1;32m    245\u001B[0m \u001B[38;5;28;01mreturn\u001B[39;00m inferred_dtype\n",
      "\u001B[0;31mAttributeError\u001B[0m: Can only use .str accessor with string values!"
     ]
    }
   ],
   "source": [
    "km_df['KM_LINHA'] = km_df['KM_LINHA'].str.replace(',', '.')\n",
    "km_df['KM_LINHA'] = pd.to_numeric(km_df['KM_LINHA'], downcast='float')"
   ],
   "metadata": {
    "collapsed": false,
    "ExecuteTime": {
     "end_time": "2024-01-08T18:52:38.732995140Z",
     "start_time": "2024-01-08T18:52:38.701568340Z"
    }
   },
   "id": "40b0cbaff9d34693",
   "execution_count": 56
  },
  {
   "cell_type": "code",
   "outputs": [
    {
     "data": {
      "text/plain": "PREFIXO_CARRO             int16\nDATA             datetime64[ns]\nID_LINHA                  int16\nFX_HORARIA               object\nKM_OCIOSA               float32\nLITROS_LINHA            float32\nKM_LINHA                float32\ndtype: object"
     },
     "execution_count": 57,
     "metadata": {},
     "output_type": "execute_result"
    }
   ],
   "source": [
    "km_df.dtypes"
   ],
   "metadata": {
    "collapsed": false,
    "ExecuteTime": {
     "end_time": "2024-01-08T18:52:39.665634253Z",
     "start_time": "2024-01-08T18:52:39.660640128Z"
    }
   },
   "id": "f79848a0255ec03e",
   "execution_count": 57
  },
  {
   "cell_type": "markdown",
   "source": [
    "Conclusão da tabela fato km_rodado"
   ],
   "metadata": {
    "collapsed": false
   },
   "id": "be54b2f2b616cb47"
  },
  {
   "cell_type": "code",
   "outputs": [],
   "source": [
    "km_df.to_parquet('/home/marcelo-borges/Documentos/Projetos/datalakehouse_lowcost/elt/transmission/fact/fact_km_rodado.parquet')"
   ],
   "metadata": {
    "collapsed": false,
    "ExecuteTime": {
     "end_time": "2024-01-08T18:52:46.500142335Z",
     "start_time": "2024-01-08T18:52:46.378587599Z"
    }
   },
   "id": "af99b7749937eb99",
   "execution_count": 58
  },
  {
   "cell_type": "markdown",
   "source": [
    "#### Tabela dimensão de Linha"
   ],
   "metadata": {
    "collapsed": false
   },
   "id": "3c2487e446a0862f"
  },
  {
   "cell_type": "code",
   "outputs": [],
   "source": [
    "linha_df=conn.execute(f\"\"\n",
    "                f\"SELECT * FROM read_parquet('{folder_path}dna_linha_*.parquet')\"\n",
    "                f\"order by DATA_LINHA\").fetchdf()"
   ],
   "metadata": {
    "collapsed": false,
    "ExecuteTime": {
     "end_time": "2024-01-08T18:52:49.133625881Z",
     "start_time": "2024-01-08T18:52:48.900126388Z"
    }
   },
   "id": "578c1e48c4638a6",
   "execution_count": 59
  },
  {
   "cell_type": "code",
   "outputs": [
    {
     "data": {
      "text/plain": "     ID_LINHA_BI  DATA_LINHA DIA MES   ANO ID_EMPRESA ID_LINHA LINHA_NUM  \\\n0  2023010125206  01/01/2023  01  01  2023          2     5206       941   \n1  2023010125341  01/01/2023  01  01  2023          2     5341         9   \n2  2023010125069  01/01/2023  01  01  2023          2     5069         3   \n3  2023010125070  01/01/2023  01  01  2023          2     5070         4   \n4  2023010123601  01/01/2023  01  01  2023          2     3601       826   \n\n  LINHA_ALFA                                    DESCRICAO_LINHA  \\\n0          A                 T. CRUZEIRO/PCA TAMANDARE/EIXO T-8   \n1          A  T. PE. PELAGIO / AV. CASTELO BRANCO / T. ISIDORIA   \n2          I                         T. MARANATA / T. BANDEIRAS   \n3          A                  T. GARAVELO /  CENTRO - EIXO T-09   \n4                                   CATRACA DE SOLO T. GARAVELO   \n\n        TIPO_LINHA       LOCAL_DE_CONTROLE CODIGO_UN   NOME_UN CODIGO_UGB  \\\n0          TRONCAL             T. CRUZEIRO       004       SUL       0941   \n1          TRONCAL  TERMINAL PADRE PELAGIO       005   SUDESTE       0009   \n2          TRONCAL             T. MARANATA       001  SUDOESTE     0003-A   \n3          TRONCAL             T. GARAVELO       001  SUDOESTE     0004-A   \n4  CATRACA DE SOLO             T. GARAVELO       001  SUDOESTE       0826   \n\n                                    NOME_UGB CODIGO_TN  \\\n0         T. CRUZEIRO/PÇA TAMANDARÉ/EIXO T-8        01   \n1             T. ISIDÓRIA / T. PADRE PELÁGIO        01   \n2  TERMINAL MARANATA / RODOVIARIA - EIXO T-7        01   \n3      TERMINAL GARAVELO / CENTRO - EIXO T-9        01   \n4          CATRACA DE SOLO TERMINAL GARAVELO        01   \n\n                              NOME_TN  \n0  SERVIÇO CONVENCIONAL ( ESSENCIAL )  \n1  SERVIÇO CONVENCIONAL ( ESSENCIAL )  \n2  SERVIÇO CONVENCIONAL ( ESSENCIAL )  \n3  SERVIÇO CONVENCIONAL ( ESSENCIAL )  \n4  SERVIÇO CONVENCIONAL ( ESSENCIAL )  ",
      "text/html": "<div>\n<style scoped>\n    .dataframe tbody tr th:only-of-type {\n        vertical-align: middle;\n    }\n\n    .dataframe tbody tr th {\n        vertical-align: top;\n    }\n\n    .dataframe thead th {\n        text-align: right;\n    }\n</style>\n<table border=\"1\" class=\"dataframe\">\n  <thead>\n    <tr style=\"text-align: right;\">\n      <th></th>\n      <th>ID_LINHA_BI</th>\n      <th>DATA_LINHA</th>\n      <th>DIA</th>\n      <th>MES</th>\n      <th>ANO</th>\n      <th>ID_EMPRESA</th>\n      <th>ID_LINHA</th>\n      <th>LINHA_NUM</th>\n      <th>LINHA_ALFA</th>\n      <th>DESCRICAO_LINHA</th>\n      <th>TIPO_LINHA</th>\n      <th>LOCAL_DE_CONTROLE</th>\n      <th>CODIGO_UN</th>\n      <th>NOME_UN</th>\n      <th>CODIGO_UGB</th>\n      <th>NOME_UGB</th>\n      <th>CODIGO_TN</th>\n      <th>NOME_TN</th>\n    </tr>\n  </thead>\n  <tbody>\n    <tr>\n      <th>0</th>\n      <td>2023010125206</td>\n      <td>01/01/2023</td>\n      <td>01</td>\n      <td>01</td>\n      <td>2023</td>\n      <td>2</td>\n      <td>5206</td>\n      <td>941</td>\n      <td>A</td>\n      <td>T. CRUZEIRO/PCA TAMANDARE/EIXO T-8</td>\n      <td>TRONCAL</td>\n      <td>T. CRUZEIRO</td>\n      <td>004</td>\n      <td>SUL</td>\n      <td>0941</td>\n      <td>T. CRUZEIRO/PÇA TAMANDARÉ/EIXO T-8</td>\n      <td>01</td>\n      <td>SERVIÇO CONVENCIONAL ( ESSENCIAL )</td>\n    </tr>\n    <tr>\n      <th>1</th>\n      <td>2023010125341</td>\n      <td>01/01/2023</td>\n      <td>01</td>\n      <td>01</td>\n      <td>2023</td>\n      <td>2</td>\n      <td>5341</td>\n      <td>9</td>\n      <td>A</td>\n      <td>T. PE. PELAGIO / AV. CASTELO BRANCO / T. ISIDORIA</td>\n      <td>TRONCAL</td>\n      <td>TERMINAL PADRE PELAGIO</td>\n      <td>005</td>\n      <td>SUDESTE</td>\n      <td>0009</td>\n      <td>T. ISIDÓRIA / T. PADRE PELÁGIO</td>\n      <td>01</td>\n      <td>SERVIÇO CONVENCIONAL ( ESSENCIAL )</td>\n    </tr>\n    <tr>\n      <th>2</th>\n      <td>2023010125069</td>\n      <td>01/01/2023</td>\n      <td>01</td>\n      <td>01</td>\n      <td>2023</td>\n      <td>2</td>\n      <td>5069</td>\n      <td>3</td>\n      <td>I</td>\n      <td>T. MARANATA / T. BANDEIRAS</td>\n      <td>TRONCAL</td>\n      <td>T. MARANATA</td>\n      <td>001</td>\n      <td>SUDOESTE</td>\n      <td>0003-A</td>\n      <td>TERMINAL MARANATA / RODOVIARIA - EIXO T-7</td>\n      <td>01</td>\n      <td>SERVIÇO CONVENCIONAL ( ESSENCIAL )</td>\n    </tr>\n    <tr>\n      <th>3</th>\n      <td>2023010125070</td>\n      <td>01/01/2023</td>\n      <td>01</td>\n      <td>01</td>\n      <td>2023</td>\n      <td>2</td>\n      <td>5070</td>\n      <td>4</td>\n      <td>A</td>\n      <td>T. GARAVELO /  CENTRO - EIXO T-09</td>\n      <td>TRONCAL</td>\n      <td>T. GARAVELO</td>\n      <td>001</td>\n      <td>SUDOESTE</td>\n      <td>0004-A</td>\n      <td>TERMINAL GARAVELO / CENTRO - EIXO T-9</td>\n      <td>01</td>\n      <td>SERVIÇO CONVENCIONAL ( ESSENCIAL )</td>\n    </tr>\n    <tr>\n      <th>4</th>\n      <td>2023010123601</td>\n      <td>01/01/2023</td>\n      <td>01</td>\n      <td>01</td>\n      <td>2023</td>\n      <td>2</td>\n      <td>3601</td>\n      <td>826</td>\n      <td></td>\n      <td>CATRACA DE SOLO T. GARAVELO</td>\n      <td>CATRACA DE SOLO</td>\n      <td>T. GARAVELO</td>\n      <td>001</td>\n      <td>SUDOESTE</td>\n      <td>0826</td>\n      <td>CATRACA DE SOLO TERMINAL GARAVELO</td>\n      <td>01</td>\n      <td>SERVIÇO CONVENCIONAL ( ESSENCIAL )</td>\n    </tr>\n  </tbody>\n</table>\n</div>"
     },
     "execution_count": 60,
     "metadata": {},
     "output_type": "execute_result"
    }
   ],
   "source": [
    "linha_df.head(5)"
   ],
   "metadata": {
    "collapsed": false,
    "ExecuteTime": {
     "end_time": "2024-01-08T18:52:49.179508048Z",
     "start_time": "2024-01-08T18:52:49.173469380Z"
    }
   },
   "id": "92eee39b4373834a",
   "execution_count": 60
  },
  {
   "cell_type": "markdown",
   "source": [
    "exclusão de todas as colunas que não são pertinentes a dimensão linha"
   ],
   "metadata": {
    "collapsed": false
   },
   "id": "ca4943c100a8d47f"
  },
  {
   "cell_type": "code",
   "outputs": [],
   "source": [
    "linha_df.drop(columns=['ID_LINHA_BI','DATA_LINHA','DIA','MES','ANO','ID_EMPRESA','CODIGO_TN','NOME_TN'], inplace=True)"
   ],
   "metadata": {
    "collapsed": false,
    "ExecuteTime": {
     "end_time": "2024-01-08T18:52:49.764599351Z",
     "start_time": "2024-01-08T18:52:49.746050199Z"
    }
   },
   "id": "6ba61551d5820745",
   "execution_count": 61
  },
  {
   "cell_type": "code",
   "outputs": [],
   "source": [
    "linha_df.drop_duplicates(inplace=True)"
   ],
   "metadata": {
    "collapsed": false,
    "ExecuteTime": {
     "end_time": "2024-01-08T18:52:50.231559735Z",
     "start_time": "2024-01-08T18:52:50.160233557Z"
    }
   },
   "id": "d0c1841a3c155b69",
   "execution_count": 62
  },
  {
   "cell_type": "code",
   "outputs": [],
   "source": [
    "linha_df.to_parquet('/home/marcelo-borges/Documentos/Projetos/datalakehouse_lowcost/elt/transmission/dimension/dim_linha.parquet')"
   ],
   "metadata": {
    "collapsed": false,
    "ExecuteTime": {
     "end_time": "2024-01-08T18:52:50.553473519Z",
     "start_time": "2024-01-08T18:52:50.548404971Z"
    }
   },
   "id": "fcfc1e54a0c4b550",
   "execution_count": 63
  },
  {
   "cell_type": "markdown",
   "source": [
    "#### Tabela dimensão de Calendário"
   ],
   "metadata": {
    "collapsed": false
   },
   "id": "f47f5b4422612398"
  },
  {
   "cell_type": "code",
   "outputs": [],
   "source": [
    "folder_path = '/home/marcelo-borges/Documentos/Projetos/datalakehouse_lowcost/elt/tmp/'"
   ],
   "metadata": {
    "collapsed": false,
    "ExecuteTime": {
     "end_time": "2024-01-08T19:05:45.665684431Z",
     "start_time": "2024-01-08T19:05:45.623643886Z"
    }
   },
   "id": "55581f7787253d0a",
   "execution_count": 98
  },
  {
   "cell_type": "code",
   "outputs": [],
   "source": [
    "calendar_df=conn.execute(f\"\"\n",
    "                f\"SELECT * FROM read_parquet('{folder_path}dna_calendario_*.parquet')\"\n",
    "                f\"order by ID_CALENDARIO \").fetchdf()"
   ],
   "metadata": {
    "collapsed": false,
    "ExecuteTime": {
     "end_time": "2024-01-08T19:05:45.902798881Z",
     "start_time": "2024-01-08T19:05:45.862288248Z"
    }
   },
   "id": "c69ca850a02c65ed",
   "execution_count": 99
  },
  {
   "cell_type": "code",
   "outputs": [],
   "source": [
    "calendar_df.drop(columns=['ID_EMPRESA', 'NOME_EMPRESA','SIGLA_EMPRESA'], inplace=True)"
   ],
   "metadata": {
    "collapsed": false,
    "ExecuteTime": {
     "end_time": "2024-01-08T19:05:46.160345764Z",
     "start_time": "2024-01-08T19:05:46.155779290Z"
    }
   },
   "id": "e8c7bc33b40b583d",
   "execution_count": 100
  },
  {
   "cell_type": "markdown",
   "source": [
    "casting"
   ],
   "metadata": {
    "collapsed": false
   },
   "id": "6afa0b96a5afdebe"
  },
  {
   "cell_type": "code",
   "outputs": [],
   "source": [
    "calendar_df['DATA'] = pd.to_datetime(calendar_df['DATA'], format='%d/%m/%Y')\n",
    "# calendar_df['DATA'] = calendar_df['DATA'].dt.strftime('%d/%m/%Y')"
   ],
   "metadata": {
    "collapsed": false,
    "ExecuteTime": {
     "end_time": "2024-01-08T19:05:46.935675141Z",
     "start_time": "2024-01-08T19:05:46.932051774Z"
    }
   },
   "id": "1d1fe43d64dc1af0",
   "execution_count": 101
  },
  {
   "cell_type": "code",
   "outputs": [],
   "source": [
    "calendar_df['DIA'] = calendar_df['DATA'].dt.day\n",
    "calendar_df['MES'] = calendar_df['DATA'].dt.month\n",
    "calendar_df['ANO'] = calendar_df['DATA'].dt.year"
   ],
   "metadata": {
    "collapsed": false,
    "ExecuteTime": {
     "end_time": "2024-01-08T19:05:47.880631468Z",
     "start_time": "2024-01-08T19:05:47.871822366Z"
    }
   },
   "id": "10fedd674b0d7f28",
   "execution_count": 102
  },
  {
   "cell_type": "code",
   "outputs": [
    {
     "data": {
      "text/plain": "DATA                  datetime64[ns]\nID_CALENDARIO                  int16\nID_OPERACAO_TIPO                int8\nNOME_OPERACAO_TIPO            object\nDIA                            int32\nMES                            int32\nANO                            int32\ndtype: object"
     },
     "execution_count": 107,
     "metadata": {},
     "output_type": "execute_result"
    }
   ],
   "source": [
    "calendar_df.dtypes"
   ],
   "metadata": {
    "collapsed": false,
    "ExecuteTime": {
     "end_time": "2024-01-08T19:08:26.002081295Z",
     "start_time": "2024-01-08T19:08:25.990799706Z"
    }
   },
   "id": "f4915c7f256fa05f",
   "execution_count": 107
  },
  {
   "cell_type": "markdown",
   "source": [
    "casting"
   ],
   "metadata": {
    "collapsed": false
   },
   "id": "44d8d7e239b19de1"
  },
  {
   "cell_type": "code",
   "outputs": [],
   "source": [
    "calendar_df['ID_CALENDARIO'] = pd.to_numeric(calendar_df['ID_CALENDARIO'], downcast='integer')\n",
    "calendar_df['ID_OPERACAO_TIPO'] = pd.to_numeric(calendar_df['ID_OPERACAO_TIPO'], downcast='integer')"
   ],
   "metadata": {
    "collapsed": false,
    "ExecuteTime": {
     "end_time": "2024-01-08T19:08:20.057493962Z",
     "start_time": "2024-01-08T19:08:20.015481818Z"
    }
   },
   "id": "83b90495a9356b9c",
   "execution_count": 106
  },
  {
   "cell_type": "code",
   "outputs": [],
   "source": [
    "calendar_df.to_parquet('/home/marcelo-borges/Documentos/Projetos/datalakehouse_lowcost/elt/transmission/dimension/dim_calendar.parquet')"
   ],
   "metadata": {
    "collapsed": false,
    "ExecuteTime": {
     "end_time": "2024-01-08T19:09:30.213534068Z",
     "start_time": "2024-01-08T19:09:30.170187473Z"
    }
   },
   "id": "492f96a6bc7022f7",
   "execution_count": 108
  },
  {
   "cell_type": "code",
   "outputs": [],
   "source": [],
   "metadata": {
    "collapsed": false
   },
   "id": "573628e9e41ca47e"
  }
 ],
 "metadata": {
  "kernelspec": {
   "display_name": "Python 3",
   "language": "python",
   "name": "python3"
  },
  "language_info": {
   "codemirror_mode": {
    "name": "ipython",
    "version": 2
   },
   "file_extension": ".py",
   "mimetype": "text/x-python",
   "name": "python",
   "nbconvert_exporter": "python",
   "pygments_lexer": "ipython2",
   "version": "2.7.6"
  }
 },
 "nbformat": 4,
 "nbformat_minor": 5
}
